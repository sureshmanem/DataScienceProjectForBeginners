{
 "cells": [
  {
   "cell_type": "markdown",
   "id": "f0a675ed",
   "metadata": {},
   "source": [
    "Exploratory Data Analysis using Python\n",
    "To show how to perform Exploratory Data Analysis using Python, I will use a dataset based on my Instagram reach. You can download the dataset from here https://statso.io/instagram-reach-analysis-case-study/.\n",
    "\n",
    "So without wasting any time, let’s get started with Exploratory Data Analysis by importing the necessary Python libraries and the dataset:"
   ]
  },
  {
   "cell_type": "code",
   "execution_count": 2,
   "id": "3a72a129",
   "metadata": {},
   "outputs": [],
   "source": [
    "import pandas as pd\n",
    "import plotly.express as px\n",
    "import plotly.graph_objects as go\n",
    "import plotly.io as pio\n",
    "pio.templates.default = \"plotly_white\"\n",
    "\n",
    "data = pd.read_csv(\"Instagram data.csv\", encoding='latin-1')"
   ]
  },
  {
   "cell_type": "code",
   "execution_count": null,
   "id": "f23bf9a6",
   "metadata": {},
   "outputs": [
    {
     "name": "stdout",
     "output_type": "stream",
     "text": [
      "   Impressions  From Home  From Hashtags  From Explore  From Other  Saves  \\\n",
      "0         3920       2586           1028           619          56     98   \n",
      "1         5394       2727           1838          1174          78    194   \n",
      "2         4021       2085           1188             0         533     41   \n",
      "3         4528       2700            621           932          73    172   \n",
      "4         2518       1704            255           279          37     96   \n",
      "\n",
      "   Comments  Shares  Likes  Profile Visits  Follows  \\\n",
      "0         9       5    162              35        2   \n",
      "1         7      14    224              48       10   \n",
      "2        11       1    131              62       12   \n",
      "3        10       7    213              23        8   \n",
      "4         5       4    123               8        0   \n",
      "\n",
      "                                             Caption  \\\n",
      "0  Here are some of the most important data visua...   \n",
      "1  Here are some of the best data science project...   \n",
      "2  Learn how to train a machine learning model an...   \n",
      "3  Heres how you can write a Python program to d...   \n",
      "4  Plotting annotations while visualizing your da...   \n",
      "\n",
      "                                            Hashtags  \n",
      "0  #finance #money #business #investing #investme...  \n",
      "1  #healthcare #health #covid #data #datascience ...  \n",
      "2  #data #datascience #dataanalysis #dataanalytic...  \n",
      "3  #python #pythonprogramming #pythonprojects #py...  \n",
      "4  #datavisualization #datascience #data #dataana...  \n"
     ]
    }
   ],
   "source": [
    "# Now let’s have a look at the first five rows of the data:\n",
    "print(data.head())"
   ]
  },
  {
   "cell_type": "code",
   "execution_count": null,
   "id": "72f63788",
   "metadata": {},
   "outputs": [
    {
     "name": "stdout",
     "output_type": "stream",
     "text": [
      "Index(['Impressions', 'From Home', 'From Hashtags', 'From Explore',\n",
      "       'From Other', 'Saves', 'Comments', 'Shares', 'Likes', 'Profile Visits',\n",
      "       'Follows', 'Caption', 'Hashtags'],\n",
      "      dtype='object')\n"
     ]
    }
   ],
   "source": [
    "# Now let’s have a look at all the columns the dataset contains:\n",
    "print(data.columns)"
   ]
  },
  {
   "cell_type": "code",
   "execution_count": null,
   "id": "d3d834c9",
   "metadata": {},
   "outputs": [
    {
     "name": "stdout",
     "output_type": "stream",
     "text": [
      "<class 'pandas.core.frame.DataFrame'>\n",
      "RangeIndex: 119 entries, 0 to 118\n",
      "Data columns (total 13 columns):\n",
      " #   Column          Non-Null Count  Dtype \n",
      "---  ------          --------------  ----- \n",
      " 0   Impressions     119 non-null    int64 \n",
      " 1   From Home       119 non-null    int64 \n",
      " 2   From Hashtags   119 non-null    int64 \n",
      " 3   From Explore    119 non-null    int64 \n",
      " 4   From Other      119 non-null    int64 \n",
      " 5   Saves           119 non-null    int64 \n",
      " 6   Comments        119 non-null    int64 \n",
      " 7   Shares          119 non-null    int64 \n",
      " 8   Likes           119 non-null    int64 \n",
      " 9   Profile Visits  119 non-null    int64 \n",
      " 10  Follows         119 non-null    int64 \n",
      " 11  Caption         119 non-null    object\n",
      " 12  Hashtags        119 non-null    object\n",
      "dtypes: int64(11), object(2)\n",
      "memory usage: 12.2+ KB\n",
      "None\n"
     ]
    }
   ],
   "source": [
    "# Now let’s have a look at the column info:\n",
    "print(data.info())"
   ]
  },
  {
   "cell_type": "code",
   "execution_count": null,
   "id": "683a9c43",
   "metadata": {},
   "outputs": [
    {
     "name": "stdout",
     "output_type": "stream",
     "text": [
      "        Impressions     From Home  From Hashtags  From Explore   From Other  \\\n",
      "count    119.000000    119.000000     119.000000    119.000000   119.000000   \n",
      "mean    5703.991597   2475.789916    1887.512605   1078.100840   171.092437   \n",
      "std     4843.780105   1489.386348    1884.361443   2613.026132   289.431031   \n",
      "min     1941.000000   1133.000000     116.000000      0.000000     9.000000   \n",
      "25%     3467.000000   1945.000000     726.000000    157.500000    38.000000   \n",
      "50%     4289.000000   2207.000000    1278.000000    326.000000    74.000000   \n",
      "75%     6138.000000   2602.500000    2363.500000    689.500000   196.000000   \n",
      "max    36919.000000  13473.000000   11817.000000  17414.000000  2547.000000   \n",
      "\n",
      "             Saves    Comments      Shares       Likes  Profile Visits  \\\n",
      "count   119.000000  119.000000  119.000000  119.000000      119.000000   \n",
      "mean    153.310924    6.663866    9.361345  173.781513       50.621849   \n",
      "std     156.317731    3.544576   10.089205   82.378947       87.088402   \n",
      "min      22.000000    0.000000    0.000000   72.000000        4.000000   \n",
      "25%      65.000000    4.000000    3.000000  121.500000       15.000000   \n",
      "50%     109.000000    6.000000    6.000000  151.000000       23.000000   \n",
      "75%     169.000000    8.000000   13.500000  204.000000       42.000000   \n",
      "max    1095.000000   19.000000   75.000000  549.000000      611.000000   \n",
      "\n",
      "          Follows  \n",
      "count  119.000000  \n",
      "mean    20.756303  \n",
      "std     40.921580  \n",
      "min      0.000000  \n",
      "25%      4.000000  \n",
      "50%      8.000000  \n",
      "75%     18.000000  \n",
      "max    260.000000  \n"
     ]
    }
   ],
   "source": [
    "# Next, we look at the descriptive statistics of the data:\n",
    "print(data.describe())"
   ]
  },
  {
   "cell_type": "code",
   "execution_count": null,
   "id": "58caba1e",
   "metadata": {},
   "outputs": [
    {
     "name": "stdout",
     "output_type": "stream",
     "text": [
      "Impressions       0\n",
      "From Home         0\n",
      "From Hashtags     0\n",
      "From Explore      0\n",
      "From Other        0\n",
      "Saves             0\n",
      "Comments          0\n",
      "Shares            0\n",
      "Likes             0\n",
      "Profile Visits    0\n",
      "Follows           0\n",
      "Caption           0\n",
      "Hashtags          0\n",
      "dtype: int64\n"
     ]
    }
   ],
   "source": [
    "# Now, before moving forward, always have a look if your data contains any missing values or not:\n",
    "print(data.isnull().sum())"
   ]
  },
  {
   "cell_type": "markdown",
   "id": "f0237c75",
   "metadata": {},
   "source": [
    "Luckily, this dataset doesn’t have any missing values. If you perform Exploratory Data Analysis on another data with missing values, then you can learn how to fill in missing values in your data from here https://thecleverprogrammer.com/2023/03/14/heres-how-to-fill-in-missing-values-in-a-dataset/#google_vignette. Now let’s move further!\n",
    "\n",
    "When you start exploring your data, always start by exploring the main feature of your data. For example, as we are working on a dataset based on Instagram Reach, we should start by exploring the feature that contains data about reach. In our data, the Impressions column contains the data about the reach of an Instagram post. So let’s have a look at the distribution of the Impressions:"
   ]
  },
  {
   "cell_type": "code",
   "execution_count": 9,
   "id": "1aad7dec",
   "metadata": {},
   "outputs": [
    {
     "data": {
      "application/vnd.plotly.v1+json": {
       "config": {
        "plotlyServerURL": "https://plot.ly"
       },
       "data": [
        {
         "bingroup": "x",
         "hovertemplate": "Impressions=%{x}<br>count=%{y}<extra></extra>",
         "legendgroup": "",
         "marker": {
          "color": "#636efa",
          "pattern": {
           "shape": ""
          }
         },
         "name": "",
         "nbinsx": 10,
         "orientation": "v",
         "showlegend": false,
         "type": "histogram",
         "x": {
          "bdata": "UA8AABIVAAC1DwAAsBEAANYJAAAsDwAAPQoAANUNAAClDgAAExAAAKoIAACiDAAA+BAAAJAMAADtJAAAvxMAAKIPAABhDAAAGBgAAGcJAAAQCAAAhQ8AAHEcAADsCwAAFBIAAPIPAAASFQAAzgoAAFQPAADHCwAAChoAAA4PAAADEQAA9xAAANwXAADbCQAAFwkAAJYPAACPCAAAlQcAAL4+AACGEwAAwRAAACgPAADKDgAAyhAAAC4OAAAKCwAA7xwAAJIoAAC2CwAAahsAAH0LAAAgGQAAqykAAJQPAAByEwAAPA0AAHMRAACuDAAA0BMAAMMYAACPEAAAfg0AAJMdAAAFDQAA6g4AALUqAADCEwAAEQ4AAJgNAADFDQAAFg4AAKYVAACfGQAAJw4AAP0oAABeEQAAjQsAAKIVAABJEgAAmRQAAL8TAACiDwAAYQwAABgYAABnCQAALg4AAAoLAADvHAAAkigAALYLAADsCwAAFBIAAPIPAAASFQAAzgoAAFQPAADHCwAAIRUAAMsUAABBHwAANhAAAAESAADMGAAAPCsAAD8cAAD0QwAAnhoAADFFAAC7FQAA6hIAAI0rAADeJwAAhDUAAGMWAAArEAAAt38AADeQAAA=",
          "dtype": "i4"
         },
         "xaxis": "x",
         "yaxis": "y"
        }
       ],
       "layout": {
        "barmode": "relative",
        "legend": {
         "tracegroupgap": 0
        },
        "template": {
         "data": {
          "bar": [
           {
            "error_x": {
             "color": "#2a3f5f"
            },
            "error_y": {
             "color": "#2a3f5f"
            },
            "marker": {
             "line": {
              "color": "white",
              "width": 0.5
             },
             "pattern": {
              "fillmode": "overlay",
              "size": 10,
              "solidity": 0.2
             }
            },
            "type": "bar"
           }
          ],
          "barpolar": [
           {
            "marker": {
             "line": {
              "color": "white",
              "width": 0.5
             },
             "pattern": {
              "fillmode": "overlay",
              "size": 10,
              "solidity": 0.2
             }
            },
            "type": "barpolar"
           }
          ],
          "carpet": [
           {
            "aaxis": {
             "endlinecolor": "#2a3f5f",
             "gridcolor": "#C8D4E3",
             "linecolor": "#C8D4E3",
             "minorgridcolor": "#C8D4E3",
             "startlinecolor": "#2a3f5f"
            },
            "baxis": {
             "endlinecolor": "#2a3f5f",
             "gridcolor": "#C8D4E3",
             "linecolor": "#C8D4E3",
             "minorgridcolor": "#C8D4E3",
             "startlinecolor": "#2a3f5f"
            },
            "type": "carpet"
           }
          ],
          "choropleth": [
           {
            "colorbar": {
             "outlinewidth": 0,
             "ticks": ""
            },
            "type": "choropleth"
           }
          ],
          "contour": [
           {
            "colorbar": {
             "outlinewidth": 0,
             "ticks": ""
            },
            "colorscale": [
             [
              0,
              "#0d0887"
             ],
             [
              0.1111111111111111,
              "#46039f"
             ],
             [
              0.2222222222222222,
              "#7201a8"
             ],
             [
              0.3333333333333333,
              "#9c179e"
             ],
             [
              0.4444444444444444,
              "#bd3786"
             ],
             [
              0.5555555555555556,
              "#d8576b"
             ],
             [
              0.6666666666666666,
              "#ed7953"
             ],
             [
              0.7777777777777778,
              "#fb9f3a"
             ],
             [
              0.8888888888888888,
              "#fdca26"
             ],
             [
              1,
              "#f0f921"
             ]
            ],
            "type": "contour"
           }
          ],
          "contourcarpet": [
           {
            "colorbar": {
             "outlinewidth": 0,
             "ticks": ""
            },
            "type": "contourcarpet"
           }
          ],
          "heatmap": [
           {
            "colorbar": {
             "outlinewidth": 0,
             "ticks": ""
            },
            "colorscale": [
             [
              0,
              "#0d0887"
             ],
             [
              0.1111111111111111,
              "#46039f"
             ],
             [
              0.2222222222222222,
              "#7201a8"
             ],
             [
              0.3333333333333333,
              "#9c179e"
             ],
             [
              0.4444444444444444,
              "#bd3786"
             ],
             [
              0.5555555555555556,
              "#d8576b"
             ],
             [
              0.6666666666666666,
              "#ed7953"
             ],
             [
              0.7777777777777778,
              "#fb9f3a"
             ],
             [
              0.8888888888888888,
              "#fdca26"
             ],
             [
              1,
              "#f0f921"
             ]
            ],
            "type": "heatmap"
           }
          ],
          "histogram": [
           {
            "marker": {
             "pattern": {
              "fillmode": "overlay",
              "size": 10,
              "solidity": 0.2
             }
            },
            "type": "histogram"
           }
          ],
          "histogram2d": [
           {
            "colorbar": {
             "outlinewidth": 0,
             "ticks": ""
            },
            "colorscale": [
             [
              0,
              "#0d0887"
             ],
             [
              0.1111111111111111,
              "#46039f"
             ],
             [
              0.2222222222222222,
              "#7201a8"
             ],
             [
              0.3333333333333333,
              "#9c179e"
             ],
             [
              0.4444444444444444,
              "#bd3786"
             ],
             [
              0.5555555555555556,
              "#d8576b"
             ],
             [
              0.6666666666666666,
              "#ed7953"
             ],
             [
              0.7777777777777778,
              "#fb9f3a"
             ],
             [
              0.8888888888888888,
              "#fdca26"
             ],
             [
              1,
              "#f0f921"
             ]
            ],
            "type": "histogram2d"
           }
          ],
          "histogram2dcontour": [
           {
            "colorbar": {
             "outlinewidth": 0,
             "ticks": ""
            },
            "colorscale": [
             [
              0,
              "#0d0887"
             ],
             [
              0.1111111111111111,
              "#46039f"
             ],
             [
              0.2222222222222222,
              "#7201a8"
             ],
             [
              0.3333333333333333,
              "#9c179e"
             ],
             [
              0.4444444444444444,
              "#bd3786"
             ],
             [
              0.5555555555555556,
              "#d8576b"
             ],
             [
              0.6666666666666666,
              "#ed7953"
             ],
             [
              0.7777777777777778,
              "#fb9f3a"
             ],
             [
              0.8888888888888888,
              "#fdca26"
             ],
             [
              1,
              "#f0f921"
             ]
            ],
            "type": "histogram2dcontour"
           }
          ],
          "mesh3d": [
           {
            "colorbar": {
             "outlinewidth": 0,
             "ticks": ""
            },
            "type": "mesh3d"
           }
          ],
          "parcoords": [
           {
            "line": {
             "colorbar": {
              "outlinewidth": 0,
              "ticks": ""
             }
            },
            "type": "parcoords"
           }
          ],
          "pie": [
           {
            "automargin": true,
            "type": "pie"
           }
          ],
          "scatter": [
           {
            "fillpattern": {
             "fillmode": "overlay",
             "size": 10,
             "solidity": 0.2
            },
            "type": "scatter"
           }
          ],
          "scatter3d": [
           {
            "line": {
             "colorbar": {
              "outlinewidth": 0,
              "ticks": ""
             }
            },
            "marker": {
             "colorbar": {
              "outlinewidth": 0,
              "ticks": ""
             }
            },
            "type": "scatter3d"
           }
          ],
          "scattercarpet": [
           {
            "marker": {
             "colorbar": {
              "outlinewidth": 0,
              "ticks": ""
             }
            },
            "type": "scattercarpet"
           }
          ],
          "scattergeo": [
           {
            "marker": {
             "colorbar": {
              "outlinewidth": 0,
              "ticks": ""
             }
            },
            "type": "scattergeo"
           }
          ],
          "scattergl": [
           {
            "marker": {
             "colorbar": {
              "outlinewidth": 0,
              "ticks": ""
             }
            },
            "type": "scattergl"
           }
          ],
          "scattermap": [
           {
            "marker": {
             "colorbar": {
              "outlinewidth": 0,
              "ticks": ""
             }
            },
            "type": "scattermap"
           }
          ],
          "scattermapbox": [
           {
            "marker": {
             "colorbar": {
              "outlinewidth": 0,
              "ticks": ""
             }
            },
            "type": "scattermapbox"
           }
          ],
          "scatterpolar": [
           {
            "marker": {
             "colorbar": {
              "outlinewidth": 0,
              "ticks": ""
             }
            },
            "type": "scatterpolar"
           }
          ],
          "scatterpolargl": [
           {
            "marker": {
             "colorbar": {
              "outlinewidth": 0,
              "ticks": ""
             }
            },
            "type": "scatterpolargl"
           }
          ],
          "scatterternary": [
           {
            "marker": {
             "colorbar": {
              "outlinewidth": 0,
              "ticks": ""
             }
            },
            "type": "scatterternary"
           }
          ],
          "surface": [
           {
            "colorbar": {
             "outlinewidth": 0,
             "ticks": ""
            },
            "colorscale": [
             [
              0,
              "#0d0887"
             ],
             [
              0.1111111111111111,
              "#46039f"
             ],
             [
              0.2222222222222222,
              "#7201a8"
             ],
             [
              0.3333333333333333,
              "#9c179e"
             ],
             [
              0.4444444444444444,
              "#bd3786"
             ],
             [
              0.5555555555555556,
              "#d8576b"
             ],
             [
              0.6666666666666666,
              "#ed7953"
             ],
             [
              0.7777777777777778,
              "#fb9f3a"
             ],
             [
              0.8888888888888888,
              "#fdca26"
             ],
             [
              1,
              "#f0f921"
             ]
            ],
            "type": "surface"
           }
          ],
          "table": [
           {
            "cells": {
             "fill": {
              "color": "#EBF0F8"
             },
             "line": {
              "color": "white"
             }
            },
            "header": {
             "fill": {
              "color": "#C8D4E3"
             },
             "line": {
              "color": "white"
             }
            },
            "type": "table"
           }
          ]
         },
         "layout": {
          "annotationdefaults": {
           "arrowcolor": "#2a3f5f",
           "arrowhead": 0,
           "arrowwidth": 1
          },
          "autotypenumbers": "strict",
          "coloraxis": {
           "colorbar": {
            "outlinewidth": 0,
            "ticks": ""
           }
          },
          "colorscale": {
           "diverging": [
            [
             0,
             "#8e0152"
            ],
            [
             0.1,
             "#c51b7d"
            ],
            [
             0.2,
             "#de77ae"
            ],
            [
             0.3,
             "#f1b6da"
            ],
            [
             0.4,
             "#fde0ef"
            ],
            [
             0.5,
             "#f7f7f7"
            ],
            [
             0.6,
             "#e6f5d0"
            ],
            [
             0.7,
             "#b8e186"
            ],
            [
             0.8,
             "#7fbc41"
            ],
            [
             0.9,
             "#4d9221"
            ],
            [
             1,
             "#276419"
            ]
           ],
           "sequential": [
            [
             0,
             "#0d0887"
            ],
            [
             0.1111111111111111,
             "#46039f"
            ],
            [
             0.2222222222222222,
             "#7201a8"
            ],
            [
             0.3333333333333333,
             "#9c179e"
            ],
            [
             0.4444444444444444,
             "#bd3786"
            ],
            [
             0.5555555555555556,
             "#d8576b"
            ],
            [
             0.6666666666666666,
             "#ed7953"
            ],
            [
             0.7777777777777778,
             "#fb9f3a"
            ],
            [
             0.8888888888888888,
             "#fdca26"
            ],
            [
             1,
             "#f0f921"
            ]
           ],
           "sequentialminus": [
            [
             0,
             "#0d0887"
            ],
            [
             0.1111111111111111,
             "#46039f"
            ],
            [
             0.2222222222222222,
             "#7201a8"
            ],
            [
             0.3333333333333333,
             "#9c179e"
            ],
            [
             0.4444444444444444,
             "#bd3786"
            ],
            [
             0.5555555555555556,
             "#d8576b"
            ],
            [
             0.6666666666666666,
             "#ed7953"
            ],
            [
             0.7777777777777778,
             "#fb9f3a"
            ],
            [
             0.8888888888888888,
             "#fdca26"
            ],
            [
             1,
             "#f0f921"
            ]
           ]
          },
          "colorway": [
           "#636efa",
           "#EF553B",
           "#00cc96",
           "#ab63fa",
           "#FFA15A",
           "#19d3f3",
           "#FF6692",
           "#B6E880",
           "#FF97FF",
           "#FECB52"
          ],
          "font": {
           "color": "#2a3f5f"
          },
          "geo": {
           "bgcolor": "white",
           "lakecolor": "white",
           "landcolor": "white",
           "showlakes": true,
           "showland": true,
           "subunitcolor": "#C8D4E3"
          },
          "hoverlabel": {
           "align": "left"
          },
          "hovermode": "closest",
          "mapbox": {
           "style": "light"
          },
          "paper_bgcolor": "white",
          "plot_bgcolor": "white",
          "polar": {
           "angularaxis": {
            "gridcolor": "#EBF0F8",
            "linecolor": "#EBF0F8",
            "ticks": ""
           },
           "bgcolor": "white",
           "radialaxis": {
            "gridcolor": "#EBF0F8",
            "linecolor": "#EBF0F8",
            "ticks": ""
           }
          },
          "scene": {
           "xaxis": {
            "backgroundcolor": "white",
            "gridcolor": "#DFE8F3",
            "gridwidth": 2,
            "linecolor": "#EBF0F8",
            "showbackground": true,
            "ticks": "",
            "zerolinecolor": "#EBF0F8"
           },
           "yaxis": {
            "backgroundcolor": "white",
            "gridcolor": "#DFE8F3",
            "gridwidth": 2,
            "linecolor": "#EBF0F8",
            "showbackground": true,
            "ticks": "",
            "zerolinecolor": "#EBF0F8"
           },
           "zaxis": {
            "backgroundcolor": "white",
            "gridcolor": "#DFE8F3",
            "gridwidth": 2,
            "linecolor": "#EBF0F8",
            "showbackground": true,
            "ticks": "",
            "zerolinecolor": "#EBF0F8"
           }
          },
          "shapedefaults": {
           "line": {
            "color": "#2a3f5f"
           }
          },
          "ternary": {
           "aaxis": {
            "gridcolor": "#DFE8F3",
            "linecolor": "#A2B1C6",
            "ticks": ""
           },
           "baxis": {
            "gridcolor": "#DFE8F3",
            "linecolor": "#A2B1C6",
            "ticks": ""
           },
           "bgcolor": "white",
           "caxis": {
            "gridcolor": "#DFE8F3",
            "linecolor": "#A2B1C6",
            "ticks": ""
           }
          },
          "title": {
           "x": 0.05
          },
          "xaxis": {
           "automargin": true,
           "gridcolor": "#EBF0F8",
           "linecolor": "#EBF0F8",
           "ticks": "",
           "title": {
            "standoff": 15
           },
           "zerolinecolor": "#EBF0F8",
           "zerolinewidth": 2
          },
          "yaxis": {
           "automargin": true,
           "gridcolor": "#EBF0F8",
           "linecolor": "#EBF0F8",
           "ticks": "",
           "title": {
            "standoff": 15
           },
           "zerolinecolor": "#EBF0F8",
           "zerolinewidth": 2
          }
         }
        },
        "title": {
         "text": "Distribution of Impressions"
        },
        "xaxis": {
         "anchor": "y",
         "domain": [
          0,
          1
         ],
         "title": {
          "text": "Impressions"
         }
        },
        "yaxis": {
         "anchor": "x",
         "domain": [
          0,
          1
         ],
         "title": {
          "text": "count"
         }
        }
       }
      }
     },
     "metadata": {},
     "output_type": "display_data"
    }
   ],
   "source": [
    "fig = px.histogram(data, \n",
    "                   x='Impressions', \n",
    "                   nbins=10, \n",
    "                   title='Distribution of Impressions')\n",
    "fig.show()"
   ]
  },
  {
   "cell_type": "code",
   "execution_count": null,
   "id": "57502c31",
   "metadata": {},
   "outputs": [
    {
     "data": {
      "application/vnd.plotly.v1+json": {
       "config": {
        "plotlyServerURL": "https://plot.ly"
       },
       "data": [
        {
         "hovertemplate": "index=%{x}<br>Impressions=%{y}<extra></extra>",
         "legendgroup": "",
         "line": {
          "color": "#636efa",
          "dash": "solid"
         },
         "marker": {
          "symbol": "circle"
         },
         "mode": "lines",
         "name": "",
         "orientation": "v",
         "showlegend": false,
         "type": "scatter",
         "x": {
          "bdata": "AAECAwQFBgcICQoLDA0ODxAREhMUFRYXGBkaGxwdHh8gISIjJCUmJygpKissLS4vMDEyMzQ1Njc4OTo7PD0+P0BBQkNERUZHSElKS0xNTk9QUVJTVFVWV1hZWltcXV5fYGFiY2RlZmdoaWprbG1ub3BxcnN0dXY=",
          "dtype": "i1"
         },
         "xaxis": "x",
         "y": {
          "bdata": "UA8AABIVAAC1DwAAsBEAANYJAAAsDwAAPQoAANUNAAClDgAAExAAAKoIAACiDAAA+BAAAJAMAADtJAAAvxMAAKIPAABhDAAAGBgAAGcJAAAQCAAAhQ8AAHEcAADsCwAAFBIAAPIPAAASFQAAzgoAAFQPAADHCwAAChoAAA4PAAADEQAA9xAAANwXAADbCQAAFwkAAJYPAACPCAAAlQcAAL4+AACGEwAAwRAAACgPAADKDgAAyhAAAC4OAAAKCwAA7xwAAJIoAAC2CwAAahsAAH0LAAAgGQAAqykAAJQPAAByEwAAPA0AAHMRAACuDAAA0BMAAMMYAACPEAAAfg0AAJMdAAAFDQAA6g4AALUqAADCEwAAEQ4AAJgNAADFDQAAFg4AAKYVAACfGQAAJw4AAP0oAABeEQAAjQsAAKIVAABJEgAAmRQAAL8TAACiDwAAYQwAABgYAABnCQAALg4AAAoLAADvHAAAkigAALYLAADsCwAAFBIAAPIPAAASFQAAzgoAAFQPAADHCwAAIRUAAMsUAABBHwAANhAAAAESAADMGAAAPCsAAD8cAAD0QwAAnhoAADFFAAC7FQAA6hIAAI0rAADeJwAAhDUAAGMWAAArEAAAt38AADeQAAA=",
          "dtype": "i4"
         },
         "yaxis": "y"
        }
       ],
       "layout": {
        "legend": {
         "tracegroupgap": 0
        },
        "template": {
         "data": {
          "bar": [
           {
            "error_x": {
             "color": "#2a3f5f"
            },
            "error_y": {
             "color": "#2a3f5f"
            },
            "marker": {
             "line": {
              "color": "white",
              "width": 0.5
             },
             "pattern": {
              "fillmode": "overlay",
              "size": 10,
              "solidity": 0.2
             }
            },
            "type": "bar"
           }
          ],
          "barpolar": [
           {
            "marker": {
             "line": {
              "color": "white",
              "width": 0.5
             },
             "pattern": {
              "fillmode": "overlay",
              "size": 10,
              "solidity": 0.2
             }
            },
            "type": "barpolar"
           }
          ],
          "carpet": [
           {
            "aaxis": {
             "endlinecolor": "#2a3f5f",
             "gridcolor": "#C8D4E3",
             "linecolor": "#C8D4E3",
             "minorgridcolor": "#C8D4E3",
             "startlinecolor": "#2a3f5f"
            },
            "baxis": {
             "endlinecolor": "#2a3f5f",
             "gridcolor": "#C8D4E3",
             "linecolor": "#C8D4E3",
             "minorgridcolor": "#C8D4E3",
             "startlinecolor": "#2a3f5f"
            },
            "type": "carpet"
           }
          ],
          "choropleth": [
           {
            "colorbar": {
             "outlinewidth": 0,
             "ticks": ""
            },
            "type": "choropleth"
           }
          ],
          "contour": [
           {
            "colorbar": {
             "outlinewidth": 0,
             "ticks": ""
            },
            "colorscale": [
             [
              0,
              "#0d0887"
             ],
             [
              0.1111111111111111,
              "#46039f"
             ],
             [
              0.2222222222222222,
              "#7201a8"
             ],
             [
              0.3333333333333333,
              "#9c179e"
             ],
             [
              0.4444444444444444,
              "#bd3786"
             ],
             [
              0.5555555555555556,
              "#d8576b"
             ],
             [
              0.6666666666666666,
              "#ed7953"
             ],
             [
              0.7777777777777778,
              "#fb9f3a"
             ],
             [
              0.8888888888888888,
              "#fdca26"
             ],
             [
              1,
              "#f0f921"
             ]
            ],
            "type": "contour"
           }
          ],
          "contourcarpet": [
           {
            "colorbar": {
             "outlinewidth": 0,
             "ticks": ""
            },
            "type": "contourcarpet"
           }
          ],
          "heatmap": [
           {
            "colorbar": {
             "outlinewidth": 0,
             "ticks": ""
            },
            "colorscale": [
             [
              0,
              "#0d0887"
             ],
             [
              0.1111111111111111,
              "#46039f"
             ],
             [
              0.2222222222222222,
              "#7201a8"
             ],
             [
              0.3333333333333333,
              "#9c179e"
             ],
             [
              0.4444444444444444,
              "#bd3786"
             ],
             [
              0.5555555555555556,
              "#d8576b"
             ],
             [
              0.6666666666666666,
              "#ed7953"
             ],
             [
              0.7777777777777778,
              "#fb9f3a"
             ],
             [
              0.8888888888888888,
              "#fdca26"
             ],
             [
              1,
              "#f0f921"
             ]
            ],
            "type": "heatmap"
           }
          ],
          "histogram": [
           {
            "marker": {
             "pattern": {
              "fillmode": "overlay",
              "size": 10,
              "solidity": 0.2
             }
            },
            "type": "histogram"
           }
          ],
          "histogram2d": [
           {
            "colorbar": {
             "outlinewidth": 0,
             "ticks": ""
            },
            "colorscale": [
             [
              0,
              "#0d0887"
             ],
             [
              0.1111111111111111,
              "#46039f"
             ],
             [
              0.2222222222222222,
              "#7201a8"
             ],
             [
              0.3333333333333333,
              "#9c179e"
             ],
             [
              0.4444444444444444,
              "#bd3786"
             ],
             [
              0.5555555555555556,
              "#d8576b"
             ],
             [
              0.6666666666666666,
              "#ed7953"
             ],
             [
              0.7777777777777778,
              "#fb9f3a"
             ],
             [
              0.8888888888888888,
              "#fdca26"
             ],
             [
              1,
              "#f0f921"
             ]
            ],
            "type": "histogram2d"
           }
          ],
          "histogram2dcontour": [
           {
            "colorbar": {
             "outlinewidth": 0,
             "ticks": ""
            },
            "colorscale": [
             [
              0,
              "#0d0887"
             ],
             [
              0.1111111111111111,
              "#46039f"
             ],
             [
              0.2222222222222222,
              "#7201a8"
             ],
             [
              0.3333333333333333,
              "#9c179e"
             ],
             [
              0.4444444444444444,
              "#bd3786"
             ],
             [
              0.5555555555555556,
              "#d8576b"
             ],
             [
              0.6666666666666666,
              "#ed7953"
             ],
             [
              0.7777777777777778,
              "#fb9f3a"
             ],
             [
              0.8888888888888888,
              "#fdca26"
             ],
             [
              1,
              "#f0f921"
             ]
            ],
            "type": "histogram2dcontour"
           }
          ],
          "mesh3d": [
           {
            "colorbar": {
             "outlinewidth": 0,
             "ticks": ""
            },
            "type": "mesh3d"
           }
          ],
          "parcoords": [
           {
            "line": {
             "colorbar": {
              "outlinewidth": 0,
              "ticks": ""
             }
            },
            "type": "parcoords"
           }
          ],
          "pie": [
           {
            "automargin": true,
            "type": "pie"
           }
          ],
          "scatter": [
           {
            "fillpattern": {
             "fillmode": "overlay",
             "size": 10,
             "solidity": 0.2
            },
            "type": "scatter"
           }
          ],
          "scatter3d": [
           {
            "line": {
             "colorbar": {
              "outlinewidth": 0,
              "ticks": ""
             }
            },
            "marker": {
             "colorbar": {
              "outlinewidth": 0,
              "ticks": ""
             }
            },
            "type": "scatter3d"
           }
          ],
          "scattercarpet": [
           {
            "marker": {
             "colorbar": {
              "outlinewidth": 0,
              "ticks": ""
             }
            },
            "type": "scattercarpet"
           }
          ],
          "scattergeo": [
           {
            "marker": {
             "colorbar": {
              "outlinewidth": 0,
              "ticks": ""
             }
            },
            "type": "scattergeo"
           }
          ],
          "scattergl": [
           {
            "marker": {
             "colorbar": {
              "outlinewidth": 0,
              "ticks": ""
             }
            },
            "type": "scattergl"
           }
          ],
          "scattermap": [
           {
            "marker": {
             "colorbar": {
              "outlinewidth": 0,
              "ticks": ""
             }
            },
            "type": "scattermap"
           }
          ],
          "scattermapbox": [
           {
            "marker": {
             "colorbar": {
              "outlinewidth": 0,
              "ticks": ""
             }
            },
            "type": "scattermapbox"
           }
          ],
          "scatterpolar": [
           {
            "marker": {
             "colorbar": {
              "outlinewidth": 0,
              "ticks": ""
             }
            },
            "type": "scatterpolar"
           }
          ],
          "scatterpolargl": [
           {
            "marker": {
             "colorbar": {
              "outlinewidth": 0,
              "ticks": ""
             }
            },
            "type": "scatterpolargl"
           }
          ],
          "scatterternary": [
           {
            "marker": {
             "colorbar": {
              "outlinewidth": 0,
              "ticks": ""
             }
            },
            "type": "scatterternary"
           }
          ],
          "surface": [
           {
            "colorbar": {
             "outlinewidth": 0,
             "ticks": ""
            },
            "colorscale": [
             [
              0,
              "#0d0887"
             ],
             [
              0.1111111111111111,
              "#46039f"
             ],
             [
              0.2222222222222222,
              "#7201a8"
             ],
             [
              0.3333333333333333,
              "#9c179e"
             ],
             [
              0.4444444444444444,
              "#bd3786"
             ],
             [
              0.5555555555555556,
              "#d8576b"
             ],
             [
              0.6666666666666666,
              "#ed7953"
             ],
             [
              0.7777777777777778,
              "#fb9f3a"
             ],
             [
              0.8888888888888888,
              "#fdca26"
             ],
             [
              1,
              "#f0f921"
             ]
            ],
            "type": "surface"
           }
          ],
          "table": [
           {
            "cells": {
             "fill": {
              "color": "#EBF0F8"
             },
             "line": {
              "color": "white"
             }
            },
            "header": {
             "fill": {
              "color": "#C8D4E3"
             },
             "line": {
              "color": "white"
             }
            },
            "type": "table"
           }
          ]
         },
         "layout": {
          "annotationdefaults": {
           "arrowcolor": "#2a3f5f",
           "arrowhead": 0,
           "arrowwidth": 1
          },
          "autotypenumbers": "strict",
          "coloraxis": {
           "colorbar": {
            "outlinewidth": 0,
            "ticks": ""
           }
          },
          "colorscale": {
           "diverging": [
            [
             0,
             "#8e0152"
            ],
            [
             0.1,
             "#c51b7d"
            ],
            [
             0.2,
             "#de77ae"
            ],
            [
             0.3,
             "#f1b6da"
            ],
            [
             0.4,
             "#fde0ef"
            ],
            [
             0.5,
             "#f7f7f7"
            ],
            [
             0.6,
             "#e6f5d0"
            ],
            [
             0.7,
             "#b8e186"
            ],
            [
             0.8,
             "#7fbc41"
            ],
            [
             0.9,
             "#4d9221"
            ],
            [
             1,
             "#276419"
            ]
           ],
           "sequential": [
            [
             0,
             "#0d0887"
            ],
            [
             0.1111111111111111,
             "#46039f"
            ],
            [
             0.2222222222222222,
             "#7201a8"
            ],
            [
             0.3333333333333333,
             "#9c179e"
            ],
            [
             0.4444444444444444,
             "#bd3786"
            ],
            [
             0.5555555555555556,
             "#d8576b"
            ],
            [
             0.6666666666666666,
             "#ed7953"
            ],
            [
             0.7777777777777778,
             "#fb9f3a"
            ],
            [
             0.8888888888888888,
             "#fdca26"
            ],
            [
             1,
             "#f0f921"
            ]
           ],
           "sequentialminus": [
            [
             0,
             "#0d0887"
            ],
            [
             0.1111111111111111,
             "#46039f"
            ],
            [
             0.2222222222222222,
             "#7201a8"
            ],
            [
             0.3333333333333333,
             "#9c179e"
            ],
            [
             0.4444444444444444,
             "#bd3786"
            ],
            [
             0.5555555555555556,
             "#d8576b"
            ],
            [
             0.6666666666666666,
             "#ed7953"
            ],
            [
             0.7777777777777778,
             "#fb9f3a"
            ],
            [
             0.8888888888888888,
             "#fdca26"
            ],
            [
             1,
             "#f0f921"
            ]
           ]
          },
          "colorway": [
           "#636efa",
           "#EF553B",
           "#00cc96",
           "#ab63fa",
           "#FFA15A",
           "#19d3f3",
           "#FF6692",
           "#B6E880",
           "#FF97FF",
           "#FECB52"
          ],
          "font": {
           "color": "#2a3f5f"
          },
          "geo": {
           "bgcolor": "white",
           "lakecolor": "white",
           "landcolor": "white",
           "showlakes": true,
           "showland": true,
           "subunitcolor": "#C8D4E3"
          },
          "hoverlabel": {
           "align": "left"
          },
          "hovermode": "closest",
          "mapbox": {
           "style": "light"
          },
          "paper_bgcolor": "white",
          "plot_bgcolor": "white",
          "polar": {
           "angularaxis": {
            "gridcolor": "#EBF0F8",
            "linecolor": "#EBF0F8",
            "ticks": ""
           },
           "bgcolor": "white",
           "radialaxis": {
            "gridcolor": "#EBF0F8",
            "linecolor": "#EBF0F8",
            "ticks": ""
           }
          },
          "scene": {
           "xaxis": {
            "backgroundcolor": "white",
            "gridcolor": "#DFE8F3",
            "gridwidth": 2,
            "linecolor": "#EBF0F8",
            "showbackground": true,
            "ticks": "",
            "zerolinecolor": "#EBF0F8"
           },
           "yaxis": {
            "backgroundcolor": "white",
            "gridcolor": "#DFE8F3",
            "gridwidth": 2,
            "linecolor": "#EBF0F8",
            "showbackground": true,
            "ticks": "",
            "zerolinecolor": "#EBF0F8"
           },
           "zaxis": {
            "backgroundcolor": "white",
            "gridcolor": "#DFE8F3",
            "gridwidth": 2,
            "linecolor": "#EBF0F8",
            "showbackground": true,
            "ticks": "",
            "zerolinecolor": "#EBF0F8"
           }
          },
          "shapedefaults": {
           "line": {
            "color": "#2a3f5f"
           }
          },
          "ternary": {
           "aaxis": {
            "gridcolor": "#DFE8F3",
            "linecolor": "#A2B1C6",
            "ticks": ""
           },
           "baxis": {
            "gridcolor": "#DFE8F3",
            "linecolor": "#A2B1C6",
            "ticks": ""
           },
           "bgcolor": "white",
           "caxis": {
            "gridcolor": "#DFE8F3",
            "linecolor": "#A2B1C6",
            "ticks": ""
           }
          },
          "title": {
           "x": 0.05
          },
          "xaxis": {
           "automargin": true,
           "gridcolor": "#EBF0F8",
           "linecolor": "#EBF0F8",
           "ticks": "",
           "title": {
            "standoff": 15
           },
           "zerolinecolor": "#EBF0F8",
           "zerolinewidth": 2
          },
          "yaxis": {
           "automargin": true,
           "gridcolor": "#EBF0F8",
           "linecolor": "#EBF0F8",
           "ticks": "",
           "title": {
            "standoff": 15
           },
           "zerolinecolor": "#EBF0F8",
           "zerolinewidth": 2
          }
         }
        },
        "title": {
         "text": "Impressions Over Time"
        },
        "xaxis": {
         "anchor": "y",
         "domain": [
          0,
          1
         ],
         "title": {
          "text": "index"
         }
        },
        "yaxis": {
         "anchor": "x",
         "domain": [
          0,
          1
         ],
         "title": {
          "text": "Impressions"
         }
        }
       }
      }
     },
     "metadata": {},
     "output_type": "display_data"
    }
   ],
   "source": [
    "# Now let’s have a look at the number of impressions on each post over time:\n",
    "fig = px.line(data, x= data.index, \n",
    "              y='Impressions', \n",
    "              title='Impressions Over Time')\n",
    "fig.show()"
   ]
  },
  {
   "cell_type": "code",
   "execution_count": null,
   "id": "2ac252b0",
   "metadata": {},
   "outputs": [
    {
     "data": {
      "application/vnd.plotly.v1+json": {
       "config": {
        "plotlyServerURL": "https://plot.ly"
       },
       "data": [
        {
         "name": "Likes",
         "type": "scatter",
         "x": {
          "bdata": "AAECAwQFBgcICQoLDA0ODxAREhMUFRYXGBkaGxwdHh8gISIjJCUmJygpKissLS4vMDEyMzQ1Njc4OTo7PD0+P0BBQkNERUZHSElKS0xNTk9QUVJTVFVWV1hZWltcXV5fYGFiY2RlZmdoaWprbG1ub3BxcnN0dXY=",
          "dtype": "i1"
         },
         "y": {
          "bdata": "ogDgAIMA1QB7AJAATAB8AJ8AvwBRAJcAogCOACYBnwDNAHkAlwBIAEwAWwDDAIEAoACvAJMAcgCXAFwA1gCWAHoAmADEAFYAVQCcAEgAUgCgAbQAlgB/AKcA4QCJAHIABwFIAX4A7ABjANQAKQGOALoAcACVAIQAcwD4ALIAawANAWAAhgAtAbsAXgByAGAAigB6AAEBXwD0AL4AdgCyAKoA+gCfAM0AeQCXAEgAiQByAAcBSAF+AIEAoACvAJMAcgCXAFwAEwHAAMsAkQCoAMIA+gCrAKAB+QA0AaMAVgDSAKwAdQGUAFwAJQK7AQ==",
          "dtype": "i2"
         }
        },
        {
         "name": "Saves",
         "type": "scatter",
         "x": {
          "bdata": "AAECAwQFBgcICQoLDA0ODxAREhMUFRYXGBkaGxwdHh8gISIjJCUmJygpKissLS4vMDEyMzQ1Njc4OTo7PD0+P0BBQkNERUZHSElKS0xNTk9QUVJTVFVWV1hZWltcXV5fYGFiY2RlZmdoaWprbG1ub3BxcnN0dXY=",
          "dtype": "i1"
         },
         "y": {
          "bdata": "YgDCACkArABgAEoAFgCHAJsAegAcAHoAdwB5AGQAZQBvAGoAUgAoADEASACnAD8AkACHAD0AKACLADQAVABRAE8AaQBaACIALQBiACMAMQD8AKcAbwBaAJAABwGJAEMAIAGcAioAVgEwAPoA2wB2AI8AYwBZAJQAKgCrAG0AJgClASYAdADhAJAAMwBoACEArgAuALMAIgBjAK4ARgCVAM8APgFlAG8AagBSACgAiQBDACABnAIqAD8AkACHAD0AKACLADQAiQGYAFMASgBeALwA1gBJAB0B1QH4AZUANwARAbYAPQKHACQARwSNAg==",
          "dtype": "i2"
         }
        },
        {
         "name": "Follows",
         "type": "scatter",
         "x": {
          "bdata": "AAECAwQFBgcICQoLDA0ODxAREhMUFRYXGBkaGxwdHh8gISIjJCUmJygpKissLS4vMDEyMzQ1Njc4OTo7PD0+P0BBQkNERUZHSElKS0xNTk9QUVJTVFVWV1hZWltcXV5fYGFiY2RlZmdoaWprbG1ub3BxcnN0dXY=",
          "dtype": "i1"
         },
         "y": {
          "bdata": "AgAKAAwACAAAAAIAAAAGAAQABgAEAAAAAgAEACoABgACAAIAHgAAAAAAGABkAAIABAAGAAYABgACAAIAFAACAAQACAAaAAIAAgAEAAAAAgBeAAgAEgAKAAQABAAEAAQAEgAmAAoADAAEAAQASgAAAAYABgAAAAYADAAKAAgACAAuAAwACgBeAAYACgAGAAQADAAQAAwACAAgAAgAEAAGAAoACgAGAAIAAgAeAAAABAAEABIAJgAKAAIABAAGAAYABgACAAIADgAIAA4AHAASAAwAIgAaAAQBEABgABQAHgA6AGQAUAASAAoA1gDkAA==",
          "dtype": "i2"
         }
        }
       ],
       "layout": {
        "template": {
         "data": {
          "bar": [
           {
            "error_x": {
             "color": "#2a3f5f"
            },
            "error_y": {
             "color": "#2a3f5f"
            },
            "marker": {
             "line": {
              "color": "white",
              "width": 0.5
             },
             "pattern": {
              "fillmode": "overlay",
              "size": 10,
              "solidity": 0.2
             }
            },
            "type": "bar"
           }
          ],
          "barpolar": [
           {
            "marker": {
             "line": {
              "color": "white",
              "width": 0.5
             },
             "pattern": {
              "fillmode": "overlay",
              "size": 10,
              "solidity": 0.2
             }
            },
            "type": "barpolar"
           }
          ],
          "carpet": [
           {
            "aaxis": {
             "endlinecolor": "#2a3f5f",
             "gridcolor": "#C8D4E3",
             "linecolor": "#C8D4E3",
             "minorgridcolor": "#C8D4E3",
             "startlinecolor": "#2a3f5f"
            },
            "baxis": {
             "endlinecolor": "#2a3f5f",
             "gridcolor": "#C8D4E3",
             "linecolor": "#C8D4E3",
             "minorgridcolor": "#C8D4E3",
             "startlinecolor": "#2a3f5f"
            },
            "type": "carpet"
           }
          ],
          "choropleth": [
           {
            "colorbar": {
             "outlinewidth": 0,
             "ticks": ""
            },
            "type": "choropleth"
           }
          ],
          "contour": [
           {
            "colorbar": {
             "outlinewidth": 0,
             "ticks": ""
            },
            "colorscale": [
             [
              0,
              "#0d0887"
             ],
             [
              0.1111111111111111,
              "#46039f"
             ],
             [
              0.2222222222222222,
              "#7201a8"
             ],
             [
              0.3333333333333333,
              "#9c179e"
             ],
             [
              0.4444444444444444,
              "#bd3786"
             ],
             [
              0.5555555555555556,
              "#d8576b"
             ],
             [
              0.6666666666666666,
              "#ed7953"
             ],
             [
              0.7777777777777778,
              "#fb9f3a"
             ],
             [
              0.8888888888888888,
              "#fdca26"
             ],
             [
              1,
              "#f0f921"
             ]
            ],
            "type": "contour"
           }
          ],
          "contourcarpet": [
           {
            "colorbar": {
             "outlinewidth": 0,
             "ticks": ""
            },
            "type": "contourcarpet"
           }
          ],
          "heatmap": [
           {
            "colorbar": {
             "outlinewidth": 0,
             "ticks": ""
            },
            "colorscale": [
             [
              0,
              "#0d0887"
             ],
             [
              0.1111111111111111,
              "#46039f"
             ],
             [
              0.2222222222222222,
              "#7201a8"
             ],
             [
              0.3333333333333333,
              "#9c179e"
             ],
             [
              0.4444444444444444,
              "#bd3786"
             ],
             [
              0.5555555555555556,
              "#d8576b"
             ],
             [
              0.6666666666666666,
              "#ed7953"
             ],
             [
              0.7777777777777778,
              "#fb9f3a"
             ],
             [
              0.8888888888888888,
              "#fdca26"
             ],
             [
              1,
              "#f0f921"
             ]
            ],
            "type": "heatmap"
           }
          ],
          "histogram": [
           {
            "marker": {
             "pattern": {
              "fillmode": "overlay",
              "size": 10,
              "solidity": 0.2
             }
            },
            "type": "histogram"
           }
          ],
          "histogram2d": [
           {
            "colorbar": {
             "outlinewidth": 0,
             "ticks": ""
            },
            "colorscale": [
             [
              0,
              "#0d0887"
             ],
             [
              0.1111111111111111,
              "#46039f"
             ],
             [
              0.2222222222222222,
              "#7201a8"
             ],
             [
              0.3333333333333333,
              "#9c179e"
             ],
             [
              0.4444444444444444,
              "#bd3786"
             ],
             [
              0.5555555555555556,
              "#d8576b"
             ],
             [
              0.6666666666666666,
              "#ed7953"
             ],
             [
              0.7777777777777778,
              "#fb9f3a"
             ],
             [
              0.8888888888888888,
              "#fdca26"
             ],
             [
              1,
              "#f0f921"
             ]
            ],
            "type": "histogram2d"
           }
          ],
          "histogram2dcontour": [
           {
            "colorbar": {
             "outlinewidth": 0,
             "ticks": ""
            },
            "colorscale": [
             [
              0,
              "#0d0887"
             ],
             [
              0.1111111111111111,
              "#46039f"
             ],
             [
              0.2222222222222222,
              "#7201a8"
             ],
             [
              0.3333333333333333,
              "#9c179e"
             ],
             [
              0.4444444444444444,
              "#bd3786"
             ],
             [
              0.5555555555555556,
              "#d8576b"
             ],
             [
              0.6666666666666666,
              "#ed7953"
             ],
             [
              0.7777777777777778,
              "#fb9f3a"
             ],
             [
              0.8888888888888888,
              "#fdca26"
             ],
             [
              1,
              "#f0f921"
             ]
            ],
            "type": "histogram2dcontour"
           }
          ],
          "mesh3d": [
           {
            "colorbar": {
             "outlinewidth": 0,
             "ticks": ""
            },
            "type": "mesh3d"
           }
          ],
          "parcoords": [
           {
            "line": {
             "colorbar": {
              "outlinewidth": 0,
              "ticks": ""
             }
            },
            "type": "parcoords"
           }
          ],
          "pie": [
           {
            "automargin": true,
            "type": "pie"
           }
          ],
          "scatter": [
           {
            "fillpattern": {
             "fillmode": "overlay",
             "size": 10,
             "solidity": 0.2
            },
            "type": "scatter"
           }
          ],
          "scatter3d": [
           {
            "line": {
             "colorbar": {
              "outlinewidth": 0,
              "ticks": ""
             }
            },
            "marker": {
             "colorbar": {
              "outlinewidth": 0,
              "ticks": ""
             }
            },
            "type": "scatter3d"
           }
          ],
          "scattercarpet": [
           {
            "marker": {
             "colorbar": {
              "outlinewidth": 0,
              "ticks": ""
             }
            },
            "type": "scattercarpet"
           }
          ],
          "scattergeo": [
           {
            "marker": {
             "colorbar": {
              "outlinewidth": 0,
              "ticks": ""
             }
            },
            "type": "scattergeo"
           }
          ],
          "scattergl": [
           {
            "marker": {
             "colorbar": {
              "outlinewidth": 0,
              "ticks": ""
             }
            },
            "type": "scattergl"
           }
          ],
          "scattermap": [
           {
            "marker": {
             "colorbar": {
              "outlinewidth": 0,
              "ticks": ""
             }
            },
            "type": "scattermap"
           }
          ],
          "scattermapbox": [
           {
            "marker": {
             "colorbar": {
              "outlinewidth": 0,
              "ticks": ""
             }
            },
            "type": "scattermapbox"
           }
          ],
          "scatterpolar": [
           {
            "marker": {
             "colorbar": {
              "outlinewidth": 0,
              "ticks": ""
             }
            },
            "type": "scatterpolar"
           }
          ],
          "scatterpolargl": [
           {
            "marker": {
             "colorbar": {
              "outlinewidth": 0,
              "ticks": ""
             }
            },
            "type": "scatterpolargl"
           }
          ],
          "scatterternary": [
           {
            "marker": {
             "colorbar": {
              "outlinewidth": 0,
              "ticks": ""
             }
            },
            "type": "scatterternary"
           }
          ],
          "surface": [
           {
            "colorbar": {
             "outlinewidth": 0,
             "ticks": ""
            },
            "colorscale": [
             [
              0,
              "#0d0887"
             ],
             [
              0.1111111111111111,
              "#46039f"
             ],
             [
              0.2222222222222222,
              "#7201a8"
             ],
             [
              0.3333333333333333,
              "#9c179e"
             ],
             [
              0.4444444444444444,
              "#bd3786"
             ],
             [
              0.5555555555555556,
              "#d8576b"
             ],
             [
              0.6666666666666666,
              "#ed7953"
             ],
             [
              0.7777777777777778,
              "#fb9f3a"
             ],
             [
              0.8888888888888888,
              "#fdca26"
             ],
             [
              1,
              "#f0f921"
             ]
            ],
            "type": "surface"
           }
          ],
          "table": [
           {
            "cells": {
             "fill": {
              "color": "#EBF0F8"
             },
             "line": {
              "color": "white"
             }
            },
            "header": {
             "fill": {
              "color": "#C8D4E3"
             },
             "line": {
              "color": "white"
             }
            },
            "type": "table"
           }
          ]
         },
         "layout": {
          "annotationdefaults": {
           "arrowcolor": "#2a3f5f",
           "arrowhead": 0,
           "arrowwidth": 1
          },
          "autotypenumbers": "strict",
          "coloraxis": {
           "colorbar": {
            "outlinewidth": 0,
            "ticks": ""
           }
          },
          "colorscale": {
           "diverging": [
            [
             0,
             "#8e0152"
            ],
            [
             0.1,
             "#c51b7d"
            ],
            [
             0.2,
             "#de77ae"
            ],
            [
             0.3,
             "#f1b6da"
            ],
            [
             0.4,
             "#fde0ef"
            ],
            [
             0.5,
             "#f7f7f7"
            ],
            [
             0.6,
             "#e6f5d0"
            ],
            [
             0.7,
             "#b8e186"
            ],
            [
             0.8,
             "#7fbc41"
            ],
            [
             0.9,
             "#4d9221"
            ],
            [
             1,
             "#276419"
            ]
           ],
           "sequential": [
            [
             0,
             "#0d0887"
            ],
            [
             0.1111111111111111,
             "#46039f"
            ],
            [
             0.2222222222222222,
             "#7201a8"
            ],
            [
             0.3333333333333333,
             "#9c179e"
            ],
            [
             0.4444444444444444,
             "#bd3786"
            ],
            [
             0.5555555555555556,
             "#d8576b"
            ],
            [
             0.6666666666666666,
             "#ed7953"
            ],
            [
             0.7777777777777778,
             "#fb9f3a"
            ],
            [
             0.8888888888888888,
             "#fdca26"
            ],
            [
             1,
             "#f0f921"
            ]
           ],
           "sequentialminus": [
            [
             0,
             "#0d0887"
            ],
            [
             0.1111111111111111,
             "#46039f"
            ],
            [
             0.2222222222222222,
             "#7201a8"
            ],
            [
             0.3333333333333333,
             "#9c179e"
            ],
            [
             0.4444444444444444,
             "#bd3786"
            ],
            [
             0.5555555555555556,
             "#d8576b"
            ],
            [
             0.6666666666666666,
             "#ed7953"
            ],
            [
             0.7777777777777778,
             "#fb9f3a"
            ],
            [
             0.8888888888888888,
             "#fdca26"
            ],
            [
             1,
             "#f0f921"
            ]
           ]
          },
          "colorway": [
           "#636efa",
           "#EF553B",
           "#00cc96",
           "#ab63fa",
           "#FFA15A",
           "#19d3f3",
           "#FF6692",
           "#B6E880",
           "#FF97FF",
           "#FECB52"
          ],
          "font": {
           "color": "#2a3f5f"
          },
          "geo": {
           "bgcolor": "white",
           "lakecolor": "white",
           "landcolor": "white",
           "showlakes": true,
           "showland": true,
           "subunitcolor": "#C8D4E3"
          },
          "hoverlabel": {
           "align": "left"
          },
          "hovermode": "closest",
          "mapbox": {
           "style": "light"
          },
          "paper_bgcolor": "white",
          "plot_bgcolor": "white",
          "polar": {
           "angularaxis": {
            "gridcolor": "#EBF0F8",
            "linecolor": "#EBF0F8",
            "ticks": ""
           },
           "bgcolor": "white",
           "radialaxis": {
            "gridcolor": "#EBF0F8",
            "linecolor": "#EBF0F8",
            "ticks": ""
           }
          },
          "scene": {
           "xaxis": {
            "backgroundcolor": "white",
            "gridcolor": "#DFE8F3",
            "gridwidth": 2,
            "linecolor": "#EBF0F8",
            "showbackground": true,
            "ticks": "",
            "zerolinecolor": "#EBF0F8"
           },
           "yaxis": {
            "backgroundcolor": "white",
            "gridcolor": "#DFE8F3",
            "gridwidth": 2,
            "linecolor": "#EBF0F8",
            "showbackground": true,
            "ticks": "",
            "zerolinecolor": "#EBF0F8"
           },
           "zaxis": {
            "backgroundcolor": "white",
            "gridcolor": "#DFE8F3",
            "gridwidth": 2,
            "linecolor": "#EBF0F8",
            "showbackground": true,
            "ticks": "",
            "zerolinecolor": "#EBF0F8"
           }
          },
          "shapedefaults": {
           "line": {
            "color": "#2a3f5f"
           }
          },
          "ternary": {
           "aaxis": {
            "gridcolor": "#DFE8F3",
            "linecolor": "#A2B1C6",
            "ticks": ""
           },
           "baxis": {
            "gridcolor": "#DFE8F3",
            "linecolor": "#A2B1C6",
            "ticks": ""
           },
           "bgcolor": "white",
           "caxis": {
            "gridcolor": "#DFE8F3",
            "linecolor": "#A2B1C6",
            "ticks": ""
           }
          },
          "title": {
           "x": 0.05
          },
          "xaxis": {
           "automargin": true,
           "gridcolor": "#EBF0F8",
           "linecolor": "#EBF0F8",
           "ticks": "",
           "title": {
            "standoff": 15
           },
           "zerolinecolor": "#EBF0F8",
           "zerolinewidth": 2
          },
          "yaxis": {
           "automargin": true,
           "gridcolor": "#EBF0F8",
           "linecolor": "#EBF0F8",
           "ticks": "",
           "title": {
            "standoff": 15
           },
           "zerolinecolor": "#EBF0F8",
           "zerolinewidth": 2
          }
         }
        },
        "title": {
         "text": "Metrics Over Time"
        },
        "xaxis": {
         "title": {
          "text": "Date"
         }
        },
        "yaxis": {
         "title": {
          "text": "Count"
         }
        }
       }
      }
     },
     "metadata": {},
     "output_type": "display_data"
    }
   ],
   "source": [
    "# Now let’s have a look at all the metrics like Likes, Saves, and Follows from each post over time:\n",
    "fig = go.Figure()\n",
    "\n",
    "fig.add_trace(go.Scatter(x=data.index, y=data['Likes'], name='Likes'))\n",
    "fig.add_trace(go.Scatter(x=data.index, y=data['Saves'], name='Saves'))\n",
    "fig.add_trace(go.Scatter(x=data.index, y=data['Follows'], name='Follows'))\n",
    "\n",
    "fig.update_layout(title='Metrics Over Time',\n",
    "                  xaxis_title='Date',\n",
    "                  yaxis_title='Count')\n",
    "\n",
    "fig.show()"
   ]
  },
  {
   "cell_type": "code",
   "execution_count": null,
   "id": "dfa7d7b7",
   "metadata": {},
   "outputs": [
    {
     "data": {
      "application/vnd.plotly.v1+json": {
       "config": {
        "plotlyServerURL": "https://plot.ly"
       },
       "data": [
        {
         "domain": {
          "x": [
           0,
           1
          ],
          "y": [
           0,
           1
          ]
         },
         "hovertemplate": "label=%{label}<br>value=%{value}<extra></extra>",
         "labels": [
          "From Home",
          "From Hashtags",
          "From Explore",
          "From Other"
         ],
         "legendgroup": "",
         "name": "",
         "showlegend": true,
         "type": "pie",
         "values": {
          "bdata": "234EAGZtAwAm9QEAiE8AAA==",
          "dtype": "i4"
         }
        }
       ],
       "layout": {
        "legend": {
         "tracegroupgap": 0
        },
        "piecolorway": [
         "#FFB6C1",
         "#87CEFA",
         "#90EE90",
         "#FFDAB9"
        ],
        "template": {
         "data": {
          "bar": [
           {
            "error_x": {
             "color": "#2a3f5f"
            },
            "error_y": {
             "color": "#2a3f5f"
            },
            "marker": {
             "line": {
              "color": "white",
              "width": 0.5
             },
             "pattern": {
              "fillmode": "overlay",
              "size": 10,
              "solidity": 0.2
             }
            },
            "type": "bar"
           }
          ],
          "barpolar": [
           {
            "marker": {
             "line": {
              "color": "white",
              "width": 0.5
             },
             "pattern": {
              "fillmode": "overlay",
              "size": 10,
              "solidity": 0.2
             }
            },
            "type": "barpolar"
           }
          ],
          "carpet": [
           {
            "aaxis": {
             "endlinecolor": "#2a3f5f",
             "gridcolor": "#C8D4E3",
             "linecolor": "#C8D4E3",
             "minorgridcolor": "#C8D4E3",
             "startlinecolor": "#2a3f5f"
            },
            "baxis": {
             "endlinecolor": "#2a3f5f",
             "gridcolor": "#C8D4E3",
             "linecolor": "#C8D4E3",
             "minorgridcolor": "#C8D4E3",
             "startlinecolor": "#2a3f5f"
            },
            "type": "carpet"
           }
          ],
          "choropleth": [
           {
            "colorbar": {
             "outlinewidth": 0,
             "ticks": ""
            },
            "type": "choropleth"
           }
          ],
          "contour": [
           {
            "colorbar": {
             "outlinewidth": 0,
             "ticks": ""
            },
            "colorscale": [
             [
              0,
              "#0d0887"
             ],
             [
              0.1111111111111111,
              "#46039f"
             ],
             [
              0.2222222222222222,
              "#7201a8"
             ],
             [
              0.3333333333333333,
              "#9c179e"
             ],
             [
              0.4444444444444444,
              "#bd3786"
             ],
             [
              0.5555555555555556,
              "#d8576b"
             ],
             [
              0.6666666666666666,
              "#ed7953"
             ],
             [
              0.7777777777777778,
              "#fb9f3a"
             ],
             [
              0.8888888888888888,
              "#fdca26"
             ],
             [
              1,
              "#f0f921"
             ]
            ],
            "type": "contour"
           }
          ],
          "contourcarpet": [
           {
            "colorbar": {
             "outlinewidth": 0,
             "ticks": ""
            },
            "type": "contourcarpet"
           }
          ],
          "heatmap": [
           {
            "colorbar": {
             "outlinewidth": 0,
             "ticks": ""
            },
            "colorscale": [
             [
              0,
              "#0d0887"
             ],
             [
              0.1111111111111111,
              "#46039f"
             ],
             [
              0.2222222222222222,
              "#7201a8"
             ],
             [
              0.3333333333333333,
              "#9c179e"
             ],
             [
              0.4444444444444444,
              "#bd3786"
             ],
             [
              0.5555555555555556,
              "#d8576b"
             ],
             [
              0.6666666666666666,
              "#ed7953"
             ],
             [
              0.7777777777777778,
              "#fb9f3a"
             ],
             [
              0.8888888888888888,
              "#fdca26"
             ],
             [
              1,
              "#f0f921"
             ]
            ],
            "type": "heatmap"
           }
          ],
          "histogram": [
           {
            "marker": {
             "pattern": {
              "fillmode": "overlay",
              "size": 10,
              "solidity": 0.2
             }
            },
            "type": "histogram"
           }
          ],
          "histogram2d": [
           {
            "colorbar": {
             "outlinewidth": 0,
             "ticks": ""
            },
            "colorscale": [
             [
              0,
              "#0d0887"
             ],
             [
              0.1111111111111111,
              "#46039f"
             ],
             [
              0.2222222222222222,
              "#7201a8"
             ],
             [
              0.3333333333333333,
              "#9c179e"
             ],
             [
              0.4444444444444444,
              "#bd3786"
             ],
             [
              0.5555555555555556,
              "#d8576b"
             ],
             [
              0.6666666666666666,
              "#ed7953"
             ],
             [
              0.7777777777777778,
              "#fb9f3a"
             ],
             [
              0.8888888888888888,
              "#fdca26"
             ],
             [
              1,
              "#f0f921"
             ]
            ],
            "type": "histogram2d"
           }
          ],
          "histogram2dcontour": [
           {
            "colorbar": {
             "outlinewidth": 0,
             "ticks": ""
            },
            "colorscale": [
             [
              0,
              "#0d0887"
             ],
             [
              0.1111111111111111,
              "#46039f"
             ],
             [
              0.2222222222222222,
              "#7201a8"
             ],
             [
              0.3333333333333333,
              "#9c179e"
             ],
             [
              0.4444444444444444,
              "#bd3786"
             ],
             [
              0.5555555555555556,
              "#d8576b"
             ],
             [
              0.6666666666666666,
              "#ed7953"
             ],
             [
              0.7777777777777778,
              "#fb9f3a"
             ],
             [
              0.8888888888888888,
              "#fdca26"
             ],
             [
              1,
              "#f0f921"
             ]
            ],
            "type": "histogram2dcontour"
           }
          ],
          "mesh3d": [
           {
            "colorbar": {
             "outlinewidth": 0,
             "ticks": ""
            },
            "type": "mesh3d"
           }
          ],
          "parcoords": [
           {
            "line": {
             "colorbar": {
              "outlinewidth": 0,
              "ticks": ""
             }
            },
            "type": "parcoords"
           }
          ],
          "pie": [
           {
            "automargin": true,
            "type": "pie"
           }
          ],
          "scatter": [
           {
            "fillpattern": {
             "fillmode": "overlay",
             "size": 10,
             "solidity": 0.2
            },
            "type": "scatter"
           }
          ],
          "scatter3d": [
           {
            "line": {
             "colorbar": {
              "outlinewidth": 0,
              "ticks": ""
             }
            },
            "marker": {
             "colorbar": {
              "outlinewidth": 0,
              "ticks": ""
             }
            },
            "type": "scatter3d"
           }
          ],
          "scattercarpet": [
           {
            "marker": {
             "colorbar": {
              "outlinewidth": 0,
              "ticks": ""
             }
            },
            "type": "scattercarpet"
           }
          ],
          "scattergeo": [
           {
            "marker": {
             "colorbar": {
              "outlinewidth": 0,
              "ticks": ""
             }
            },
            "type": "scattergeo"
           }
          ],
          "scattergl": [
           {
            "marker": {
             "colorbar": {
              "outlinewidth": 0,
              "ticks": ""
             }
            },
            "type": "scattergl"
           }
          ],
          "scattermap": [
           {
            "marker": {
             "colorbar": {
              "outlinewidth": 0,
              "ticks": ""
             }
            },
            "type": "scattermap"
           }
          ],
          "scattermapbox": [
           {
            "marker": {
             "colorbar": {
              "outlinewidth": 0,
              "ticks": ""
             }
            },
            "type": "scattermapbox"
           }
          ],
          "scatterpolar": [
           {
            "marker": {
             "colorbar": {
              "outlinewidth": 0,
              "ticks": ""
             }
            },
            "type": "scatterpolar"
           }
          ],
          "scatterpolargl": [
           {
            "marker": {
             "colorbar": {
              "outlinewidth": 0,
              "ticks": ""
             }
            },
            "type": "scatterpolargl"
           }
          ],
          "scatterternary": [
           {
            "marker": {
             "colorbar": {
              "outlinewidth": 0,
              "ticks": ""
             }
            },
            "type": "scatterternary"
           }
          ],
          "surface": [
           {
            "colorbar": {
             "outlinewidth": 0,
             "ticks": ""
            },
            "colorscale": [
             [
              0,
              "#0d0887"
             ],
             [
              0.1111111111111111,
              "#46039f"
             ],
             [
              0.2222222222222222,
              "#7201a8"
             ],
             [
              0.3333333333333333,
              "#9c179e"
             ],
             [
              0.4444444444444444,
              "#bd3786"
             ],
             [
              0.5555555555555556,
              "#d8576b"
             ],
             [
              0.6666666666666666,
              "#ed7953"
             ],
             [
              0.7777777777777778,
              "#fb9f3a"
             ],
             [
              0.8888888888888888,
              "#fdca26"
             ],
             [
              1,
              "#f0f921"
             ]
            ],
            "type": "surface"
           }
          ],
          "table": [
           {
            "cells": {
             "fill": {
              "color": "#EBF0F8"
             },
             "line": {
              "color": "white"
             }
            },
            "header": {
             "fill": {
              "color": "#C8D4E3"
             },
             "line": {
              "color": "white"
             }
            },
            "type": "table"
           }
          ]
         },
         "layout": {
          "annotationdefaults": {
           "arrowcolor": "#2a3f5f",
           "arrowhead": 0,
           "arrowwidth": 1
          },
          "autotypenumbers": "strict",
          "coloraxis": {
           "colorbar": {
            "outlinewidth": 0,
            "ticks": ""
           }
          },
          "colorscale": {
           "diverging": [
            [
             0,
             "#8e0152"
            ],
            [
             0.1,
             "#c51b7d"
            ],
            [
             0.2,
             "#de77ae"
            ],
            [
             0.3,
             "#f1b6da"
            ],
            [
             0.4,
             "#fde0ef"
            ],
            [
             0.5,
             "#f7f7f7"
            ],
            [
             0.6,
             "#e6f5d0"
            ],
            [
             0.7,
             "#b8e186"
            ],
            [
             0.8,
             "#7fbc41"
            ],
            [
             0.9,
             "#4d9221"
            ],
            [
             1,
             "#276419"
            ]
           ],
           "sequential": [
            [
             0,
             "#0d0887"
            ],
            [
             0.1111111111111111,
             "#46039f"
            ],
            [
             0.2222222222222222,
             "#7201a8"
            ],
            [
             0.3333333333333333,
             "#9c179e"
            ],
            [
             0.4444444444444444,
             "#bd3786"
            ],
            [
             0.5555555555555556,
             "#d8576b"
            ],
            [
             0.6666666666666666,
             "#ed7953"
            ],
            [
             0.7777777777777778,
             "#fb9f3a"
            ],
            [
             0.8888888888888888,
             "#fdca26"
            ],
            [
             1,
             "#f0f921"
            ]
           ],
           "sequentialminus": [
            [
             0,
             "#0d0887"
            ],
            [
             0.1111111111111111,
             "#46039f"
            ],
            [
             0.2222222222222222,
             "#7201a8"
            ],
            [
             0.3333333333333333,
             "#9c179e"
            ],
            [
             0.4444444444444444,
             "#bd3786"
            ],
            [
             0.5555555555555556,
             "#d8576b"
            ],
            [
             0.6666666666666666,
             "#ed7953"
            ],
            [
             0.7777777777777778,
             "#fb9f3a"
            ],
            [
             0.8888888888888888,
             "#fdca26"
            ],
            [
             1,
             "#f0f921"
            ]
           ]
          },
          "colorway": [
           "#636efa",
           "#EF553B",
           "#00cc96",
           "#ab63fa",
           "#FFA15A",
           "#19d3f3",
           "#FF6692",
           "#B6E880",
           "#FF97FF",
           "#FECB52"
          ],
          "font": {
           "color": "#2a3f5f"
          },
          "geo": {
           "bgcolor": "white",
           "lakecolor": "white",
           "landcolor": "white",
           "showlakes": true,
           "showland": true,
           "subunitcolor": "#C8D4E3"
          },
          "hoverlabel": {
           "align": "left"
          },
          "hovermode": "closest",
          "mapbox": {
           "style": "light"
          },
          "paper_bgcolor": "white",
          "plot_bgcolor": "white",
          "polar": {
           "angularaxis": {
            "gridcolor": "#EBF0F8",
            "linecolor": "#EBF0F8",
            "ticks": ""
           },
           "bgcolor": "white",
           "radialaxis": {
            "gridcolor": "#EBF0F8",
            "linecolor": "#EBF0F8",
            "ticks": ""
           }
          },
          "scene": {
           "xaxis": {
            "backgroundcolor": "white",
            "gridcolor": "#DFE8F3",
            "gridwidth": 2,
            "linecolor": "#EBF0F8",
            "showbackground": true,
            "ticks": "",
            "zerolinecolor": "#EBF0F8"
           },
           "yaxis": {
            "backgroundcolor": "white",
            "gridcolor": "#DFE8F3",
            "gridwidth": 2,
            "linecolor": "#EBF0F8",
            "showbackground": true,
            "ticks": "",
            "zerolinecolor": "#EBF0F8"
           },
           "zaxis": {
            "backgroundcolor": "white",
            "gridcolor": "#DFE8F3",
            "gridwidth": 2,
            "linecolor": "#EBF0F8",
            "showbackground": true,
            "ticks": "",
            "zerolinecolor": "#EBF0F8"
           }
          },
          "shapedefaults": {
           "line": {
            "color": "#2a3f5f"
           }
          },
          "ternary": {
           "aaxis": {
            "gridcolor": "#DFE8F3",
            "linecolor": "#A2B1C6",
            "ticks": ""
           },
           "baxis": {
            "gridcolor": "#DFE8F3",
            "linecolor": "#A2B1C6",
            "ticks": ""
           },
           "bgcolor": "white",
           "caxis": {
            "gridcolor": "#DFE8F3",
            "linecolor": "#A2B1C6",
            "ticks": ""
           }
          },
          "title": {
           "x": 0.05
          },
          "xaxis": {
           "automargin": true,
           "gridcolor": "#EBF0F8",
           "linecolor": "#EBF0F8",
           "ticks": "",
           "title": {
            "standoff": 15
           },
           "zerolinecolor": "#EBF0F8",
           "zerolinewidth": 2
          },
          "yaxis": {
           "automargin": true,
           "gridcolor": "#EBF0F8",
           "linecolor": "#EBF0F8",
           "ticks": "",
           "title": {
            "standoff": 15
           },
           "zerolinecolor": "#EBF0F8",
           "zerolinewidth": 2
          }
         }
        },
        "title": {
         "text": "Reach from Different Sources"
        }
       }
      }
     },
     "metadata": {},
     "output_type": "display_data"
    }
   ],
   "source": [
    "# Now let’s have a look at the distribution of reach from different sources:\n",
    "reach_sources = ['From Home', 'From Hashtags', 'From Explore', 'From Other']\n",
    "reach_counts = [data[source].sum() for source in reach_sources]\n",
    "\n",
    "colors = ['#FFB6C1', '#87CEFA', '#90EE90', '#FFDAB9']\n",
    "\n",
    "fig = px.pie(data_frame=data, names=reach_sources, \n",
    "             values=reach_counts, \n",
    "             title='Reach from Different Sources',\n",
    "             color_discrete_sequence=colors)\n",
    "fig.show()"
   ]
  },
  {
   "cell_type": "code",
   "execution_count": null,
   "id": "80c03e98",
   "metadata": {},
   "outputs": [
    {
     "data": {
      "application/vnd.plotly.v1+json": {
       "config": {
        "plotlyServerURL": "https://plot.ly"
       },
       "data": [
        {
         "domain": {
          "x": [
           0,
           1
          ],
          "y": [
           0,
           1
          ]
         },
         "hovertemplate": "label=%{label}<br>value=%{value}<extra></extra>",
         "labels": [
          "Saves",
          "Comments",
          "Shares",
          "Likes"
         ],
         "legendgroup": "",
         "name": "",
         "showlegend": true,
         "type": "pie",
         "values": {
          "bdata": "REcZA1oEyFA=",
          "dtype": "i2"
         }
        }
       ],
       "layout": {
        "legend": {
         "tracegroupgap": 0
        },
        "piecolorway": [
         "#FFB6C1",
         "#87CEFA",
         "#90EE90",
         "#FFDAB9"
        ],
        "template": {
         "data": {
          "bar": [
           {
            "error_x": {
             "color": "#2a3f5f"
            },
            "error_y": {
             "color": "#2a3f5f"
            },
            "marker": {
             "line": {
              "color": "white",
              "width": 0.5
             },
             "pattern": {
              "fillmode": "overlay",
              "size": 10,
              "solidity": 0.2
             }
            },
            "type": "bar"
           }
          ],
          "barpolar": [
           {
            "marker": {
             "line": {
              "color": "white",
              "width": 0.5
             },
             "pattern": {
              "fillmode": "overlay",
              "size": 10,
              "solidity": 0.2
             }
            },
            "type": "barpolar"
           }
          ],
          "carpet": [
           {
            "aaxis": {
             "endlinecolor": "#2a3f5f",
             "gridcolor": "#C8D4E3",
             "linecolor": "#C8D4E3",
             "minorgridcolor": "#C8D4E3",
             "startlinecolor": "#2a3f5f"
            },
            "baxis": {
             "endlinecolor": "#2a3f5f",
             "gridcolor": "#C8D4E3",
             "linecolor": "#C8D4E3",
             "minorgridcolor": "#C8D4E3",
             "startlinecolor": "#2a3f5f"
            },
            "type": "carpet"
           }
          ],
          "choropleth": [
           {
            "colorbar": {
             "outlinewidth": 0,
             "ticks": ""
            },
            "type": "choropleth"
           }
          ],
          "contour": [
           {
            "colorbar": {
             "outlinewidth": 0,
             "ticks": ""
            },
            "colorscale": [
             [
              0,
              "#0d0887"
             ],
             [
              0.1111111111111111,
              "#46039f"
             ],
             [
              0.2222222222222222,
              "#7201a8"
             ],
             [
              0.3333333333333333,
              "#9c179e"
             ],
             [
              0.4444444444444444,
              "#bd3786"
             ],
             [
              0.5555555555555556,
              "#d8576b"
             ],
             [
              0.6666666666666666,
              "#ed7953"
             ],
             [
              0.7777777777777778,
              "#fb9f3a"
             ],
             [
              0.8888888888888888,
              "#fdca26"
             ],
             [
              1,
              "#f0f921"
             ]
            ],
            "type": "contour"
           }
          ],
          "contourcarpet": [
           {
            "colorbar": {
             "outlinewidth": 0,
             "ticks": ""
            },
            "type": "contourcarpet"
           }
          ],
          "heatmap": [
           {
            "colorbar": {
             "outlinewidth": 0,
             "ticks": ""
            },
            "colorscale": [
             [
              0,
              "#0d0887"
             ],
             [
              0.1111111111111111,
              "#46039f"
             ],
             [
              0.2222222222222222,
              "#7201a8"
             ],
             [
              0.3333333333333333,
              "#9c179e"
             ],
             [
              0.4444444444444444,
              "#bd3786"
             ],
             [
              0.5555555555555556,
              "#d8576b"
             ],
             [
              0.6666666666666666,
              "#ed7953"
             ],
             [
              0.7777777777777778,
              "#fb9f3a"
             ],
             [
              0.8888888888888888,
              "#fdca26"
             ],
             [
              1,
              "#f0f921"
             ]
            ],
            "type": "heatmap"
           }
          ],
          "histogram": [
           {
            "marker": {
             "pattern": {
              "fillmode": "overlay",
              "size": 10,
              "solidity": 0.2
             }
            },
            "type": "histogram"
           }
          ],
          "histogram2d": [
           {
            "colorbar": {
             "outlinewidth": 0,
             "ticks": ""
            },
            "colorscale": [
             [
              0,
              "#0d0887"
             ],
             [
              0.1111111111111111,
              "#46039f"
             ],
             [
              0.2222222222222222,
              "#7201a8"
             ],
             [
              0.3333333333333333,
              "#9c179e"
             ],
             [
              0.4444444444444444,
              "#bd3786"
             ],
             [
              0.5555555555555556,
              "#d8576b"
             ],
             [
              0.6666666666666666,
              "#ed7953"
             ],
             [
              0.7777777777777778,
              "#fb9f3a"
             ],
             [
              0.8888888888888888,
              "#fdca26"
             ],
             [
              1,
              "#f0f921"
             ]
            ],
            "type": "histogram2d"
           }
          ],
          "histogram2dcontour": [
           {
            "colorbar": {
             "outlinewidth": 0,
             "ticks": ""
            },
            "colorscale": [
             [
              0,
              "#0d0887"
             ],
             [
              0.1111111111111111,
              "#46039f"
             ],
             [
              0.2222222222222222,
              "#7201a8"
             ],
             [
              0.3333333333333333,
              "#9c179e"
             ],
             [
              0.4444444444444444,
              "#bd3786"
             ],
             [
              0.5555555555555556,
              "#d8576b"
             ],
             [
              0.6666666666666666,
              "#ed7953"
             ],
             [
              0.7777777777777778,
              "#fb9f3a"
             ],
             [
              0.8888888888888888,
              "#fdca26"
             ],
             [
              1,
              "#f0f921"
             ]
            ],
            "type": "histogram2dcontour"
           }
          ],
          "mesh3d": [
           {
            "colorbar": {
             "outlinewidth": 0,
             "ticks": ""
            },
            "type": "mesh3d"
           }
          ],
          "parcoords": [
           {
            "line": {
             "colorbar": {
              "outlinewidth": 0,
              "ticks": ""
             }
            },
            "type": "parcoords"
           }
          ],
          "pie": [
           {
            "automargin": true,
            "type": "pie"
           }
          ],
          "scatter": [
           {
            "fillpattern": {
             "fillmode": "overlay",
             "size": 10,
             "solidity": 0.2
            },
            "type": "scatter"
           }
          ],
          "scatter3d": [
           {
            "line": {
             "colorbar": {
              "outlinewidth": 0,
              "ticks": ""
             }
            },
            "marker": {
             "colorbar": {
              "outlinewidth": 0,
              "ticks": ""
             }
            },
            "type": "scatter3d"
           }
          ],
          "scattercarpet": [
           {
            "marker": {
             "colorbar": {
              "outlinewidth": 0,
              "ticks": ""
             }
            },
            "type": "scattercarpet"
           }
          ],
          "scattergeo": [
           {
            "marker": {
             "colorbar": {
              "outlinewidth": 0,
              "ticks": ""
             }
            },
            "type": "scattergeo"
           }
          ],
          "scattergl": [
           {
            "marker": {
             "colorbar": {
              "outlinewidth": 0,
              "ticks": ""
             }
            },
            "type": "scattergl"
           }
          ],
          "scattermap": [
           {
            "marker": {
             "colorbar": {
              "outlinewidth": 0,
              "ticks": ""
             }
            },
            "type": "scattermap"
           }
          ],
          "scattermapbox": [
           {
            "marker": {
             "colorbar": {
              "outlinewidth": 0,
              "ticks": ""
             }
            },
            "type": "scattermapbox"
           }
          ],
          "scatterpolar": [
           {
            "marker": {
             "colorbar": {
              "outlinewidth": 0,
              "ticks": ""
             }
            },
            "type": "scatterpolar"
           }
          ],
          "scatterpolargl": [
           {
            "marker": {
             "colorbar": {
              "outlinewidth": 0,
              "ticks": ""
             }
            },
            "type": "scatterpolargl"
           }
          ],
          "scatterternary": [
           {
            "marker": {
             "colorbar": {
              "outlinewidth": 0,
              "ticks": ""
             }
            },
            "type": "scatterternary"
           }
          ],
          "surface": [
           {
            "colorbar": {
             "outlinewidth": 0,
             "ticks": ""
            },
            "colorscale": [
             [
              0,
              "#0d0887"
             ],
             [
              0.1111111111111111,
              "#46039f"
             ],
             [
              0.2222222222222222,
              "#7201a8"
             ],
             [
              0.3333333333333333,
              "#9c179e"
             ],
             [
              0.4444444444444444,
              "#bd3786"
             ],
             [
              0.5555555555555556,
              "#d8576b"
             ],
             [
              0.6666666666666666,
              "#ed7953"
             ],
             [
              0.7777777777777778,
              "#fb9f3a"
             ],
             [
              0.8888888888888888,
              "#fdca26"
             ],
             [
              1,
              "#f0f921"
             ]
            ],
            "type": "surface"
           }
          ],
          "table": [
           {
            "cells": {
             "fill": {
              "color": "#EBF0F8"
             },
             "line": {
              "color": "white"
             }
            },
            "header": {
             "fill": {
              "color": "#C8D4E3"
             },
             "line": {
              "color": "white"
             }
            },
            "type": "table"
           }
          ]
         },
         "layout": {
          "annotationdefaults": {
           "arrowcolor": "#2a3f5f",
           "arrowhead": 0,
           "arrowwidth": 1
          },
          "autotypenumbers": "strict",
          "coloraxis": {
           "colorbar": {
            "outlinewidth": 0,
            "ticks": ""
           }
          },
          "colorscale": {
           "diverging": [
            [
             0,
             "#8e0152"
            ],
            [
             0.1,
             "#c51b7d"
            ],
            [
             0.2,
             "#de77ae"
            ],
            [
             0.3,
             "#f1b6da"
            ],
            [
             0.4,
             "#fde0ef"
            ],
            [
             0.5,
             "#f7f7f7"
            ],
            [
             0.6,
             "#e6f5d0"
            ],
            [
             0.7,
             "#b8e186"
            ],
            [
             0.8,
             "#7fbc41"
            ],
            [
             0.9,
             "#4d9221"
            ],
            [
             1,
             "#276419"
            ]
           ],
           "sequential": [
            [
             0,
             "#0d0887"
            ],
            [
             0.1111111111111111,
             "#46039f"
            ],
            [
             0.2222222222222222,
             "#7201a8"
            ],
            [
             0.3333333333333333,
             "#9c179e"
            ],
            [
             0.4444444444444444,
             "#bd3786"
            ],
            [
             0.5555555555555556,
             "#d8576b"
            ],
            [
             0.6666666666666666,
             "#ed7953"
            ],
            [
             0.7777777777777778,
             "#fb9f3a"
            ],
            [
             0.8888888888888888,
             "#fdca26"
            ],
            [
             1,
             "#f0f921"
            ]
           ],
           "sequentialminus": [
            [
             0,
             "#0d0887"
            ],
            [
             0.1111111111111111,
             "#46039f"
            ],
            [
             0.2222222222222222,
             "#7201a8"
            ],
            [
             0.3333333333333333,
             "#9c179e"
            ],
            [
             0.4444444444444444,
             "#bd3786"
            ],
            [
             0.5555555555555556,
             "#d8576b"
            ],
            [
             0.6666666666666666,
             "#ed7953"
            ],
            [
             0.7777777777777778,
             "#fb9f3a"
            ],
            [
             0.8888888888888888,
             "#fdca26"
            ],
            [
             1,
             "#f0f921"
            ]
           ]
          },
          "colorway": [
           "#636efa",
           "#EF553B",
           "#00cc96",
           "#ab63fa",
           "#FFA15A",
           "#19d3f3",
           "#FF6692",
           "#B6E880",
           "#FF97FF",
           "#FECB52"
          ],
          "font": {
           "color": "#2a3f5f"
          },
          "geo": {
           "bgcolor": "white",
           "lakecolor": "white",
           "landcolor": "white",
           "showlakes": true,
           "showland": true,
           "subunitcolor": "#C8D4E3"
          },
          "hoverlabel": {
           "align": "left"
          },
          "hovermode": "closest",
          "mapbox": {
           "style": "light"
          },
          "paper_bgcolor": "white",
          "plot_bgcolor": "white",
          "polar": {
           "angularaxis": {
            "gridcolor": "#EBF0F8",
            "linecolor": "#EBF0F8",
            "ticks": ""
           },
           "bgcolor": "white",
           "radialaxis": {
            "gridcolor": "#EBF0F8",
            "linecolor": "#EBF0F8",
            "ticks": ""
           }
          },
          "scene": {
           "xaxis": {
            "backgroundcolor": "white",
            "gridcolor": "#DFE8F3",
            "gridwidth": 2,
            "linecolor": "#EBF0F8",
            "showbackground": true,
            "ticks": "",
            "zerolinecolor": "#EBF0F8"
           },
           "yaxis": {
            "backgroundcolor": "white",
            "gridcolor": "#DFE8F3",
            "gridwidth": 2,
            "linecolor": "#EBF0F8",
            "showbackground": true,
            "ticks": "",
            "zerolinecolor": "#EBF0F8"
           },
           "zaxis": {
            "backgroundcolor": "white",
            "gridcolor": "#DFE8F3",
            "gridwidth": 2,
            "linecolor": "#EBF0F8",
            "showbackground": true,
            "ticks": "",
            "zerolinecolor": "#EBF0F8"
           }
          },
          "shapedefaults": {
           "line": {
            "color": "#2a3f5f"
           }
          },
          "ternary": {
           "aaxis": {
            "gridcolor": "#DFE8F3",
            "linecolor": "#A2B1C6",
            "ticks": ""
           },
           "baxis": {
            "gridcolor": "#DFE8F3",
            "linecolor": "#A2B1C6",
            "ticks": ""
           },
           "bgcolor": "white",
           "caxis": {
            "gridcolor": "#DFE8F3",
            "linecolor": "#A2B1C6",
            "ticks": ""
           }
          },
          "title": {
           "x": 0.05
          },
          "xaxis": {
           "automargin": true,
           "gridcolor": "#EBF0F8",
           "linecolor": "#EBF0F8",
           "ticks": "",
           "title": {
            "standoff": 15
           },
           "zerolinecolor": "#EBF0F8",
           "zerolinewidth": 2
          },
          "yaxis": {
           "automargin": true,
           "gridcolor": "#EBF0F8",
           "linecolor": "#EBF0F8",
           "ticks": "",
           "title": {
            "standoff": 15
           },
           "zerolinecolor": "#EBF0F8",
           "zerolinewidth": 2
          }
         }
        },
        "title": {
         "text": "Engagement Sources"
        }
       }
      }
     },
     "metadata": {},
     "output_type": "display_data"
    }
   ],
   "source": [
    "# Now let’s have a look at the distribution of engagement sources:\n",
    "engagement_metrics = ['Saves', 'Comments', 'Shares', 'Likes']\n",
    "engagement_counts = [data[metric].sum() for metric in engagement_metrics]\n",
    "\n",
    "colors = ['#FFB6C1', '#87CEFA', '#90EE90', '#FFDAB9']\n",
    "\n",
    "fig = px.pie(data_frame=data, names=engagement_metrics, \n",
    "             values=engagement_counts, \n",
    "             title='Engagement Sources',\n",
    "             color_discrete_sequence=colors)\n",
    "fig.show()"
   ]
  },
  {
   "cell_type": "code",
   "execution_count": null,
   "id": "1c9f3efb",
   "metadata": {},
   "outputs": [
    {
     "data": {
      "application/vnd.plotly.v1+json": {
       "config": {
        "plotlyServerURL": "https://plot.ly"
       },
       "data": [
        {
         "hovertemplate": "Profile Visits=%{x}<br>Follows=%{y}<extra></extra>",
         "legendgroup": "",
         "marker": {
          "color": "#636efa",
          "symbol": "circle"
         },
         "mode": "markers",
         "name": "",
         "orientation": "v",
         "showlegend": false,
         "type": "scatter",
         "x": {
          "bdata": "IwAwAD4AFwAIAAkAGgAMACQAHwAdAA8ACAAUALUAEQAQABUATQAKAAkACwCQAA4ACgATAEUACwATAAkAOQANAAsAGABRAAQABwAOABIACABKARUAEwAgABMAFQAOAB4AJwAqAB8AFAAMABYAMgENABoAEAAPAA8AJwAVAAgALQAyACUAGQBbARoAMAAQABoAEQA0ABYAKQCbAAwAFgAUABcAGQARABAAFQBNAAoADgAeACcAKgAfAA4ACgATAEUACwATAAkAJgAqAFwASwAVABoAJwBKANMBGABGABYALgA9AO0ASQAUACIAlABjAg==",
          "dtype": "i2"
         },
         "xaxis": "x",
         "y": {
          "bdata": "AgAKAAwACAAAAAIAAAAGAAQABgAEAAAAAgAEACoABgACAAIAHgAAAAAAGABkAAIABAAGAAYABgACAAIAFAACAAQACAAaAAIAAgAEAAAAAgBeAAgAEgAKAAQABAAEAAQAEgAmAAoADAAEAAQASgAAAAYABgAAAAYADAAKAAgACAAuAAwACgBeAAYACgAGAAQADAAQAAwACAAgAAgAEAAGAAoACgAGAAIAAgAeAAAABAAEABIAJgAKAAIABAAGAAYABgACAAIADgAIAA4AHAASAAwAIgAaAAQBEABgABQAHgA6AGQAUAASAAoA1gDkAA==",
          "dtype": "i2"
         },
         "yaxis": "y"
        },
        {
         "hovertemplate": "<b>OLS trendline</b><br>Follows = 0.400884 * Profile Visits + 0.46283<br>R<sup>2</sup>=0.727868<br><br>Profile Visits=%{x}<br>Follows=%{y} <b>(trend)</b><extra></extra>",
         "legendgroup": "",
         "marker": {
          "color": "#636efa",
          "symbol": "circle"
         },
         "mode": "lines",
         "name": "",
         "showlegend": false,
         "type": "scatter",
         "x": {
          "bdata": "BAAHAAgACAAIAAgACQAJAAkACQAKAAoACgAKAAsACwALAAsADAAMAAwADQANAA4ADgAOAA4ADgAPAA8ADwAQABAAEAAQABEAEQARABIAEwATABMAEwATABMAFAAUABQAFAAVABUAFQAVABUAFQAWABYAFgAWABcAFwAYABgAGQAZABoAGgAaABoAGgAdAB4AHgAfAB8AHwAgACIAIwAkACUAJgAnACcAJwAnACkAKgAqACoALQAuADAAMAAyADQAOQA9AD4ARQBFAEYASQBKAEsATQBNAFEAXACQAJQAmwC1AO0AMgFKAVsB0wFjAg==",
          "dtype": "i2"
         },
         "xaxis": "x",
         "y": {
          "bdata": "Bn74aOqHAEDckODj8SYKQHnsLWL0Ww1AeewtYvRbDUB57C1i9FsNQHnsLWL0Ww1AC6Q9cHtIEEALpD1we0gQQAukPXB7SBBAC6Q9cHtIEEDZUWSv/OIRQNlRZK/84hFA2VFkr/ziEUDZUWSv/OIRQKj/iu59fRNAqP+K7n19E0Co/4rufX0TQKj/iu59fRNAdq2xLf8XFUB2rbEt/xcVQHatsS3/FxVARVvYbICyFkBFW9hsgLIWQBMJ/6sBTRhAEwn/qwFNGEATCf+rAU0YQBMJ/6sBTRhAEwn/qwFNGEDitiXrgucZQOK2JeuC5xlA4rYl64LnGUCwZEwqBIIbQLBkTCoEghtAsGRMKgSCG0CwZEwqBIIbQH4Sc2mFHB1AfhJzaYUcHUB+EnNphRwdQE3AmagGtx5ADjfg88MoIEAON+DzwyggQA434PPDKCBADjfg88MoIEAON+DzwyggQA434PPDKCBA9I1zkwT2IED0jXOTBPYgQPSNc5ME9iBA9I1zkwT2IEDc5AYzRcMhQNzkBjNFwyFA3OQGM0XDIUDc5AYzRcMhQNzkBjNFwyFA3OQGM0XDIUDEO5rShZAiQMQ7mtKFkCJAxDua0oWQIkDEO5rShZAiQKqSLXLGXSNAqpItcsZdI0CS6cARByskQJLpwBEHKyRAeEBUsUf4JEB4QFSxR/gkQGCX51CIxSVAYJfnUIjFJUBgl+dQiMUlQGCX51CIxSVAYJfnUIjFJUAWnKEvSi0oQP7yNM+K+ihA/vI0z4r6KEDkSchuy8cpQORJyG7LxylA5EnIbsvHKUDMoFsODJUqQJpOgk2NLyxAgqUV7c38LEBo/KiMDsotQFBTPCxPly5ANqrPy49kL0CPgLE16BgwQI+AsTXoGDBAj4CxNegYMECPgLE16BgwQHbXRNUo5jBA6oIOJclMMUDqgg4lyUwxQOqCDiXJTDFARIVrFKqAMkC4MDVkSucyQJ+HyAOLtDNAn4fIA4u0M0CG3lujy4E0QG4170IMTzVAsI7f0S1QN0B+PAYRr+o4QPLnz2BPUTlAG5hTj7EfPEAbmFOPsR88QI9DHd9RhjxA6UV6zjK6PUBd8UMe0yA+QNGcDW5zhz5AuPOgDbRUP0C486ANtFQ/QMPQY6aad0BAv/84XQysQkB9abR3VBhNQGTARxeV5U1AeZiJLsZMT0CspuMddUFSQP8G63o53ldAidRB24bIXkCf7P1cJJhgQPV4igY5cmFAu4Rbs511Z0DckolP46xuQA==",
          "dtype": "f8"
         },
         "yaxis": "y"
        }
       ],
       "layout": {
        "legend": {
         "tracegroupgap": 0
        },
        "template": {
         "data": {
          "bar": [
           {
            "error_x": {
             "color": "#2a3f5f"
            },
            "error_y": {
             "color": "#2a3f5f"
            },
            "marker": {
             "line": {
              "color": "white",
              "width": 0.5
             },
             "pattern": {
              "fillmode": "overlay",
              "size": 10,
              "solidity": 0.2
             }
            },
            "type": "bar"
           }
          ],
          "barpolar": [
           {
            "marker": {
             "line": {
              "color": "white",
              "width": 0.5
             },
             "pattern": {
              "fillmode": "overlay",
              "size": 10,
              "solidity": 0.2
             }
            },
            "type": "barpolar"
           }
          ],
          "carpet": [
           {
            "aaxis": {
             "endlinecolor": "#2a3f5f",
             "gridcolor": "#C8D4E3",
             "linecolor": "#C8D4E3",
             "minorgridcolor": "#C8D4E3",
             "startlinecolor": "#2a3f5f"
            },
            "baxis": {
             "endlinecolor": "#2a3f5f",
             "gridcolor": "#C8D4E3",
             "linecolor": "#C8D4E3",
             "minorgridcolor": "#C8D4E3",
             "startlinecolor": "#2a3f5f"
            },
            "type": "carpet"
           }
          ],
          "choropleth": [
           {
            "colorbar": {
             "outlinewidth": 0,
             "ticks": ""
            },
            "type": "choropleth"
           }
          ],
          "contour": [
           {
            "colorbar": {
             "outlinewidth": 0,
             "ticks": ""
            },
            "colorscale": [
             [
              0,
              "#0d0887"
             ],
             [
              0.1111111111111111,
              "#46039f"
             ],
             [
              0.2222222222222222,
              "#7201a8"
             ],
             [
              0.3333333333333333,
              "#9c179e"
             ],
             [
              0.4444444444444444,
              "#bd3786"
             ],
             [
              0.5555555555555556,
              "#d8576b"
             ],
             [
              0.6666666666666666,
              "#ed7953"
             ],
             [
              0.7777777777777778,
              "#fb9f3a"
             ],
             [
              0.8888888888888888,
              "#fdca26"
             ],
             [
              1,
              "#f0f921"
             ]
            ],
            "type": "contour"
           }
          ],
          "contourcarpet": [
           {
            "colorbar": {
             "outlinewidth": 0,
             "ticks": ""
            },
            "type": "contourcarpet"
           }
          ],
          "heatmap": [
           {
            "colorbar": {
             "outlinewidth": 0,
             "ticks": ""
            },
            "colorscale": [
             [
              0,
              "#0d0887"
             ],
             [
              0.1111111111111111,
              "#46039f"
             ],
             [
              0.2222222222222222,
              "#7201a8"
             ],
             [
              0.3333333333333333,
              "#9c179e"
             ],
             [
              0.4444444444444444,
              "#bd3786"
             ],
             [
              0.5555555555555556,
              "#d8576b"
             ],
             [
              0.6666666666666666,
              "#ed7953"
             ],
             [
              0.7777777777777778,
              "#fb9f3a"
             ],
             [
              0.8888888888888888,
              "#fdca26"
             ],
             [
              1,
              "#f0f921"
             ]
            ],
            "type": "heatmap"
           }
          ],
          "histogram": [
           {
            "marker": {
             "pattern": {
              "fillmode": "overlay",
              "size": 10,
              "solidity": 0.2
             }
            },
            "type": "histogram"
           }
          ],
          "histogram2d": [
           {
            "colorbar": {
             "outlinewidth": 0,
             "ticks": ""
            },
            "colorscale": [
             [
              0,
              "#0d0887"
             ],
             [
              0.1111111111111111,
              "#46039f"
             ],
             [
              0.2222222222222222,
              "#7201a8"
             ],
             [
              0.3333333333333333,
              "#9c179e"
             ],
             [
              0.4444444444444444,
              "#bd3786"
             ],
             [
              0.5555555555555556,
              "#d8576b"
             ],
             [
              0.6666666666666666,
              "#ed7953"
             ],
             [
              0.7777777777777778,
              "#fb9f3a"
             ],
             [
              0.8888888888888888,
              "#fdca26"
             ],
             [
              1,
              "#f0f921"
             ]
            ],
            "type": "histogram2d"
           }
          ],
          "histogram2dcontour": [
           {
            "colorbar": {
             "outlinewidth": 0,
             "ticks": ""
            },
            "colorscale": [
             [
              0,
              "#0d0887"
             ],
             [
              0.1111111111111111,
              "#46039f"
             ],
             [
              0.2222222222222222,
              "#7201a8"
             ],
             [
              0.3333333333333333,
              "#9c179e"
             ],
             [
              0.4444444444444444,
              "#bd3786"
             ],
             [
              0.5555555555555556,
              "#d8576b"
             ],
             [
              0.6666666666666666,
              "#ed7953"
             ],
             [
              0.7777777777777778,
              "#fb9f3a"
             ],
             [
              0.8888888888888888,
              "#fdca26"
             ],
             [
              1,
              "#f0f921"
             ]
            ],
            "type": "histogram2dcontour"
           }
          ],
          "mesh3d": [
           {
            "colorbar": {
             "outlinewidth": 0,
             "ticks": ""
            },
            "type": "mesh3d"
           }
          ],
          "parcoords": [
           {
            "line": {
             "colorbar": {
              "outlinewidth": 0,
              "ticks": ""
             }
            },
            "type": "parcoords"
           }
          ],
          "pie": [
           {
            "automargin": true,
            "type": "pie"
           }
          ],
          "scatter": [
           {
            "fillpattern": {
             "fillmode": "overlay",
             "size": 10,
             "solidity": 0.2
            },
            "type": "scatter"
           }
          ],
          "scatter3d": [
           {
            "line": {
             "colorbar": {
              "outlinewidth": 0,
              "ticks": ""
             }
            },
            "marker": {
             "colorbar": {
              "outlinewidth": 0,
              "ticks": ""
             }
            },
            "type": "scatter3d"
           }
          ],
          "scattercarpet": [
           {
            "marker": {
             "colorbar": {
              "outlinewidth": 0,
              "ticks": ""
             }
            },
            "type": "scattercarpet"
           }
          ],
          "scattergeo": [
           {
            "marker": {
             "colorbar": {
              "outlinewidth": 0,
              "ticks": ""
             }
            },
            "type": "scattergeo"
           }
          ],
          "scattergl": [
           {
            "marker": {
             "colorbar": {
              "outlinewidth": 0,
              "ticks": ""
             }
            },
            "type": "scattergl"
           }
          ],
          "scattermap": [
           {
            "marker": {
             "colorbar": {
              "outlinewidth": 0,
              "ticks": ""
             }
            },
            "type": "scattermap"
           }
          ],
          "scattermapbox": [
           {
            "marker": {
             "colorbar": {
              "outlinewidth": 0,
              "ticks": ""
             }
            },
            "type": "scattermapbox"
           }
          ],
          "scatterpolar": [
           {
            "marker": {
             "colorbar": {
              "outlinewidth": 0,
              "ticks": ""
             }
            },
            "type": "scatterpolar"
           }
          ],
          "scatterpolargl": [
           {
            "marker": {
             "colorbar": {
              "outlinewidth": 0,
              "ticks": ""
             }
            },
            "type": "scatterpolargl"
           }
          ],
          "scatterternary": [
           {
            "marker": {
             "colorbar": {
              "outlinewidth": 0,
              "ticks": ""
             }
            },
            "type": "scatterternary"
           }
          ],
          "surface": [
           {
            "colorbar": {
             "outlinewidth": 0,
             "ticks": ""
            },
            "colorscale": [
             [
              0,
              "#0d0887"
             ],
             [
              0.1111111111111111,
              "#46039f"
             ],
             [
              0.2222222222222222,
              "#7201a8"
             ],
             [
              0.3333333333333333,
              "#9c179e"
             ],
             [
              0.4444444444444444,
              "#bd3786"
             ],
             [
              0.5555555555555556,
              "#d8576b"
             ],
             [
              0.6666666666666666,
              "#ed7953"
             ],
             [
              0.7777777777777778,
              "#fb9f3a"
             ],
             [
              0.8888888888888888,
              "#fdca26"
             ],
             [
              1,
              "#f0f921"
             ]
            ],
            "type": "surface"
           }
          ],
          "table": [
           {
            "cells": {
             "fill": {
              "color": "#EBF0F8"
             },
             "line": {
              "color": "white"
             }
            },
            "header": {
             "fill": {
              "color": "#C8D4E3"
             },
             "line": {
              "color": "white"
             }
            },
            "type": "table"
           }
          ]
         },
         "layout": {
          "annotationdefaults": {
           "arrowcolor": "#2a3f5f",
           "arrowhead": 0,
           "arrowwidth": 1
          },
          "autotypenumbers": "strict",
          "coloraxis": {
           "colorbar": {
            "outlinewidth": 0,
            "ticks": ""
           }
          },
          "colorscale": {
           "diverging": [
            [
             0,
             "#8e0152"
            ],
            [
             0.1,
             "#c51b7d"
            ],
            [
             0.2,
             "#de77ae"
            ],
            [
             0.3,
             "#f1b6da"
            ],
            [
             0.4,
             "#fde0ef"
            ],
            [
             0.5,
             "#f7f7f7"
            ],
            [
             0.6,
             "#e6f5d0"
            ],
            [
             0.7,
             "#b8e186"
            ],
            [
             0.8,
             "#7fbc41"
            ],
            [
             0.9,
             "#4d9221"
            ],
            [
             1,
             "#276419"
            ]
           ],
           "sequential": [
            [
             0,
             "#0d0887"
            ],
            [
             0.1111111111111111,
             "#46039f"
            ],
            [
             0.2222222222222222,
             "#7201a8"
            ],
            [
             0.3333333333333333,
             "#9c179e"
            ],
            [
             0.4444444444444444,
             "#bd3786"
            ],
            [
             0.5555555555555556,
             "#d8576b"
            ],
            [
             0.6666666666666666,
             "#ed7953"
            ],
            [
             0.7777777777777778,
             "#fb9f3a"
            ],
            [
             0.8888888888888888,
             "#fdca26"
            ],
            [
             1,
             "#f0f921"
            ]
           ],
           "sequentialminus": [
            [
             0,
             "#0d0887"
            ],
            [
             0.1111111111111111,
             "#46039f"
            ],
            [
             0.2222222222222222,
             "#7201a8"
            ],
            [
             0.3333333333333333,
             "#9c179e"
            ],
            [
             0.4444444444444444,
             "#bd3786"
            ],
            [
             0.5555555555555556,
             "#d8576b"
            ],
            [
             0.6666666666666666,
             "#ed7953"
            ],
            [
             0.7777777777777778,
             "#fb9f3a"
            ],
            [
             0.8888888888888888,
             "#fdca26"
            ],
            [
             1,
             "#f0f921"
            ]
           ]
          },
          "colorway": [
           "#636efa",
           "#EF553B",
           "#00cc96",
           "#ab63fa",
           "#FFA15A",
           "#19d3f3",
           "#FF6692",
           "#B6E880",
           "#FF97FF",
           "#FECB52"
          ],
          "font": {
           "color": "#2a3f5f"
          },
          "geo": {
           "bgcolor": "white",
           "lakecolor": "white",
           "landcolor": "white",
           "showlakes": true,
           "showland": true,
           "subunitcolor": "#C8D4E3"
          },
          "hoverlabel": {
           "align": "left"
          },
          "hovermode": "closest",
          "mapbox": {
           "style": "light"
          },
          "paper_bgcolor": "white",
          "plot_bgcolor": "white",
          "polar": {
           "angularaxis": {
            "gridcolor": "#EBF0F8",
            "linecolor": "#EBF0F8",
            "ticks": ""
           },
           "bgcolor": "white",
           "radialaxis": {
            "gridcolor": "#EBF0F8",
            "linecolor": "#EBF0F8",
            "ticks": ""
           }
          },
          "scene": {
           "xaxis": {
            "backgroundcolor": "white",
            "gridcolor": "#DFE8F3",
            "gridwidth": 2,
            "linecolor": "#EBF0F8",
            "showbackground": true,
            "ticks": "",
            "zerolinecolor": "#EBF0F8"
           },
           "yaxis": {
            "backgroundcolor": "white",
            "gridcolor": "#DFE8F3",
            "gridwidth": 2,
            "linecolor": "#EBF0F8",
            "showbackground": true,
            "ticks": "",
            "zerolinecolor": "#EBF0F8"
           },
           "zaxis": {
            "backgroundcolor": "white",
            "gridcolor": "#DFE8F3",
            "gridwidth": 2,
            "linecolor": "#EBF0F8",
            "showbackground": true,
            "ticks": "",
            "zerolinecolor": "#EBF0F8"
           }
          },
          "shapedefaults": {
           "line": {
            "color": "#2a3f5f"
           }
          },
          "ternary": {
           "aaxis": {
            "gridcolor": "#DFE8F3",
            "linecolor": "#A2B1C6",
            "ticks": ""
           },
           "baxis": {
            "gridcolor": "#DFE8F3",
            "linecolor": "#A2B1C6",
            "ticks": ""
           },
           "bgcolor": "white",
           "caxis": {
            "gridcolor": "#DFE8F3",
            "linecolor": "#A2B1C6",
            "ticks": ""
           }
          },
          "title": {
           "x": 0.05
          },
          "xaxis": {
           "automargin": true,
           "gridcolor": "#EBF0F8",
           "linecolor": "#EBF0F8",
           "ticks": "",
           "title": {
            "standoff": 15
           },
           "zerolinecolor": "#EBF0F8",
           "zerolinewidth": 2
          },
          "yaxis": {
           "automargin": true,
           "gridcolor": "#EBF0F8",
           "linecolor": "#EBF0F8",
           "ticks": "",
           "title": {
            "standoff": 15
           },
           "zerolinecolor": "#EBF0F8",
           "zerolinewidth": 2
          }
         }
        },
        "title": {
         "text": "Profile Visits vs. Follows"
        },
        "xaxis": {
         "anchor": "y",
         "domain": [
          0,
          1
         ],
         "title": {
          "text": "Profile Visits"
         }
        },
        "yaxis": {
         "anchor": "x",
         "domain": [
          0,
          1
         ],
         "title": {
          "text": "Follows"
         }
        }
       }
      }
     },
     "metadata": {},
     "output_type": "display_data"
    }
   ],
   "source": [
    "# Now let’s have a look at the relationship between the number of profile visits and follows:\n",
    "fig = px.scatter(data, \n",
    "                 x='Profile Visits', \n",
    "                 y='Follows', \n",
    "                 trendline = 'ols',\n",
    "                 title='Profile Visits vs. Follows')\n",
    "fig.show()"
   ]
  },
  {
   "cell_type": "code",
   "execution_count": null,
   "id": "b99c90dd",
   "metadata": {},
   "outputs": [
    {
     "data": {
      "application/vnd.plotly.v1+json": {
       "config": {
        "plotlyServerURL": "https://plot.ly"
       },
       "data": [
        {
         "hovertemplate": "x: %{x}<br>y: %{y}<br>color: [%{z[0]}, %{z[1]}, %{z[2]}]<extra></extra>",
         "name": "0",
         "source": "data:image/png;base64,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",
         "type": "image",
         "xaxis": "x",
         "yaxis": "y"
        }
       ],
       "layout": {
        "template": {
         "data": {
          "bar": [
           {
            "error_x": {
             "color": "#2a3f5f"
            },
            "error_y": {
             "color": "#2a3f5f"
            },
            "marker": {
             "line": {
              "color": "white",
              "width": 0.5
             },
             "pattern": {
              "fillmode": "overlay",
              "size": 10,
              "solidity": 0.2
             }
            },
            "type": "bar"
           }
          ],
          "barpolar": [
           {
            "marker": {
             "line": {
              "color": "white",
              "width": 0.5
             },
             "pattern": {
              "fillmode": "overlay",
              "size": 10,
              "solidity": 0.2
             }
            },
            "type": "barpolar"
           }
          ],
          "carpet": [
           {
            "aaxis": {
             "endlinecolor": "#2a3f5f",
             "gridcolor": "#C8D4E3",
             "linecolor": "#C8D4E3",
             "minorgridcolor": "#C8D4E3",
             "startlinecolor": "#2a3f5f"
            },
            "baxis": {
             "endlinecolor": "#2a3f5f",
             "gridcolor": "#C8D4E3",
             "linecolor": "#C8D4E3",
             "minorgridcolor": "#C8D4E3",
             "startlinecolor": "#2a3f5f"
            },
            "type": "carpet"
           }
          ],
          "choropleth": [
           {
            "colorbar": {
             "outlinewidth": 0,
             "ticks": ""
            },
            "type": "choropleth"
           }
          ],
          "contour": [
           {
            "colorbar": {
             "outlinewidth": 0,
             "ticks": ""
            },
            "colorscale": [
             [
              0,
              "#0d0887"
             ],
             [
              0.1111111111111111,
              "#46039f"
             ],
             [
              0.2222222222222222,
              "#7201a8"
             ],
             [
              0.3333333333333333,
              "#9c179e"
             ],
             [
              0.4444444444444444,
              "#bd3786"
             ],
             [
              0.5555555555555556,
              "#d8576b"
             ],
             [
              0.6666666666666666,
              "#ed7953"
             ],
             [
              0.7777777777777778,
              "#fb9f3a"
             ],
             [
              0.8888888888888888,
              "#fdca26"
             ],
             [
              1,
              "#f0f921"
             ]
            ],
            "type": "contour"
           }
          ],
          "contourcarpet": [
           {
            "colorbar": {
             "outlinewidth": 0,
             "ticks": ""
            },
            "type": "contourcarpet"
           }
          ],
          "heatmap": [
           {
            "colorbar": {
             "outlinewidth": 0,
             "ticks": ""
            },
            "colorscale": [
             [
              0,
              "#0d0887"
             ],
             [
              0.1111111111111111,
              "#46039f"
             ],
             [
              0.2222222222222222,
              "#7201a8"
             ],
             [
              0.3333333333333333,
              "#9c179e"
             ],
             [
              0.4444444444444444,
              "#bd3786"
             ],
             [
              0.5555555555555556,
              "#d8576b"
             ],
             [
              0.6666666666666666,
              "#ed7953"
             ],
             [
              0.7777777777777778,
              "#fb9f3a"
             ],
             [
              0.8888888888888888,
              "#fdca26"
             ],
             [
              1,
              "#f0f921"
             ]
            ],
            "type": "heatmap"
           }
          ],
          "histogram": [
           {
            "marker": {
             "pattern": {
              "fillmode": "overlay",
              "size": 10,
              "solidity": 0.2
             }
            },
            "type": "histogram"
           }
          ],
          "histogram2d": [
           {
            "colorbar": {
             "outlinewidth": 0,
             "ticks": ""
            },
            "colorscale": [
             [
              0,
              "#0d0887"
             ],
             [
              0.1111111111111111,
              "#46039f"
             ],
             [
              0.2222222222222222,
              "#7201a8"
             ],
             [
              0.3333333333333333,
              "#9c179e"
             ],
             [
              0.4444444444444444,
              "#bd3786"
             ],
             [
              0.5555555555555556,
              "#d8576b"
             ],
             [
              0.6666666666666666,
              "#ed7953"
             ],
             [
              0.7777777777777778,
              "#fb9f3a"
             ],
             [
              0.8888888888888888,
              "#fdca26"
             ],
             [
              1,
              "#f0f921"
             ]
            ],
            "type": "histogram2d"
           }
          ],
          "histogram2dcontour": [
           {
            "colorbar": {
             "outlinewidth": 0,
             "ticks": ""
            },
            "colorscale": [
             [
              0,
              "#0d0887"
             ],
             [
              0.1111111111111111,
              "#46039f"
             ],
             [
              0.2222222222222222,
              "#7201a8"
             ],
             [
              0.3333333333333333,
              "#9c179e"
             ],
             [
              0.4444444444444444,
              "#bd3786"
             ],
             [
              0.5555555555555556,
              "#d8576b"
             ],
             [
              0.6666666666666666,
              "#ed7953"
             ],
             [
              0.7777777777777778,
              "#fb9f3a"
             ],
             [
              0.8888888888888888,
              "#fdca26"
             ],
             [
              1,
              "#f0f921"
             ]
            ],
            "type": "histogram2dcontour"
           }
          ],
          "mesh3d": [
           {
            "colorbar": {
             "outlinewidth": 0,
             "ticks": ""
            },
            "type": "mesh3d"
           }
          ],
          "parcoords": [
           {
            "line": {
             "colorbar": {
              "outlinewidth": 0,
              "ticks": ""
             }
            },
            "type": "parcoords"
           }
          ],
          "pie": [
           {
            "automargin": true,
            "type": "pie"
           }
          ],
          "scatter": [
           {
            "fillpattern": {
             "fillmode": "overlay",
             "size": 10,
             "solidity": 0.2
            },
            "type": "scatter"
           }
          ],
          "scatter3d": [
           {
            "line": {
             "colorbar": {
              "outlinewidth": 0,
              "ticks": ""
             }
            },
            "marker": {
             "colorbar": {
              "outlinewidth": 0,
              "ticks": ""
             }
            },
            "type": "scatter3d"
           }
          ],
          "scattercarpet": [
           {
            "marker": {
             "colorbar": {
              "outlinewidth": 0,
              "ticks": ""
             }
            },
            "type": "scattercarpet"
           }
          ],
          "scattergeo": [
           {
            "marker": {
             "colorbar": {
              "outlinewidth": 0,
              "ticks": ""
             }
            },
            "type": "scattergeo"
           }
          ],
          "scattergl": [
           {
            "marker": {
             "colorbar": {
              "outlinewidth": 0,
              "ticks": ""
             }
            },
            "type": "scattergl"
           }
          ],
          "scattermap": [
           {
            "marker": {
             "colorbar": {
              "outlinewidth": 0,
              "ticks": ""
             }
            },
            "type": "scattermap"
           }
          ],
          "scattermapbox": [
           {
            "marker": {
             "colorbar": {
              "outlinewidth": 0,
              "ticks": ""
             }
            },
            "type": "scattermapbox"
           }
          ],
          "scatterpolar": [
           {
            "marker": {
             "colorbar": {
              "outlinewidth": 0,
              "ticks": ""
             }
            },
            "type": "scatterpolar"
           }
          ],
          "scatterpolargl": [
           {
            "marker": {
             "colorbar": {
              "outlinewidth": 0,
              "ticks": ""
             }
            },
            "type": "scatterpolargl"
           }
          ],
          "scatterternary": [
           {
            "marker": {
             "colorbar": {
              "outlinewidth": 0,
              "ticks": ""
             }
            },
            "type": "scatterternary"
           }
          ],
          "surface": [
           {
            "colorbar": {
             "outlinewidth": 0,
             "ticks": ""
            },
            "colorscale": [
             [
              0,
              "#0d0887"
             ],
             [
              0.1111111111111111,
              "#46039f"
             ],
             [
              0.2222222222222222,
              "#7201a8"
             ],
             [
              0.3333333333333333,
              "#9c179e"
             ],
             [
              0.4444444444444444,
              "#bd3786"
             ],
             [
              0.5555555555555556,
              "#d8576b"
             ],
             [
              0.6666666666666666,
              "#ed7953"
             ],
             [
              0.7777777777777778,
              "#fb9f3a"
             ],
             [
              0.8888888888888888,
              "#fdca26"
             ],
             [
              1,
              "#f0f921"
             ]
            ],
            "type": "surface"
           }
          ],
          "table": [
           {
            "cells": {
             "fill": {
              "color": "#EBF0F8"
             },
             "line": {
              "color": "white"
             }
            },
            "header": {
             "fill": {
              "color": "#C8D4E3"
             },
             "line": {
              "color": "white"
             }
            },
            "type": "table"
           }
          ]
         },
         "layout": {
          "annotationdefaults": {
           "arrowcolor": "#2a3f5f",
           "arrowhead": 0,
           "arrowwidth": 1
          },
          "autotypenumbers": "strict",
          "coloraxis": {
           "colorbar": {
            "outlinewidth": 0,
            "ticks": ""
           }
          },
          "colorscale": {
           "diverging": [
            [
             0,
             "#8e0152"
            ],
            [
             0.1,
             "#c51b7d"
            ],
            [
             0.2,
             "#de77ae"
            ],
            [
             0.3,
             "#f1b6da"
            ],
            [
             0.4,
             "#fde0ef"
            ],
            [
             0.5,
             "#f7f7f7"
            ],
            [
             0.6,
             "#e6f5d0"
            ],
            [
             0.7,
             "#b8e186"
            ],
            [
             0.8,
             "#7fbc41"
            ],
            [
             0.9,
             "#4d9221"
            ],
            [
             1,
             "#276419"
            ]
           ],
           "sequential": [
            [
             0,
             "#0d0887"
            ],
            [
             0.1111111111111111,
             "#46039f"
            ],
            [
             0.2222222222222222,
             "#7201a8"
            ],
            [
             0.3333333333333333,
             "#9c179e"
            ],
            [
             0.4444444444444444,
             "#bd3786"
            ],
            [
             0.5555555555555556,
             "#d8576b"
            ],
            [
             0.6666666666666666,
             "#ed7953"
            ],
            [
             0.7777777777777778,
             "#fb9f3a"
            ],
            [
             0.8888888888888888,
             "#fdca26"
            ],
            [
             1,
             "#f0f921"
            ]
           ],
           "sequentialminus": [
            [
             0,
             "#0d0887"
            ],
            [
             0.1111111111111111,
             "#46039f"
            ],
            [
             0.2222222222222222,
             "#7201a8"
            ],
            [
             0.3333333333333333,
             "#9c179e"
            ],
            [
             0.4444444444444444,
             "#bd3786"
            ],
            [
             0.5555555555555556,
             "#d8576b"
            ],
            [
             0.6666666666666666,
             "#ed7953"
            ],
            [
             0.7777777777777778,
             "#fb9f3a"
            ],
            [
             0.8888888888888888,
             "#fdca26"
            ],
            [
             1,
             "#f0f921"
            ]
           ]
          },
          "colorway": [
           "#636efa",
           "#EF553B",
           "#00cc96",
           "#ab63fa",
           "#FFA15A",
           "#19d3f3",
           "#FF6692",
           "#B6E880",
           "#FF97FF",
           "#FECB52"
          ],
          "font": {
           "color": "#2a3f5f"
          },
          "geo": {
           "bgcolor": "white",
           "lakecolor": "white",
           "landcolor": "white",
           "showlakes": true,
           "showland": true,
           "subunitcolor": "#C8D4E3"
          },
          "hoverlabel": {
           "align": "left"
          },
          "hovermode": "closest",
          "mapbox": {
           "style": "light"
          },
          "paper_bgcolor": "white",
          "plot_bgcolor": "white",
          "polar": {
           "angularaxis": {
            "gridcolor": "#EBF0F8",
            "linecolor": "#EBF0F8",
            "ticks": ""
           },
           "bgcolor": "white",
           "radialaxis": {
            "gridcolor": "#EBF0F8",
            "linecolor": "#EBF0F8",
            "ticks": ""
           }
          },
          "scene": {
           "xaxis": {
            "backgroundcolor": "white",
            "gridcolor": "#DFE8F3",
            "gridwidth": 2,
            "linecolor": "#EBF0F8",
            "showbackground": true,
            "ticks": "",
            "zerolinecolor": "#EBF0F8"
           },
           "yaxis": {
            "backgroundcolor": "white",
            "gridcolor": "#DFE8F3",
            "gridwidth": 2,
            "linecolor": "#EBF0F8",
            "showbackground": true,
            "ticks": "",
            "zerolinecolor": "#EBF0F8"
           },
           "zaxis": {
            "backgroundcolor": "white",
            "gridcolor": "#DFE8F3",
            "gridwidth": 2,
            "linecolor": "#EBF0F8",
            "showbackground": true,
            "ticks": "",
            "zerolinecolor": "#EBF0F8"
           }
          },
          "shapedefaults": {
           "line": {
            "color": "#2a3f5f"
           }
          },
          "ternary": {
           "aaxis": {
            "gridcolor": "#DFE8F3",
            "linecolor": "#A2B1C6",
            "ticks": ""
           },
           "baxis": {
            "gridcolor": "#DFE8F3",
            "linecolor": "#A2B1C6",
            "ticks": ""
           },
           "bgcolor": "white",
           "caxis": {
            "gridcolor": "#DFE8F3",
            "linecolor": "#A2B1C6",
            "ticks": ""
           }
          },
          "title": {
           "x": 0.05
          },
          "xaxis": {
           "automargin": true,
           "gridcolor": "#EBF0F8",
           "linecolor": "#EBF0F8",
           "ticks": "",
           "title": {
            "standoff": 15
           },
           "zerolinecolor": "#EBF0F8",
           "zerolinewidth": 2
          },
          "yaxis": {
           "automargin": true,
           "gridcolor": "#EBF0F8",
           "linecolor": "#EBF0F8",
           "ticks": "",
           "title": {
            "standoff": 15
           },
           "zerolinecolor": "#EBF0F8",
           "zerolinewidth": 2
          }
         }
        },
        "title": {
         "text": "Hashtags Word Cloud"
        },
        "xaxis": {
         "anchor": "y",
         "domain": [
          0,
          1
         ]
        },
        "yaxis": {
         "anchor": "x",
         "domain": [
          0,
          1
         ]
        }
       }
      }
     },
     "metadata": {},
     "output_type": "display_data"
    }
   ],
   "source": [
    "# Now let’s have a look at the type of hashtags used in the posts using a wordcloud:\n",
    "from wordcloud import WordCloud\n",
    "\n",
    "hashtags = ' '.join(data['Hashtags'].astype(str))\n",
    "wordcloud = WordCloud().generate(hashtags)\n",
    "\n",
    "fig = px.imshow(wordcloud, title='Hashtags Word Cloud')\n",
    "fig.show()"
   ]
  },
  {
   "cell_type": "code",
   "execution_count": null,
   "id": "a2cc7de3",
   "metadata": {},
   "outputs": [
    {
     "data": {
      "application/vnd.plotly.v1+json": {
       "config": {
        "plotlyServerURL": "https://plot.ly"
       },
       "data": [
        {
         "colorscale": [
          [
           0,
           "rgb(103,0,31)"
          ],
          [
           0.1,
           "rgb(178,24,43)"
          ],
          [
           0.2,
           "rgb(214,96,77)"
          ],
          [
           0.3,
           "rgb(244,165,130)"
          ],
          [
           0.4,
           "rgb(253,219,199)"
          ],
          [
           0.5,
           "rgb(247,247,247)"
          ],
          [
           0.6,
           "rgb(209,229,240)"
          ],
          [
           0.7,
           "rgb(146,197,222)"
          ],
          [
           0.8,
           "rgb(67,147,195)"
          ],
          [
           0.9,
           "rgb(33,102,172)"
          ],
          [
           1,
           "rgb(5,48,97)"
          ]
         ],
         "type": "heatmap",
         "x": [
          "Impressions",
          "From Home",
          "From Hashtags",
          "From Explore",
          "From Other",
          "Saves",
          "Comments",
          "Shares",
          "Likes",
          "Profile Visits",
          "Follows"
         ],
         "y": [
          "Impressions",
          "From Home",
          "From Hashtags",
          "From Explore",
          "From Other",
          "Saves",
          "Comments",
          "Shares",
          "Likes",
          "Profile Visits",
          "Follows"
         ],
         "z": {
          "bdata": "AAAAAAAA8D86qWwZxQfrP81sdQy/8eE/hw+tlm6Y7D+Td20/iPniP1sEg7Z27+g/0Kn6xmA1nb9askw1Qk/kP+l1z+DZMes/q3IurfRZ6D9f58JSqnXsPzqpbBnFB+s/AAAAAAAA8D/Tl/A81bjGP3nI/39Lnuk/I1wb+API4T//yAAfJproP1CHEvb5Coo/pfufPHqZ5T/zmpJlt1jmP7prt4aT/uA/kP1X2I2G5T/NbHUMv/HhP9OX8DzVuMY/AAAAAAAA8D+8pXJlxWDIP43++QBMZM0/2QW7+1WU0z/5y8kGB6rEP69+f4zzGMw/NI0oFx8w5T80KZJZfx/mP6AJyniJxuE/hw+tlm6Y7D95yP9/S57pP7ylcmXFYMg/AAAAAAAA8D/B78J4TLnfP/hlKCUA7uc/Rk/azt5LxL+/DTJtEbTjP/IZ0N4a6+Q/vbnh0+oE4T9Nd3i3/HjpP5N3bT+I+eI/I1wb+API4T+N/vkATGTNP8HvwnhMud8/AAAAAAAA8D/9j6Rh9j3VP26h00P107u/21o75yATxD+AssRLRi/ZP55xPd8wQuQ/QrLpo95+4T9bBIO2du/oP//IAB8mmug/2QW7+1WU0z/4ZSglAO7nP/2PpGH2PdU/AAAAAAAA8D8J8/Bx446bvz7g5pXGh+s/i/YMhoIP6z+KAm1biBTXP6dwC/9ZHOQ/0Kn6xmA1nb9QhxL2+QqKP/nLyQYHqsQ/Rk/azt5LxL9uodND9dO7vwnz8HHjjpu/AAAAAAAA8D8LrGgLw1aRPxBJc71Wo78/LpGit0PCuD8heyUy/wqvv1qyTDVCT+Q/pfufPHqZ5T+vfn+M8xjMP78NMm0RtOM/21o75yATxD8+4OaVxofrPwusaAvDVpE/AAAAAAAA8D8INrubP6bmP7eT6cP7Z88/MYfnp3SO3z/pdc/g2THrP/OakmW3WOY/NI0oFx8w5T/yGdDeGuvkP4CyxEtGL9k/i/YMhoIP6z8QSXO9VqO/Pwg2u5s/puY/AAAAAAAA8D9YIqKeEQnkPyGJRBf24ec/q3IurfRZ6D+6a7eGk/7gPzQpkll/H+Y/vbnh0+oE4T+ecT3fMELkP4oCbVuIFNc/LpGit0PCuD+3k+nD+2fPP1giop4RCeQ/AAAAAAAA8D/JTOfjBE3rP1/nwlKqdew/kP1X2I2G5T+gCcp4icbhP013eLf8eOk/QrLpo95+4T+ncAv/WRzkPyF7JTL/Cq+/MYfnp3SO3z8hiUQX9uHnP8lM5+METes/AAAAAAAA8D8=",
          "dtype": "f8",
          "shape": "11, 11"
         },
         "zmax": 1,
         "zmin": -1
        }
       ],
       "layout": {
        "template": {
         "data": {
          "bar": [
           {
            "error_x": {
             "color": "#2a3f5f"
            },
            "error_y": {
             "color": "#2a3f5f"
            },
            "marker": {
             "line": {
              "color": "white",
              "width": 0.5
             },
             "pattern": {
              "fillmode": "overlay",
              "size": 10,
              "solidity": 0.2
             }
            },
            "type": "bar"
           }
          ],
          "barpolar": [
           {
            "marker": {
             "line": {
              "color": "white",
              "width": 0.5
             },
             "pattern": {
              "fillmode": "overlay",
              "size": 10,
              "solidity": 0.2
             }
            },
            "type": "barpolar"
           }
          ],
          "carpet": [
           {
            "aaxis": {
             "endlinecolor": "#2a3f5f",
             "gridcolor": "#C8D4E3",
             "linecolor": "#C8D4E3",
             "minorgridcolor": "#C8D4E3",
             "startlinecolor": "#2a3f5f"
            },
            "baxis": {
             "endlinecolor": "#2a3f5f",
             "gridcolor": "#C8D4E3",
             "linecolor": "#C8D4E3",
             "minorgridcolor": "#C8D4E3",
             "startlinecolor": "#2a3f5f"
            },
            "type": "carpet"
           }
          ],
          "choropleth": [
           {
            "colorbar": {
             "outlinewidth": 0,
             "ticks": ""
            },
            "type": "choropleth"
           }
          ],
          "contour": [
           {
            "colorbar": {
             "outlinewidth": 0,
             "ticks": ""
            },
            "colorscale": [
             [
              0,
              "#0d0887"
             ],
             [
              0.1111111111111111,
              "#46039f"
             ],
             [
              0.2222222222222222,
              "#7201a8"
             ],
             [
              0.3333333333333333,
              "#9c179e"
             ],
             [
              0.4444444444444444,
              "#bd3786"
             ],
             [
              0.5555555555555556,
              "#d8576b"
             ],
             [
              0.6666666666666666,
              "#ed7953"
             ],
             [
              0.7777777777777778,
              "#fb9f3a"
             ],
             [
              0.8888888888888888,
              "#fdca26"
             ],
             [
              1,
              "#f0f921"
             ]
            ],
            "type": "contour"
           }
          ],
          "contourcarpet": [
           {
            "colorbar": {
             "outlinewidth": 0,
             "ticks": ""
            },
            "type": "contourcarpet"
           }
          ],
          "heatmap": [
           {
            "colorbar": {
             "outlinewidth": 0,
             "ticks": ""
            },
            "colorscale": [
             [
              0,
              "#0d0887"
             ],
             [
              0.1111111111111111,
              "#46039f"
             ],
             [
              0.2222222222222222,
              "#7201a8"
             ],
             [
              0.3333333333333333,
              "#9c179e"
             ],
             [
              0.4444444444444444,
              "#bd3786"
             ],
             [
              0.5555555555555556,
              "#d8576b"
             ],
             [
              0.6666666666666666,
              "#ed7953"
             ],
             [
              0.7777777777777778,
              "#fb9f3a"
             ],
             [
              0.8888888888888888,
              "#fdca26"
             ],
             [
              1,
              "#f0f921"
             ]
            ],
            "type": "heatmap"
           }
          ],
          "histogram": [
           {
            "marker": {
             "pattern": {
              "fillmode": "overlay",
              "size": 10,
              "solidity": 0.2
             }
            },
            "type": "histogram"
           }
          ],
          "histogram2d": [
           {
            "colorbar": {
             "outlinewidth": 0,
             "ticks": ""
            },
            "colorscale": [
             [
              0,
              "#0d0887"
             ],
             [
              0.1111111111111111,
              "#46039f"
             ],
             [
              0.2222222222222222,
              "#7201a8"
             ],
             [
              0.3333333333333333,
              "#9c179e"
             ],
             [
              0.4444444444444444,
              "#bd3786"
             ],
             [
              0.5555555555555556,
              "#d8576b"
             ],
             [
              0.6666666666666666,
              "#ed7953"
             ],
             [
              0.7777777777777778,
              "#fb9f3a"
             ],
             [
              0.8888888888888888,
              "#fdca26"
             ],
             [
              1,
              "#f0f921"
             ]
            ],
            "type": "histogram2d"
           }
          ],
          "histogram2dcontour": [
           {
            "colorbar": {
             "outlinewidth": 0,
             "ticks": ""
            },
            "colorscale": [
             [
              0,
              "#0d0887"
             ],
             [
              0.1111111111111111,
              "#46039f"
             ],
             [
              0.2222222222222222,
              "#7201a8"
             ],
             [
              0.3333333333333333,
              "#9c179e"
             ],
             [
              0.4444444444444444,
              "#bd3786"
             ],
             [
              0.5555555555555556,
              "#d8576b"
             ],
             [
              0.6666666666666666,
              "#ed7953"
             ],
             [
              0.7777777777777778,
              "#fb9f3a"
             ],
             [
              0.8888888888888888,
              "#fdca26"
             ],
             [
              1,
              "#f0f921"
             ]
            ],
            "type": "histogram2dcontour"
           }
          ],
          "mesh3d": [
           {
            "colorbar": {
             "outlinewidth": 0,
             "ticks": ""
            },
            "type": "mesh3d"
           }
          ],
          "parcoords": [
           {
            "line": {
             "colorbar": {
              "outlinewidth": 0,
              "ticks": ""
             }
            },
            "type": "parcoords"
           }
          ],
          "pie": [
           {
            "automargin": true,
            "type": "pie"
           }
          ],
          "scatter": [
           {
            "fillpattern": {
             "fillmode": "overlay",
             "size": 10,
             "solidity": 0.2
            },
            "type": "scatter"
           }
          ],
          "scatter3d": [
           {
            "line": {
             "colorbar": {
              "outlinewidth": 0,
              "ticks": ""
             }
            },
            "marker": {
             "colorbar": {
              "outlinewidth": 0,
              "ticks": ""
             }
            },
            "type": "scatter3d"
           }
          ],
          "scattercarpet": [
           {
            "marker": {
             "colorbar": {
              "outlinewidth": 0,
              "ticks": ""
             }
            },
            "type": "scattercarpet"
           }
          ],
          "scattergeo": [
           {
            "marker": {
             "colorbar": {
              "outlinewidth": 0,
              "ticks": ""
             }
            },
            "type": "scattergeo"
           }
          ],
          "scattergl": [
           {
            "marker": {
             "colorbar": {
              "outlinewidth": 0,
              "ticks": ""
             }
            },
            "type": "scattergl"
           }
          ],
          "scattermap": [
           {
            "marker": {
             "colorbar": {
              "outlinewidth": 0,
              "ticks": ""
             }
            },
            "type": "scattermap"
           }
          ],
          "scattermapbox": [
           {
            "marker": {
             "colorbar": {
              "outlinewidth": 0,
              "ticks": ""
             }
            },
            "type": "scattermapbox"
           }
          ],
          "scatterpolar": [
           {
            "marker": {
             "colorbar": {
              "outlinewidth": 0,
              "ticks": ""
             }
            },
            "type": "scatterpolar"
           }
          ],
          "scatterpolargl": [
           {
            "marker": {
             "colorbar": {
              "outlinewidth": 0,
              "ticks": ""
             }
            },
            "type": "scatterpolargl"
           }
          ],
          "scatterternary": [
           {
            "marker": {
             "colorbar": {
              "outlinewidth": 0,
              "ticks": ""
             }
            },
            "type": "scatterternary"
           }
          ],
          "surface": [
           {
            "colorbar": {
             "outlinewidth": 0,
             "ticks": ""
            },
            "colorscale": [
             [
              0,
              "#0d0887"
             ],
             [
              0.1111111111111111,
              "#46039f"
             ],
             [
              0.2222222222222222,
              "#7201a8"
             ],
             [
              0.3333333333333333,
              "#9c179e"
             ],
             [
              0.4444444444444444,
              "#bd3786"
             ],
             [
              0.5555555555555556,
              "#d8576b"
             ],
             [
              0.6666666666666666,
              "#ed7953"
             ],
             [
              0.7777777777777778,
              "#fb9f3a"
             ],
             [
              0.8888888888888888,
              "#fdca26"
             ],
             [
              1,
              "#f0f921"
             ]
            ],
            "type": "surface"
           }
          ],
          "table": [
           {
            "cells": {
             "fill": {
              "color": "#EBF0F8"
             },
             "line": {
              "color": "white"
             }
            },
            "header": {
             "fill": {
              "color": "#C8D4E3"
             },
             "line": {
              "color": "white"
             }
            },
            "type": "table"
           }
          ]
         },
         "layout": {
          "annotationdefaults": {
           "arrowcolor": "#2a3f5f",
           "arrowhead": 0,
           "arrowwidth": 1
          },
          "autotypenumbers": "strict",
          "coloraxis": {
           "colorbar": {
            "outlinewidth": 0,
            "ticks": ""
           }
          },
          "colorscale": {
           "diverging": [
            [
             0,
             "#8e0152"
            ],
            [
             0.1,
             "#c51b7d"
            ],
            [
             0.2,
             "#de77ae"
            ],
            [
             0.3,
             "#f1b6da"
            ],
            [
             0.4,
             "#fde0ef"
            ],
            [
             0.5,
             "#f7f7f7"
            ],
            [
             0.6,
             "#e6f5d0"
            ],
            [
             0.7,
             "#b8e186"
            ],
            [
             0.8,
             "#7fbc41"
            ],
            [
             0.9,
             "#4d9221"
            ],
            [
             1,
             "#276419"
            ]
           ],
           "sequential": [
            [
             0,
             "#0d0887"
            ],
            [
             0.1111111111111111,
             "#46039f"
            ],
            [
             0.2222222222222222,
             "#7201a8"
            ],
            [
             0.3333333333333333,
             "#9c179e"
            ],
            [
             0.4444444444444444,
             "#bd3786"
            ],
            [
             0.5555555555555556,
             "#d8576b"
            ],
            [
             0.6666666666666666,
             "#ed7953"
            ],
            [
             0.7777777777777778,
             "#fb9f3a"
            ],
            [
             0.8888888888888888,
             "#fdca26"
            ],
            [
             1,
             "#f0f921"
            ]
           ],
           "sequentialminus": [
            [
             0,
             "#0d0887"
            ],
            [
             0.1111111111111111,
             "#46039f"
            ],
            [
             0.2222222222222222,
             "#7201a8"
            ],
            [
             0.3333333333333333,
             "#9c179e"
            ],
            [
             0.4444444444444444,
             "#bd3786"
            ],
            [
             0.5555555555555556,
             "#d8576b"
            ],
            [
             0.6666666666666666,
             "#ed7953"
            ],
            [
             0.7777777777777778,
             "#fb9f3a"
            ],
            [
             0.8888888888888888,
             "#fdca26"
            ],
            [
             1,
             "#f0f921"
            ]
           ]
          },
          "colorway": [
           "#636efa",
           "#EF553B",
           "#00cc96",
           "#ab63fa",
           "#FFA15A",
           "#19d3f3",
           "#FF6692",
           "#B6E880",
           "#FF97FF",
           "#FECB52"
          ],
          "font": {
           "color": "#2a3f5f"
          },
          "geo": {
           "bgcolor": "white",
           "lakecolor": "white",
           "landcolor": "white",
           "showlakes": true,
           "showland": true,
           "subunitcolor": "#C8D4E3"
          },
          "hoverlabel": {
           "align": "left"
          },
          "hovermode": "closest",
          "mapbox": {
           "style": "light"
          },
          "paper_bgcolor": "white",
          "plot_bgcolor": "white",
          "polar": {
           "angularaxis": {
            "gridcolor": "#EBF0F8",
            "linecolor": "#EBF0F8",
            "ticks": ""
           },
           "bgcolor": "white",
           "radialaxis": {
            "gridcolor": "#EBF0F8",
            "linecolor": "#EBF0F8",
            "ticks": ""
           }
          },
          "scene": {
           "xaxis": {
            "backgroundcolor": "white",
            "gridcolor": "#DFE8F3",
            "gridwidth": 2,
            "linecolor": "#EBF0F8",
            "showbackground": true,
            "ticks": "",
            "zerolinecolor": "#EBF0F8"
           },
           "yaxis": {
            "backgroundcolor": "white",
            "gridcolor": "#DFE8F3",
            "gridwidth": 2,
            "linecolor": "#EBF0F8",
            "showbackground": true,
            "ticks": "",
            "zerolinecolor": "#EBF0F8"
           },
           "zaxis": {
            "backgroundcolor": "white",
            "gridcolor": "#DFE8F3",
            "gridwidth": 2,
            "linecolor": "#EBF0F8",
            "showbackground": true,
            "ticks": "",
            "zerolinecolor": "#EBF0F8"
           }
          },
          "shapedefaults": {
           "line": {
            "color": "#2a3f5f"
           }
          },
          "ternary": {
           "aaxis": {
            "gridcolor": "#DFE8F3",
            "linecolor": "#A2B1C6",
            "ticks": ""
           },
           "baxis": {
            "gridcolor": "#DFE8F3",
            "linecolor": "#A2B1C6",
            "ticks": ""
           },
           "bgcolor": "white",
           "caxis": {
            "gridcolor": "#DFE8F3",
            "linecolor": "#A2B1C6",
            "ticks": ""
           }
          },
          "title": {
           "x": 0.05
          },
          "xaxis": {
           "automargin": true,
           "gridcolor": "#EBF0F8",
           "linecolor": "#EBF0F8",
           "ticks": "",
           "title": {
            "standoff": 15
           },
           "zerolinecolor": "#EBF0F8",
           "zerolinewidth": 2
          },
          "yaxis": {
           "automargin": true,
           "gridcolor": "#EBF0F8",
           "linecolor": "#EBF0F8",
           "ticks": "",
           "title": {
            "standoff": 15
           },
           "zerolinecolor": "#EBF0F8",
           "zerolinewidth": 2
          }
         }
        },
        "title": {
         "text": "Correlation Matrix"
        },
        "xaxis": {
         "title": {
          "text": "Features"
         }
        },
        "yaxis": {
         "title": {
          "text": "Features"
         }
        }
       }
      }
     },
     "metadata": {},
     "output_type": "display_data"
    }
   ],
   "source": [
    "# Now let’s have a look at the correlation between all the features:\n",
    "# Select only numeric columns for correlation calculation\n",
    "numeric_data = data.select_dtypes(include=['number'])\n",
    "corr_matrix = numeric_data.corr()\n",
    "\n",
    "fig = go.Figure(data=go.Heatmap(z=corr_matrix.values,\n",
    "                               x=corr_matrix.columns,\n",
    "                               y=corr_matrix.index,\n",
    "                               colorscale='RdBu',\n",
    "                               zmin=-1,\n",
    "                               zmax=1))\n",
    "\n",
    "fig.update_layout(title='Correlation Matrix',\n",
    "                  xaxis_title='Features',\n",
    "                  yaxis_title='Features')\n",
    "\n",
    "fig.show()"
   ]
  },
  {
   "cell_type": "code",
   "execution_count": null,
   "id": "62f84b4b",
   "metadata": {},
   "outputs": [
    {
     "data": {
      "application/vnd.plotly.v1+json": {
       "config": {
        "plotlyServerURL": "https://plot.ly"
       },
       "data": [
        {
         "hovertemplate": "Hashtag=%{x}<br>Count=%{y}<extra></extra>",
         "legendgroup": "",
         "marker": {
          "color": "#636efa",
          "pattern": {
           "shape": ""
          }
         },
         "name": "",
         "orientation": "v",
         "showlegend": false,
         "textposition": "auto",
         "type": "bar",
         "x": [
          "#thecleverprogrammer",
          "#amankharwal",
          "#python",
          "#machinelearning",
          "#pythonprogramming",
          "#datascience",
          "#ai",
          "#pythonprojects",
          "#artificialintelligence",
          "#data",
          "#dataanalytics",
          "#datascientist",
          "#pythoncode",
          "#dataanalysis",
          "#deeplearning",
          "#datascienceprojects",
          "#machinelearningprojects",
          "#programming",
          "#technology",
          "#coding",
          "#tech",
          "#computerscience",
          "#bigdata",
          "#pythonlearning",
          "#pythoncoding",
          "#pythondeveloper",
          "#datavisualization",
          "#pythonprogrammer",
          "#analytics",
          "#business",
          "#statistics",
          "#machinelearningalgorithms",
          "#dataanalyst",
          "#webdevelopment",
          "#algorithm",
          "#software",
          "#naturallanguageprocessing",
          "#algorithms",
          "#nlp",
          "#neuralnetwork",
          "#ml",
          "#database",
          "#javascript",
          "#code",
          "#coder",
          "#programmer",
          "#java",
          "#softwaredeveloper",
          "#codinglife",
          "#sentimentanalysis",
          "#sentiment",
          "#webdeveloper",
          "#css",
          "#html",
          "#machinelearningmodels",
          "#developer",
          "#timeseriesanalysis",
          "#iot",
          "#analysis",
          "#timeseriesmalaysia",
          "#businessintelligence",
          "#datasciencejobs",
          "#datasciencetraining",
          "#datascienceeducation",
          "#datasciencecourse",
          "#datamining",
          "#time",
          "#timeseries",
          "#php",
          "#programminglife",
          "#hacking",
          "#programmingmemes",
          "#programmers",
          "#neuralnetworks",
          "#webdesign",
          "#dataviz",
          "#linux",
          "#casestudy",
          "#businessmodel",
          "#zomato",
          "#money",
          "#interview",
          "#finance",
          "#powerbi",
          "#tensorflow",
          "#job",
          "#artificialintelligenceai",
          "#investing",
          "#trading",
          "#stockmarket",
          "#healthcare",
          "#health",
          "#covid",
          "#investment",
          "#cryptocurrency",
          "#bitcoin",
          "#dataanalysisprojects",
          "#businessanalytics",
          "#python3",
          "#roadmap",
          "#codinginterview",
          "#pythonprogramminglanguage",
          "#otp",
          "#innovation",
          "#recommendationsystem",
          "#recommendations",
          "#recommended",
          "#otpverification",
          "#projects",
          "#casestudies",
          "#amazonfinds",
          "#security",
          "#cybersecurity",
          "#network",
          "#internet",
          "#cloud",
          "#recommendation",
          "#careergoals",
          "#jobsearch",
          "#work",
          "#tableau",
          "#stocks",
          "#forex",
          "#candlestick",
          "#candlestickcharts",
          "#career",
          "#jobs",
          "#stressdetection",
          "#education",
          "#success",
          "#motivation",
          "#clustering",
          "#careerdevelopment",
          "#careeradvice",
          "#digitalmarketing",
          "#media",
          "#socialmedia",
          "#IT",
          "#marketing",
          "#students",
          "#resume",
          "#goals",
          "#careers",
          "#stress",
          "#sql",
          "#pythonbooks",
          "#mysql",
          "#softskills",
          "#instagramreach",
          "#instagram",
          "#ukraine",
          "#pythonprogram",
          "#whatsapp",
          "@codergallery",
          "#google",
          "#news",
          "#flipkart",
          "#bookstagram",
          "#alexnet",
          "#bigdataanalytics",
          "#qrcodes",
          "#datascienceinterview",
          "#facebook",
          "#boxplots"
         ],
         "xaxis": "x",
         "y": {
          "bdata": "dXVtYV9eW1pZWFdTTk1LKysaGRgXFRQTExMTExAQDg0MCgkJCQkJCAgHBwcHBwcHBwcHBwcHBwcGBgYGBgYGBgYGBgYFBQUFBQUFBQUEBAQEBAQEBAQEBAMDAwMDAwMDAwMCAgICAgICAgICAgICAgICAgICAgICAgICAgICAgICAgICAgICAgICAgICAgICAQEBAQEBAQEBAQEBAQEBAQEBAQE=",
          "dtype": "i1"
         },
         "yaxis": "y"
        }
       ],
       "layout": {
        "barmode": "relative",
        "legend": {
         "tracegroupgap": 0
        },
        "template": {
         "data": {
          "bar": [
           {
            "error_x": {
             "color": "#2a3f5f"
            },
            "error_y": {
             "color": "#2a3f5f"
            },
            "marker": {
             "line": {
              "color": "white",
              "width": 0.5
             },
             "pattern": {
              "fillmode": "overlay",
              "size": 10,
              "solidity": 0.2
             }
            },
            "type": "bar"
           }
          ],
          "barpolar": [
           {
            "marker": {
             "line": {
              "color": "white",
              "width": 0.5
             },
             "pattern": {
              "fillmode": "overlay",
              "size": 10,
              "solidity": 0.2
             }
            },
            "type": "barpolar"
           }
          ],
          "carpet": [
           {
            "aaxis": {
             "endlinecolor": "#2a3f5f",
             "gridcolor": "#C8D4E3",
             "linecolor": "#C8D4E3",
             "minorgridcolor": "#C8D4E3",
             "startlinecolor": "#2a3f5f"
            },
            "baxis": {
             "endlinecolor": "#2a3f5f",
             "gridcolor": "#C8D4E3",
             "linecolor": "#C8D4E3",
             "minorgridcolor": "#C8D4E3",
             "startlinecolor": "#2a3f5f"
            },
            "type": "carpet"
           }
          ],
          "choropleth": [
           {
            "colorbar": {
             "outlinewidth": 0,
             "ticks": ""
            },
            "type": "choropleth"
           }
          ],
          "contour": [
           {
            "colorbar": {
             "outlinewidth": 0,
             "ticks": ""
            },
            "colorscale": [
             [
              0,
              "#0d0887"
             ],
             [
              0.1111111111111111,
              "#46039f"
             ],
             [
              0.2222222222222222,
              "#7201a8"
             ],
             [
              0.3333333333333333,
              "#9c179e"
             ],
             [
              0.4444444444444444,
              "#bd3786"
             ],
             [
              0.5555555555555556,
              "#d8576b"
             ],
             [
              0.6666666666666666,
              "#ed7953"
             ],
             [
              0.7777777777777778,
              "#fb9f3a"
             ],
             [
              0.8888888888888888,
              "#fdca26"
             ],
             [
              1,
              "#f0f921"
             ]
            ],
            "type": "contour"
           }
          ],
          "contourcarpet": [
           {
            "colorbar": {
             "outlinewidth": 0,
             "ticks": ""
            },
            "type": "contourcarpet"
           }
          ],
          "heatmap": [
           {
            "colorbar": {
             "outlinewidth": 0,
             "ticks": ""
            },
            "colorscale": [
             [
              0,
              "#0d0887"
             ],
             [
              0.1111111111111111,
              "#46039f"
             ],
             [
              0.2222222222222222,
              "#7201a8"
             ],
             [
              0.3333333333333333,
              "#9c179e"
             ],
             [
              0.4444444444444444,
              "#bd3786"
             ],
             [
              0.5555555555555556,
              "#d8576b"
             ],
             [
              0.6666666666666666,
              "#ed7953"
             ],
             [
              0.7777777777777778,
              "#fb9f3a"
             ],
             [
              0.8888888888888888,
              "#fdca26"
             ],
             [
              1,
              "#f0f921"
             ]
            ],
            "type": "heatmap"
           }
          ],
          "histogram": [
           {
            "marker": {
             "pattern": {
              "fillmode": "overlay",
              "size": 10,
              "solidity": 0.2
             }
            },
            "type": "histogram"
           }
          ],
          "histogram2d": [
           {
            "colorbar": {
             "outlinewidth": 0,
             "ticks": ""
            },
            "colorscale": [
             [
              0,
              "#0d0887"
             ],
             [
              0.1111111111111111,
              "#46039f"
             ],
             [
              0.2222222222222222,
              "#7201a8"
             ],
             [
              0.3333333333333333,
              "#9c179e"
             ],
             [
              0.4444444444444444,
              "#bd3786"
             ],
             [
              0.5555555555555556,
              "#d8576b"
             ],
             [
              0.6666666666666666,
              "#ed7953"
             ],
             [
              0.7777777777777778,
              "#fb9f3a"
             ],
             [
              0.8888888888888888,
              "#fdca26"
             ],
             [
              1,
              "#f0f921"
             ]
            ],
            "type": "histogram2d"
           }
          ],
          "histogram2dcontour": [
           {
            "colorbar": {
             "outlinewidth": 0,
             "ticks": ""
            },
            "colorscale": [
             [
              0,
              "#0d0887"
             ],
             [
              0.1111111111111111,
              "#46039f"
             ],
             [
              0.2222222222222222,
              "#7201a8"
             ],
             [
              0.3333333333333333,
              "#9c179e"
             ],
             [
              0.4444444444444444,
              "#bd3786"
             ],
             [
              0.5555555555555556,
              "#d8576b"
             ],
             [
              0.6666666666666666,
              "#ed7953"
             ],
             [
              0.7777777777777778,
              "#fb9f3a"
             ],
             [
              0.8888888888888888,
              "#fdca26"
             ],
             [
              1,
              "#f0f921"
             ]
            ],
            "type": "histogram2dcontour"
           }
          ],
          "mesh3d": [
           {
            "colorbar": {
             "outlinewidth": 0,
             "ticks": ""
            },
            "type": "mesh3d"
           }
          ],
          "parcoords": [
           {
            "line": {
             "colorbar": {
              "outlinewidth": 0,
              "ticks": ""
             }
            },
            "type": "parcoords"
           }
          ],
          "pie": [
           {
            "automargin": true,
            "type": "pie"
           }
          ],
          "scatter": [
           {
            "fillpattern": {
             "fillmode": "overlay",
             "size": 10,
             "solidity": 0.2
            },
            "type": "scatter"
           }
          ],
          "scatter3d": [
           {
            "line": {
             "colorbar": {
              "outlinewidth": 0,
              "ticks": ""
             }
            },
            "marker": {
             "colorbar": {
              "outlinewidth": 0,
              "ticks": ""
             }
            },
            "type": "scatter3d"
           }
          ],
          "scattercarpet": [
           {
            "marker": {
             "colorbar": {
              "outlinewidth": 0,
              "ticks": ""
             }
            },
            "type": "scattercarpet"
           }
          ],
          "scattergeo": [
           {
            "marker": {
             "colorbar": {
              "outlinewidth": 0,
              "ticks": ""
             }
            },
            "type": "scattergeo"
           }
          ],
          "scattergl": [
           {
            "marker": {
             "colorbar": {
              "outlinewidth": 0,
              "ticks": ""
             }
            },
            "type": "scattergl"
           }
          ],
          "scattermap": [
           {
            "marker": {
             "colorbar": {
              "outlinewidth": 0,
              "ticks": ""
             }
            },
            "type": "scattermap"
           }
          ],
          "scattermapbox": [
           {
            "marker": {
             "colorbar": {
              "outlinewidth": 0,
              "ticks": ""
             }
            },
            "type": "scattermapbox"
           }
          ],
          "scatterpolar": [
           {
            "marker": {
             "colorbar": {
              "outlinewidth": 0,
              "ticks": ""
             }
            },
            "type": "scatterpolar"
           }
          ],
          "scatterpolargl": [
           {
            "marker": {
             "colorbar": {
              "outlinewidth": 0,
              "ticks": ""
             }
            },
            "type": "scatterpolargl"
           }
          ],
          "scatterternary": [
           {
            "marker": {
             "colorbar": {
              "outlinewidth": 0,
              "ticks": ""
             }
            },
            "type": "scatterternary"
           }
          ],
          "surface": [
           {
            "colorbar": {
             "outlinewidth": 0,
             "ticks": ""
            },
            "colorscale": [
             [
              0,
              "#0d0887"
             ],
             [
              0.1111111111111111,
              "#46039f"
             ],
             [
              0.2222222222222222,
              "#7201a8"
             ],
             [
              0.3333333333333333,
              "#9c179e"
             ],
             [
              0.4444444444444444,
              "#bd3786"
             ],
             [
              0.5555555555555556,
              "#d8576b"
             ],
             [
              0.6666666666666666,
              "#ed7953"
             ],
             [
              0.7777777777777778,
              "#fb9f3a"
             ],
             [
              0.8888888888888888,
              "#fdca26"
             ],
             [
              1,
              "#f0f921"
             ]
            ],
            "type": "surface"
           }
          ],
          "table": [
           {
            "cells": {
             "fill": {
              "color": "#EBF0F8"
             },
             "line": {
              "color": "white"
             }
            },
            "header": {
             "fill": {
              "color": "#C8D4E3"
             },
             "line": {
              "color": "white"
             }
            },
            "type": "table"
           }
          ]
         },
         "layout": {
          "annotationdefaults": {
           "arrowcolor": "#2a3f5f",
           "arrowhead": 0,
           "arrowwidth": 1
          },
          "autotypenumbers": "strict",
          "coloraxis": {
           "colorbar": {
            "outlinewidth": 0,
            "ticks": ""
           }
          },
          "colorscale": {
           "diverging": [
            [
             0,
             "#8e0152"
            ],
            [
             0.1,
             "#c51b7d"
            ],
            [
             0.2,
             "#de77ae"
            ],
            [
             0.3,
             "#f1b6da"
            ],
            [
             0.4,
             "#fde0ef"
            ],
            [
             0.5,
             "#f7f7f7"
            ],
            [
             0.6,
             "#e6f5d0"
            ],
            [
             0.7,
             "#b8e186"
            ],
            [
             0.8,
             "#7fbc41"
            ],
            [
             0.9,
             "#4d9221"
            ],
            [
             1,
             "#276419"
            ]
           ],
           "sequential": [
            [
             0,
             "#0d0887"
            ],
            [
             0.1111111111111111,
             "#46039f"
            ],
            [
             0.2222222222222222,
             "#7201a8"
            ],
            [
             0.3333333333333333,
             "#9c179e"
            ],
            [
             0.4444444444444444,
             "#bd3786"
            ],
            [
             0.5555555555555556,
             "#d8576b"
            ],
            [
             0.6666666666666666,
             "#ed7953"
            ],
            [
             0.7777777777777778,
             "#fb9f3a"
            ],
            [
             0.8888888888888888,
             "#fdca26"
            ],
            [
             1,
             "#f0f921"
            ]
           ],
           "sequentialminus": [
            [
             0,
             "#0d0887"
            ],
            [
             0.1111111111111111,
             "#46039f"
            ],
            [
             0.2222222222222222,
             "#7201a8"
            ],
            [
             0.3333333333333333,
             "#9c179e"
            ],
            [
             0.4444444444444444,
             "#bd3786"
            ],
            [
             0.5555555555555556,
             "#d8576b"
            ],
            [
             0.6666666666666666,
             "#ed7953"
            ],
            [
             0.7777777777777778,
             "#fb9f3a"
            ],
            [
             0.8888888888888888,
             "#fdca26"
            ],
            [
             1,
             "#f0f921"
            ]
           ]
          },
          "colorway": [
           "#636efa",
           "#EF553B",
           "#00cc96",
           "#ab63fa",
           "#FFA15A",
           "#19d3f3",
           "#FF6692",
           "#B6E880",
           "#FF97FF",
           "#FECB52"
          ],
          "font": {
           "color": "#2a3f5f"
          },
          "geo": {
           "bgcolor": "white",
           "lakecolor": "white",
           "landcolor": "white",
           "showlakes": true,
           "showland": true,
           "subunitcolor": "#C8D4E3"
          },
          "hoverlabel": {
           "align": "left"
          },
          "hovermode": "closest",
          "mapbox": {
           "style": "light"
          },
          "paper_bgcolor": "white",
          "plot_bgcolor": "white",
          "polar": {
           "angularaxis": {
            "gridcolor": "#EBF0F8",
            "linecolor": "#EBF0F8",
            "ticks": ""
           },
           "bgcolor": "white",
           "radialaxis": {
            "gridcolor": "#EBF0F8",
            "linecolor": "#EBF0F8",
            "ticks": ""
           }
          },
          "scene": {
           "xaxis": {
            "backgroundcolor": "white",
            "gridcolor": "#DFE8F3",
            "gridwidth": 2,
            "linecolor": "#EBF0F8",
            "showbackground": true,
            "ticks": "",
            "zerolinecolor": "#EBF0F8"
           },
           "yaxis": {
            "backgroundcolor": "white",
            "gridcolor": "#DFE8F3",
            "gridwidth": 2,
            "linecolor": "#EBF0F8",
            "showbackground": true,
            "ticks": "",
            "zerolinecolor": "#EBF0F8"
           },
           "zaxis": {
            "backgroundcolor": "white",
            "gridcolor": "#DFE8F3",
            "gridwidth": 2,
            "linecolor": "#EBF0F8",
            "showbackground": true,
            "ticks": "",
            "zerolinecolor": "#EBF0F8"
           }
          },
          "shapedefaults": {
           "line": {
            "color": "#2a3f5f"
           }
          },
          "ternary": {
           "aaxis": {
            "gridcolor": "#DFE8F3",
            "linecolor": "#A2B1C6",
            "ticks": ""
           },
           "baxis": {
            "gridcolor": "#DFE8F3",
            "linecolor": "#A2B1C6",
            "ticks": ""
           },
           "bgcolor": "white",
           "caxis": {
            "gridcolor": "#DFE8F3",
            "linecolor": "#A2B1C6",
            "ticks": ""
           }
          },
          "title": {
           "x": 0.05
          },
          "xaxis": {
           "automargin": true,
           "gridcolor": "#EBF0F8",
           "linecolor": "#EBF0F8",
           "ticks": "",
           "title": {
            "standoff": 15
           },
           "zerolinecolor": "#EBF0F8",
           "zerolinewidth": 2
          },
          "yaxis": {
           "automargin": true,
           "gridcolor": "#EBF0F8",
           "linecolor": "#EBF0F8",
           "ticks": "",
           "title": {
            "standoff": 15
           },
           "zerolinecolor": "#EBF0F8",
           "zerolinewidth": 2
          }
         }
        },
        "title": {
         "text": "Distribution of Hashtags"
        },
        "xaxis": {
         "anchor": "y",
         "domain": [
          0,
          1
         ],
         "title": {
          "text": "Hashtag"
         }
        },
        "yaxis": {
         "anchor": "x",
         "domain": [
          0,
          1
         ],
         "title": {
          "text": "Count"
         }
        }
       }
      }
     },
     "metadata": {},
     "output_type": "display_data"
    }
   ],
   "source": [
    "# Now let’s explore the hashtags column in detail. Each post contains different combinations of hashtags, \n",
    "# which impacts reach on Instagram. \n",
    "# So let’s have a look at the distribution of hashtags to see which hashtag is used the most in all the posts:\n",
    "\n",
    "# Create a list to store all hashtags\n",
    "all_hashtags = []\n",
    "\n",
    "# Iterate through each row in the 'Hashtags' column\n",
    "for row in data['Hashtags']:\n",
    "    hashtags = str(row).split()\n",
    "    hashtags = [tag.strip() for tag in hashtags]\n",
    "    all_hashtags.extend(hashtags)\n",
    "\n",
    "# Create a pandas DataFrame to store the hashtag distribution\n",
    "hashtag_distribution = pd.Series(all_hashtags).value_counts().reset_index()\n",
    "hashtag_distribution.columns = ['Hashtag', 'Count']\n",
    "\n",
    "fig = px.bar(hashtag_distribution, x='Hashtag', \n",
    "             y='Count', title='Distribution of Hashtags')\n",
    "fig.show()"
   ]
  },
  {
   "cell_type": "code",
   "execution_count": 21,
   "id": "825c53d0",
   "metadata": {},
   "outputs": [
    {
     "data": {
      "application/vnd.plotly.v1+json": {
       "config": {
        "plotlyServerURL": "https://plot.ly"
       },
       "data": [
        {
         "hovertemplate": "Hashtag=%{x}<br>Likes=%{y}<extra></extra>",
         "legendgroup": "",
         "marker": {
          "color": "#636efa",
          "pattern": {
           "shape": ""
          }
         },
         "name": "",
         "orientation": "v",
         "showlegend": false,
         "textposition": "auto",
         "type": "bar",
         "x": [
          "#finance",
          "#money",
          "#business",
          "#investing",
          "#investment",
          "#trading",
          "#stockmarket",
          "#data",
          "#datascience",
          "#dataanalysis",
          "#dataanalytics",
          "#datascientist",
          "#machinelearning",
          "#python",
          "#pythonprogramming",
          "#pythonprojects",
          "#pythoncode",
          "#artificialintelligence",
          "#ai",
          "#dataanalyst",
          "#amankharwal",
          "#thecleverprogrammer",
          "#healthcare",
          "#health",
          "#covid",
          "#deeplearning",
          "#machinelearningprojects",
          "#datascienceprojects",
          "#machinelearningmodels",
          "#pythonlearning",
          "#pythondeveloper",
          "#pythoncoding",
          "#pythonprogrammer",
          "#datavisualization",
          "#bigdata",
          "#dataviz",
          "#analytics",
          "#technology",
          "#programming",
          "#statistics",
          "#coding",
          "#businessintelligence",
          "#datamining",
          "#tech",
          "#computerscience",
          "#tableau",
          "#database",
          "#algorithm",
          "#algorithms",
          "#machinelearningalgorithms",
          "#ml",
          "#softskills",
          "#stocks",
          "#forex",
          "#candlestick",
          "#candlestickcharts",
          "#pythonbooks",
          "#bookstagram",
          "#powerbi",
          "#dataanalysisprojects",
          "#businessanalytics",
          "#neuralnetwork",
          "#neuralnetworks",
          "#tensorflow",
          "#artificialintelligenceai",
          "#alexnet",
          "#sentimentanalysis",
          "#sentiment",
          "#nlp",
          "#naturallanguageprocessing",
          "#timeseries",
          "#time",
          "#timeseriesanalysis",
          "#iot",
          "#analysis",
          "#timeseriesmalaysia",
          "#career",
          "#job",
          "#jobs",
          "#jobsearch",
          "#education",
          "#success",
          "#careergoals",
          "#motivation",
          "#work",
          "#careerdevelopment",
          "#careers",
          "#goals",
          "#resume",
          "#students",
          "#careeradvice",
          "#marketing",
          "#digitalmarketing",
          "#media",
          "#socialmedia",
          "#IT",
          "#webdevelopment",
          "#stress",
          "#stressdetection",
          "#zomato",
          "#casestudy",
          "#businessmodel",
          "#boxplots",
          "#programmer",
          "#developer",
          "#javascript",
          "#code",
          "#coder",
          "#java",
          "#html",
          "#css",
          "#webdeveloper",
          "#software",
          "#codinglife",
          "#softwaredeveloper",
          "#linux",
          "#programmingmemes",
          "#webdesign",
          "#programmers",
          "#php",
          "#programminglife",
          "#hacking",
          "#bitcoin",
          "#cryptocurrency",
          "#projects",
          "#casestudies",
          "#amazonfinds",
          "#security",
          "#cybersecurity",
          "#network",
          "#internet",
          "#cloud",
          "#innovation",
          "#google",
          "#facebook",
          "#interview",
          "#datascienceinterview",
          "#otp",
          "#otpverification",
          "#qrcodes",
          "#bigdataanalytics",
          "#recommended",
          "#recommendations",
          "#recommendationsystem",
          "#recommendation",
          "#codinginterview",
          "#flipkart",
          "#news",
          "#pythonprogram",
          "@codergallery",
          "#whatsapp",
          "#roadmap",
          "#ukraine",
          "#instagram",
          "#instagramreach",
          "#datasciencejobs",
          "#datasciencetraining",
          "#datascienceeducation",
          "#datasciencecourse",
          "#sql",
          "#mysql",
          "#python3",
          "#pythonprogramminglanguage",
          "#clustering"
         ],
         "xaxis": "x",
         "y": {
          "bdata": "EQIRAtwHEQJ8AXwBfAHlOrc/6TWzO285fUA+R3s/skGfN5s8dT01B+5P7k/ZAtkC2QKUMwohCiH5AksOSw5LDksOTglvCjcC0QdzDBsN5gY5DNgC2AKRCwILCQF3A08GTwYRCCIEkADaANoA2gDaAHwAfAARAoMBgwFgBFgCwgHCAVEAIQQhBNYE1gQsAywDLAMsAywDLAOaAagCmgGaAZoBmgGaAZoBmgGaAZoBmgGaAZoBmgGaAZoBmgGaAZoBsAUuAS4BSAFIAUgBTABuA24DbgNuA24DbgNuA24DbgNZBG4DbgNgAmACYAJgAmACYAJgAoYBhgEuAS4BuADrAOsA6wDrAOsA6wCWAFUAWAK0ABABEAGnAI4AdQF1AXUBdQEOAV4AYAB2AHYAsgANAssAqwCrABYHFgcWBxYHNAE0ASgBKAHwAA==",
          "dtype": "i2"
         },
         "yaxis": "y"
        }
       ],
       "layout": {
        "barmode": "relative",
        "legend": {
         "tracegroupgap": 0
        },
        "template": {
         "data": {
          "bar": [
           {
            "error_x": {
             "color": "#2a3f5f"
            },
            "error_y": {
             "color": "#2a3f5f"
            },
            "marker": {
             "line": {
              "color": "white",
              "width": 0.5
             },
             "pattern": {
              "fillmode": "overlay",
              "size": 10,
              "solidity": 0.2
             }
            },
            "type": "bar"
           }
          ],
          "barpolar": [
           {
            "marker": {
             "line": {
              "color": "white",
              "width": 0.5
             },
             "pattern": {
              "fillmode": "overlay",
              "size": 10,
              "solidity": 0.2
             }
            },
            "type": "barpolar"
           }
          ],
          "carpet": [
           {
            "aaxis": {
             "endlinecolor": "#2a3f5f",
             "gridcolor": "#C8D4E3",
             "linecolor": "#C8D4E3",
             "minorgridcolor": "#C8D4E3",
             "startlinecolor": "#2a3f5f"
            },
            "baxis": {
             "endlinecolor": "#2a3f5f",
             "gridcolor": "#C8D4E3",
             "linecolor": "#C8D4E3",
             "minorgridcolor": "#C8D4E3",
             "startlinecolor": "#2a3f5f"
            },
            "type": "carpet"
           }
          ],
          "choropleth": [
           {
            "colorbar": {
             "outlinewidth": 0,
             "ticks": ""
            },
            "type": "choropleth"
           }
          ],
          "contour": [
           {
            "colorbar": {
             "outlinewidth": 0,
             "ticks": ""
            },
            "colorscale": [
             [
              0,
              "#0d0887"
             ],
             [
              0.1111111111111111,
              "#46039f"
             ],
             [
              0.2222222222222222,
              "#7201a8"
             ],
             [
              0.3333333333333333,
              "#9c179e"
             ],
             [
              0.4444444444444444,
              "#bd3786"
             ],
             [
              0.5555555555555556,
              "#d8576b"
             ],
             [
              0.6666666666666666,
              "#ed7953"
             ],
             [
              0.7777777777777778,
              "#fb9f3a"
             ],
             [
              0.8888888888888888,
              "#fdca26"
             ],
             [
              1,
              "#f0f921"
             ]
            ],
            "type": "contour"
           }
          ],
          "contourcarpet": [
           {
            "colorbar": {
             "outlinewidth": 0,
             "ticks": ""
            },
            "type": "contourcarpet"
           }
          ],
          "heatmap": [
           {
            "colorbar": {
             "outlinewidth": 0,
             "ticks": ""
            },
            "colorscale": [
             [
              0,
              "#0d0887"
             ],
             [
              0.1111111111111111,
              "#46039f"
             ],
             [
              0.2222222222222222,
              "#7201a8"
             ],
             [
              0.3333333333333333,
              "#9c179e"
             ],
             [
              0.4444444444444444,
              "#bd3786"
             ],
             [
              0.5555555555555556,
              "#d8576b"
             ],
             [
              0.6666666666666666,
              "#ed7953"
             ],
             [
              0.7777777777777778,
              "#fb9f3a"
             ],
             [
              0.8888888888888888,
              "#fdca26"
             ],
             [
              1,
              "#f0f921"
             ]
            ],
            "type": "heatmap"
           }
          ],
          "histogram": [
           {
            "marker": {
             "pattern": {
              "fillmode": "overlay",
              "size": 10,
              "solidity": 0.2
             }
            },
            "type": "histogram"
           }
          ],
          "histogram2d": [
           {
            "colorbar": {
             "outlinewidth": 0,
             "ticks": ""
            },
            "colorscale": [
             [
              0,
              "#0d0887"
             ],
             [
              0.1111111111111111,
              "#46039f"
             ],
             [
              0.2222222222222222,
              "#7201a8"
             ],
             [
              0.3333333333333333,
              "#9c179e"
             ],
             [
              0.4444444444444444,
              "#bd3786"
             ],
             [
              0.5555555555555556,
              "#d8576b"
             ],
             [
              0.6666666666666666,
              "#ed7953"
             ],
             [
              0.7777777777777778,
              "#fb9f3a"
             ],
             [
              0.8888888888888888,
              "#fdca26"
             ],
             [
              1,
              "#f0f921"
             ]
            ],
            "type": "histogram2d"
           }
          ],
          "histogram2dcontour": [
           {
            "colorbar": {
             "outlinewidth": 0,
             "ticks": ""
            },
            "colorscale": [
             [
              0,
              "#0d0887"
             ],
             [
              0.1111111111111111,
              "#46039f"
             ],
             [
              0.2222222222222222,
              "#7201a8"
             ],
             [
              0.3333333333333333,
              "#9c179e"
             ],
             [
              0.4444444444444444,
              "#bd3786"
             ],
             [
              0.5555555555555556,
              "#d8576b"
             ],
             [
              0.6666666666666666,
              "#ed7953"
             ],
             [
              0.7777777777777778,
              "#fb9f3a"
             ],
             [
              0.8888888888888888,
              "#fdca26"
             ],
             [
              1,
              "#f0f921"
             ]
            ],
            "type": "histogram2dcontour"
           }
          ],
          "mesh3d": [
           {
            "colorbar": {
             "outlinewidth": 0,
             "ticks": ""
            },
            "type": "mesh3d"
           }
          ],
          "parcoords": [
           {
            "line": {
             "colorbar": {
              "outlinewidth": 0,
              "ticks": ""
             }
            },
            "type": "parcoords"
           }
          ],
          "pie": [
           {
            "automargin": true,
            "type": "pie"
           }
          ],
          "scatter": [
           {
            "fillpattern": {
             "fillmode": "overlay",
             "size": 10,
             "solidity": 0.2
            },
            "type": "scatter"
           }
          ],
          "scatter3d": [
           {
            "line": {
             "colorbar": {
              "outlinewidth": 0,
              "ticks": ""
             }
            },
            "marker": {
             "colorbar": {
              "outlinewidth": 0,
              "ticks": ""
             }
            },
            "type": "scatter3d"
           }
          ],
          "scattercarpet": [
           {
            "marker": {
             "colorbar": {
              "outlinewidth": 0,
              "ticks": ""
             }
            },
            "type": "scattercarpet"
           }
          ],
          "scattergeo": [
           {
            "marker": {
             "colorbar": {
              "outlinewidth": 0,
              "ticks": ""
             }
            },
            "type": "scattergeo"
           }
          ],
          "scattergl": [
           {
            "marker": {
             "colorbar": {
              "outlinewidth": 0,
              "ticks": ""
             }
            },
            "type": "scattergl"
           }
          ],
          "scattermap": [
           {
            "marker": {
             "colorbar": {
              "outlinewidth": 0,
              "ticks": ""
             }
            },
            "type": "scattermap"
           }
          ],
          "scattermapbox": [
           {
            "marker": {
             "colorbar": {
              "outlinewidth": 0,
              "ticks": ""
             }
            },
            "type": "scattermapbox"
           }
          ],
          "scatterpolar": [
           {
            "marker": {
             "colorbar": {
              "outlinewidth": 0,
              "ticks": ""
             }
            },
            "type": "scatterpolar"
           }
          ],
          "scatterpolargl": [
           {
            "marker": {
             "colorbar": {
              "outlinewidth": 0,
              "ticks": ""
             }
            },
            "type": "scatterpolargl"
           }
          ],
          "scatterternary": [
           {
            "marker": {
             "colorbar": {
              "outlinewidth": 0,
              "ticks": ""
             }
            },
            "type": "scatterternary"
           }
          ],
          "surface": [
           {
            "colorbar": {
             "outlinewidth": 0,
             "ticks": ""
            },
            "colorscale": [
             [
              0,
              "#0d0887"
             ],
             [
              0.1111111111111111,
              "#46039f"
             ],
             [
              0.2222222222222222,
              "#7201a8"
             ],
             [
              0.3333333333333333,
              "#9c179e"
             ],
             [
              0.4444444444444444,
              "#bd3786"
             ],
             [
              0.5555555555555556,
              "#d8576b"
             ],
             [
              0.6666666666666666,
              "#ed7953"
             ],
             [
              0.7777777777777778,
              "#fb9f3a"
             ],
             [
              0.8888888888888888,
              "#fdca26"
             ],
             [
              1,
              "#f0f921"
             ]
            ],
            "type": "surface"
           }
          ],
          "table": [
           {
            "cells": {
             "fill": {
              "color": "#EBF0F8"
             },
             "line": {
              "color": "white"
             }
            },
            "header": {
             "fill": {
              "color": "#C8D4E3"
             },
             "line": {
              "color": "white"
             }
            },
            "type": "table"
           }
          ]
         },
         "layout": {
          "annotationdefaults": {
           "arrowcolor": "#2a3f5f",
           "arrowhead": 0,
           "arrowwidth": 1
          },
          "autotypenumbers": "strict",
          "coloraxis": {
           "colorbar": {
            "outlinewidth": 0,
            "ticks": ""
           }
          },
          "colorscale": {
           "diverging": [
            [
             0,
             "#8e0152"
            ],
            [
             0.1,
             "#c51b7d"
            ],
            [
             0.2,
             "#de77ae"
            ],
            [
             0.3,
             "#f1b6da"
            ],
            [
             0.4,
             "#fde0ef"
            ],
            [
             0.5,
             "#f7f7f7"
            ],
            [
             0.6,
             "#e6f5d0"
            ],
            [
             0.7,
             "#b8e186"
            ],
            [
             0.8,
             "#7fbc41"
            ],
            [
             0.9,
             "#4d9221"
            ],
            [
             1,
             "#276419"
            ]
           ],
           "sequential": [
            [
             0,
             "#0d0887"
            ],
            [
             0.1111111111111111,
             "#46039f"
            ],
            [
             0.2222222222222222,
             "#7201a8"
            ],
            [
             0.3333333333333333,
             "#9c179e"
            ],
            [
             0.4444444444444444,
             "#bd3786"
            ],
            [
             0.5555555555555556,
             "#d8576b"
            ],
            [
             0.6666666666666666,
             "#ed7953"
            ],
            [
             0.7777777777777778,
             "#fb9f3a"
            ],
            [
             0.8888888888888888,
             "#fdca26"
            ],
            [
             1,
             "#f0f921"
            ]
           ],
           "sequentialminus": [
            [
             0,
             "#0d0887"
            ],
            [
             0.1111111111111111,
             "#46039f"
            ],
            [
             0.2222222222222222,
             "#7201a8"
            ],
            [
             0.3333333333333333,
             "#9c179e"
            ],
            [
             0.4444444444444444,
             "#bd3786"
            ],
            [
             0.5555555555555556,
             "#d8576b"
            ],
            [
             0.6666666666666666,
             "#ed7953"
            ],
            [
             0.7777777777777778,
             "#fb9f3a"
            ],
            [
             0.8888888888888888,
             "#fdca26"
            ],
            [
             1,
             "#f0f921"
            ]
           ]
          },
          "colorway": [
           "#636efa",
           "#EF553B",
           "#00cc96",
           "#ab63fa",
           "#FFA15A",
           "#19d3f3",
           "#FF6692",
           "#B6E880",
           "#FF97FF",
           "#FECB52"
          ],
          "font": {
           "color": "#2a3f5f"
          },
          "geo": {
           "bgcolor": "white",
           "lakecolor": "white",
           "landcolor": "white",
           "showlakes": true,
           "showland": true,
           "subunitcolor": "#C8D4E3"
          },
          "hoverlabel": {
           "align": "left"
          },
          "hovermode": "closest",
          "mapbox": {
           "style": "light"
          },
          "paper_bgcolor": "white",
          "plot_bgcolor": "white",
          "polar": {
           "angularaxis": {
            "gridcolor": "#EBF0F8",
            "linecolor": "#EBF0F8",
            "ticks": ""
           },
           "bgcolor": "white",
           "radialaxis": {
            "gridcolor": "#EBF0F8",
            "linecolor": "#EBF0F8",
            "ticks": ""
           }
          },
          "scene": {
           "xaxis": {
            "backgroundcolor": "white",
            "gridcolor": "#DFE8F3",
            "gridwidth": 2,
            "linecolor": "#EBF0F8",
            "showbackground": true,
            "ticks": "",
            "zerolinecolor": "#EBF0F8"
           },
           "yaxis": {
            "backgroundcolor": "white",
            "gridcolor": "#DFE8F3",
            "gridwidth": 2,
            "linecolor": "#EBF0F8",
            "showbackground": true,
            "ticks": "",
            "zerolinecolor": "#EBF0F8"
           },
           "zaxis": {
            "backgroundcolor": "white",
            "gridcolor": "#DFE8F3",
            "gridwidth": 2,
            "linecolor": "#EBF0F8",
            "showbackground": true,
            "ticks": "",
            "zerolinecolor": "#EBF0F8"
           }
          },
          "shapedefaults": {
           "line": {
            "color": "#2a3f5f"
           }
          },
          "ternary": {
           "aaxis": {
            "gridcolor": "#DFE8F3",
            "linecolor": "#A2B1C6",
            "ticks": ""
           },
           "baxis": {
            "gridcolor": "#DFE8F3",
            "linecolor": "#A2B1C6",
            "ticks": ""
           },
           "bgcolor": "white",
           "caxis": {
            "gridcolor": "#DFE8F3",
            "linecolor": "#A2B1C6",
            "ticks": ""
           }
          },
          "title": {
           "x": 0.05
          },
          "xaxis": {
           "automargin": true,
           "gridcolor": "#EBF0F8",
           "linecolor": "#EBF0F8",
           "ticks": "",
           "title": {
            "standoff": 15
           },
           "zerolinecolor": "#EBF0F8",
           "zerolinewidth": 2
          },
          "yaxis": {
           "automargin": true,
           "gridcolor": "#EBF0F8",
           "linecolor": "#EBF0F8",
           "ticks": "",
           "title": {
            "standoff": 15
           },
           "zerolinecolor": "#EBF0F8",
           "zerolinewidth": 2
          }
         }
        },
        "title": {
         "text": "Likes Distribution for Each Hashtag"
        },
        "xaxis": {
         "anchor": "y",
         "domain": [
          0,
          1
         ],
         "title": {
          "text": "Hashtag"
         }
        },
        "yaxis": {
         "anchor": "x",
         "domain": [
          0,
          1
         ],
         "title": {
          "text": "Likes"
         }
        }
       }
      }
     },
     "metadata": {},
     "output_type": "display_data"
    },
    {
     "data": {
      "application/vnd.plotly.v1+json": {
       "config": {
        "plotlyServerURL": "https://plot.ly"
       },
       "data": [
        {
         "hovertemplate": "Hashtag=%{x}<br>Impressions=%{y}<extra></extra>",
         "legendgroup": "",
         "marker": {
          "color": "#636efa",
          "pattern": {
           "shape": ""
          }
         },
         "name": "",
         "orientation": "v",
         "showlegend": false,
         "textposition": "auto",
         "type": "bar",
         "x": [
          "#finance",
          "#money",
          "#business",
          "#investing",
          "#investment",
          "#trading",
          "#stockmarket",
          "#data",
          "#datascience",
          "#dataanalysis",
          "#dataanalytics",
          "#datascientist",
          "#machinelearning",
          "#python",
          "#pythonprogramming",
          "#pythonprojects",
          "#pythoncode",
          "#artificialintelligence",
          "#ai",
          "#dataanalyst",
          "#amankharwal",
          "#thecleverprogrammer",
          "#healthcare",
          "#health",
          "#covid",
          "#deeplearning",
          "#machinelearningprojects",
          "#datascienceprojects",
          "#machinelearningmodels",
          "#pythonlearning",
          "#pythondeveloper",
          "#pythoncoding",
          "#pythonprogrammer",
          "#datavisualization",
          "#bigdata",
          "#dataviz",
          "#analytics",
          "#technology",
          "#programming",
          "#statistics",
          "#coding",
          "#businessintelligence",
          "#datamining",
          "#tech",
          "#computerscience",
          "#tableau",
          "#database",
          "#algorithm",
          "#algorithms",
          "#machinelearningalgorithms",
          "#ml",
          "#softskills",
          "#stocks",
          "#forex",
          "#candlestick",
          "#candlestickcharts",
          "#pythonbooks",
          "#bookstagram",
          "#powerbi",
          "#dataanalysisprojects",
          "#businessanalytics",
          "#neuralnetwork",
          "#neuralnetworks",
          "#tensorflow",
          "#artificialintelligenceai",
          "#alexnet",
          "#sentimentanalysis",
          "#sentiment",
          "#nlp",
          "#naturallanguageprocessing",
          "#timeseries",
          "#time",
          "#timeseriesanalysis",
          "#iot",
          "#analysis",
          "#timeseriesmalaysia",
          "#career",
          "#job",
          "#jobs",
          "#jobsearch",
          "#education",
          "#success",
          "#careergoals",
          "#motivation",
          "#work",
          "#careerdevelopment",
          "#careers",
          "#goals",
          "#resume",
          "#students",
          "#careeradvice",
          "#marketing",
          "#digitalmarketing",
          "#media",
          "#socialmedia",
          "#IT",
          "#webdevelopment",
          "#stress",
          "#stressdetection",
          "#zomato",
          "#casestudy",
          "#businessmodel",
          "#boxplots",
          "#programmer",
          "#developer",
          "#javascript",
          "#code",
          "#coder",
          "#java",
          "#html",
          "#css",
          "#webdeveloper",
          "#software",
          "#codinglife",
          "#softwaredeveloper",
          "#linux",
          "#programmingmemes",
          "#webdesign",
          "#programmers",
          "#php",
          "#programminglife",
          "#hacking",
          "#bitcoin",
          "#cryptocurrency",
          "#projects",
          "#casestudies",
          "#amazonfinds",
          "#security",
          "#cybersecurity",
          "#network",
          "#internet",
          "#cloud",
          "#innovation",
          "#google",
          "#facebook",
          "#interview",
          "#datascienceinterview",
          "#otp",
          "#otpverification",
          "#qrcodes",
          "#bigdataanalytics",
          "#recommended",
          "#recommendations",
          "#recommendationsystem",
          "#recommendation",
          "#codinginterview",
          "#flipkart",
          "#news",
          "#pythonprogram",
          "@codergallery",
          "#whatsapp",
          "#roadmap",
          "#ukraine",
          "#instagram",
          "#instagramreach",
          "#datasciencejobs",
          "#datasciencetraining",
          "#datascienceeducation",
          "#datasciencecourse",
          "#sql",
          "#mysql",
          "#python3",
          "#pythonprogramminglanguage",
          "#clustering"
         ],
         "xaxis": "x",
         "y": {
          "bdata": "kDcAAJA3AAC7yAAAkDcAAB0mAAAdJgAAHSYAAJllBwBgAQgAw/wGAHuYBwCiYQcAkyAIAMPSCAAiBAgAOKkIAAQtBwBOuQcAG9AHAMu3AACmQQoApkEKAHRHAAB0RwAAdEcAAIXLBgDTiQQA04kEAEFqAADdEgIA3RICAN0SAgDdEgIAYP0AAOQUAQBOPAAA2NAAABNOAQAUYAEAs7gAAEBFAQAzRgAAM0YAAD8zAQALJQEAahkAAEhWAADJ3wAAyd8AAGkXAQBsdgAALA8AAM0WAADNFgAAzRYAAM0WAADVDQAA1Q0AAE00AAC5JAAAuSQAAKx7AABhSAAAoDcAAKA3AACqCAAANoUAADaFAABHpgAAR6YAAKxXAACsVwAArFcAAKxXAACsVwAArFcAAEQfAAAIOgAARB8AAEQfAABEHwAARB8AAEQfAABEHwAARB8AAEQfAABEHwAARB8AAEQfAABEHwAARB8AAEQfAABEHwAARB8AAEQfAABEHwAAgIoAADAwAAAwMAAAXCoAAFwqAABcKgAAEAgAADtZAAA7WQAAO1kAADtZAAA7WQAAO1kAADtZAAA7WQAAO1kAAGBxAAA7WQAAO1kAAHc+AAB3PgAAdz4AAHc+AAB3PgAAdz4AAHc+AAApNwAAKTcAAKgeAACoHgAAjhcAACUYAAAlGAAAJRgAACUYAAAlGAAAJRgAAA4PAAAXCQAACz8AAIYTAABeHwAAXh8AAMoOAACUDwAANCcAADQnAAA0JwAANCcAAMQaAAARDgAAxQ0AAI0LAACNCwAAohUAALopAABBHwAAPxwAAD8cAACjUgEAo1IBAKNSAQCjUgEAMUUAADFFAAB3PgAAdz4AAI4mAAA=",
          "dtype": "i4"
         },
         "yaxis": "y"
        }
       ],
       "layout": {
        "barmode": "relative",
        "legend": {
         "tracegroupgap": 0
        },
        "template": {
         "data": {
          "bar": [
           {
            "error_x": {
             "color": "#2a3f5f"
            },
            "error_y": {
             "color": "#2a3f5f"
            },
            "marker": {
             "line": {
              "color": "white",
              "width": 0.5
             },
             "pattern": {
              "fillmode": "overlay",
              "size": 10,
              "solidity": 0.2
             }
            },
            "type": "bar"
           }
          ],
          "barpolar": [
           {
            "marker": {
             "line": {
              "color": "white",
              "width": 0.5
             },
             "pattern": {
              "fillmode": "overlay",
              "size": 10,
              "solidity": 0.2
             }
            },
            "type": "barpolar"
           }
          ],
          "carpet": [
           {
            "aaxis": {
             "endlinecolor": "#2a3f5f",
             "gridcolor": "#C8D4E3",
             "linecolor": "#C8D4E3",
             "minorgridcolor": "#C8D4E3",
             "startlinecolor": "#2a3f5f"
            },
            "baxis": {
             "endlinecolor": "#2a3f5f",
             "gridcolor": "#C8D4E3",
             "linecolor": "#C8D4E3",
             "minorgridcolor": "#C8D4E3",
             "startlinecolor": "#2a3f5f"
            },
            "type": "carpet"
           }
          ],
          "choropleth": [
           {
            "colorbar": {
             "outlinewidth": 0,
             "ticks": ""
            },
            "type": "choropleth"
           }
          ],
          "contour": [
           {
            "colorbar": {
             "outlinewidth": 0,
             "ticks": ""
            },
            "colorscale": [
             [
              0,
              "#0d0887"
             ],
             [
              0.1111111111111111,
              "#46039f"
             ],
             [
              0.2222222222222222,
              "#7201a8"
             ],
             [
              0.3333333333333333,
              "#9c179e"
             ],
             [
              0.4444444444444444,
              "#bd3786"
             ],
             [
              0.5555555555555556,
              "#d8576b"
             ],
             [
              0.6666666666666666,
              "#ed7953"
             ],
             [
              0.7777777777777778,
              "#fb9f3a"
             ],
             [
              0.8888888888888888,
              "#fdca26"
             ],
             [
              1,
              "#f0f921"
             ]
            ],
            "type": "contour"
           }
          ],
          "contourcarpet": [
           {
            "colorbar": {
             "outlinewidth": 0,
             "ticks": ""
            },
            "type": "contourcarpet"
           }
          ],
          "heatmap": [
           {
            "colorbar": {
             "outlinewidth": 0,
             "ticks": ""
            },
            "colorscale": [
             [
              0,
              "#0d0887"
             ],
             [
              0.1111111111111111,
              "#46039f"
             ],
             [
              0.2222222222222222,
              "#7201a8"
             ],
             [
              0.3333333333333333,
              "#9c179e"
             ],
             [
              0.4444444444444444,
              "#bd3786"
             ],
             [
              0.5555555555555556,
              "#d8576b"
             ],
             [
              0.6666666666666666,
              "#ed7953"
             ],
             [
              0.7777777777777778,
              "#fb9f3a"
             ],
             [
              0.8888888888888888,
              "#fdca26"
             ],
             [
              1,
              "#f0f921"
             ]
            ],
            "type": "heatmap"
           }
          ],
          "histogram": [
           {
            "marker": {
             "pattern": {
              "fillmode": "overlay",
              "size": 10,
              "solidity": 0.2
             }
            },
            "type": "histogram"
           }
          ],
          "histogram2d": [
           {
            "colorbar": {
             "outlinewidth": 0,
             "ticks": ""
            },
            "colorscale": [
             [
              0,
              "#0d0887"
             ],
             [
              0.1111111111111111,
              "#46039f"
             ],
             [
              0.2222222222222222,
              "#7201a8"
             ],
             [
              0.3333333333333333,
              "#9c179e"
             ],
             [
              0.4444444444444444,
              "#bd3786"
             ],
             [
              0.5555555555555556,
              "#d8576b"
             ],
             [
              0.6666666666666666,
              "#ed7953"
             ],
             [
              0.7777777777777778,
              "#fb9f3a"
             ],
             [
              0.8888888888888888,
              "#fdca26"
             ],
             [
              1,
              "#f0f921"
             ]
            ],
            "type": "histogram2d"
           }
          ],
          "histogram2dcontour": [
           {
            "colorbar": {
             "outlinewidth": 0,
             "ticks": ""
            },
            "colorscale": [
             [
              0,
              "#0d0887"
             ],
             [
              0.1111111111111111,
              "#46039f"
             ],
             [
              0.2222222222222222,
              "#7201a8"
             ],
             [
              0.3333333333333333,
              "#9c179e"
             ],
             [
              0.4444444444444444,
              "#bd3786"
             ],
             [
              0.5555555555555556,
              "#d8576b"
             ],
             [
              0.6666666666666666,
              "#ed7953"
             ],
             [
              0.7777777777777778,
              "#fb9f3a"
             ],
             [
              0.8888888888888888,
              "#fdca26"
             ],
             [
              1,
              "#f0f921"
             ]
            ],
            "type": "histogram2dcontour"
           }
          ],
          "mesh3d": [
           {
            "colorbar": {
             "outlinewidth": 0,
             "ticks": ""
            },
            "type": "mesh3d"
           }
          ],
          "parcoords": [
           {
            "line": {
             "colorbar": {
              "outlinewidth": 0,
              "ticks": ""
             }
            },
            "type": "parcoords"
           }
          ],
          "pie": [
           {
            "automargin": true,
            "type": "pie"
           }
          ],
          "scatter": [
           {
            "fillpattern": {
             "fillmode": "overlay",
             "size": 10,
             "solidity": 0.2
            },
            "type": "scatter"
           }
          ],
          "scatter3d": [
           {
            "line": {
             "colorbar": {
              "outlinewidth": 0,
              "ticks": ""
             }
            },
            "marker": {
             "colorbar": {
              "outlinewidth": 0,
              "ticks": ""
             }
            },
            "type": "scatter3d"
           }
          ],
          "scattercarpet": [
           {
            "marker": {
             "colorbar": {
              "outlinewidth": 0,
              "ticks": ""
             }
            },
            "type": "scattercarpet"
           }
          ],
          "scattergeo": [
           {
            "marker": {
             "colorbar": {
              "outlinewidth": 0,
              "ticks": ""
             }
            },
            "type": "scattergeo"
           }
          ],
          "scattergl": [
           {
            "marker": {
             "colorbar": {
              "outlinewidth": 0,
              "ticks": ""
             }
            },
            "type": "scattergl"
           }
          ],
          "scattermap": [
           {
            "marker": {
             "colorbar": {
              "outlinewidth": 0,
              "ticks": ""
             }
            },
            "type": "scattermap"
           }
          ],
          "scattermapbox": [
           {
            "marker": {
             "colorbar": {
              "outlinewidth": 0,
              "ticks": ""
             }
            },
            "type": "scattermapbox"
           }
          ],
          "scatterpolar": [
           {
            "marker": {
             "colorbar": {
              "outlinewidth": 0,
              "ticks": ""
             }
            },
            "type": "scatterpolar"
           }
          ],
          "scatterpolargl": [
           {
            "marker": {
             "colorbar": {
              "outlinewidth": 0,
              "ticks": ""
             }
            },
            "type": "scatterpolargl"
           }
          ],
          "scatterternary": [
           {
            "marker": {
             "colorbar": {
              "outlinewidth": 0,
              "ticks": ""
             }
            },
            "type": "scatterternary"
           }
          ],
          "surface": [
           {
            "colorbar": {
             "outlinewidth": 0,
             "ticks": ""
            },
            "colorscale": [
             [
              0,
              "#0d0887"
             ],
             [
              0.1111111111111111,
              "#46039f"
             ],
             [
              0.2222222222222222,
              "#7201a8"
             ],
             [
              0.3333333333333333,
              "#9c179e"
             ],
             [
              0.4444444444444444,
              "#bd3786"
             ],
             [
              0.5555555555555556,
              "#d8576b"
             ],
             [
              0.6666666666666666,
              "#ed7953"
             ],
             [
              0.7777777777777778,
              "#fb9f3a"
             ],
             [
              0.8888888888888888,
              "#fdca26"
             ],
             [
              1,
              "#f0f921"
             ]
            ],
            "type": "surface"
           }
          ],
          "table": [
           {
            "cells": {
             "fill": {
              "color": "#EBF0F8"
             },
             "line": {
              "color": "white"
             }
            },
            "header": {
             "fill": {
              "color": "#C8D4E3"
             },
             "line": {
              "color": "white"
             }
            },
            "type": "table"
           }
          ]
         },
         "layout": {
          "annotationdefaults": {
           "arrowcolor": "#2a3f5f",
           "arrowhead": 0,
           "arrowwidth": 1
          },
          "autotypenumbers": "strict",
          "coloraxis": {
           "colorbar": {
            "outlinewidth": 0,
            "ticks": ""
           }
          },
          "colorscale": {
           "diverging": [
            [
             0,
             "#8e0152"
            ],
            [
             0.1,
             "#c51b7d"
            ],
            [
             0.2,
             "#de77ae"
            ],
            [
             0.3,
             "#f1b6da"
            ],
            [
             0.4,
             "#fde0ef"
            ],
            [
             0.5,
             "#f7f7f7"
            ],
            [
             0.6,
             "#e6f5d0"
            ],
            [
             0.7,
             "#b8e186"
            ],
            [
             0.8,
             "#7fbc41"
            ],
            [
             0.9,
             "#4d9221"
            ],
            [
             1,
             "#276419"
            ]
           ],
           "sequential": [
            [
             0,
             "#0d0887"
            ],
            [
             0.1111111111111111,
             "#46039f"
            ],
            [
             0.2222222222222222,
             "#7201a8"
            ],
            [
             0.3333333333333333,
             "#9c179e"
            ],
            [
             0.4444444444444444,
             "#bd3786"
            ],
            [
             0.5555555555555556,
             "#d8576b"
            ],
            [
             0.6666666666666666,
             "#ed7953"
            ],
            [
             0.7777777777777778,
             "#fb9f3a"
            ],
            [
             0.8888888888888888,
             "#fdca26"
            ],
            [
             1,
             "#f0f921"
            ]
           ],
           "sequentialminus": [
            [
             0,
             "#0d0887"
            ],
            [
             0.1111111111111111,
             "#46039f"
            ],
            [
             0.2222222222222222,
             "#7201a8"
            ],
            [
             0.3333333333333333,
             "#9c179e"
            ],
            [
             0.4444444444444444,
             "#bd3786"
            ],
            [
             0.5555555555555556,
             "#d8576b"
            ],
            [
             0.6666666666666666,
             "#ed7953"
            ],
            [
             0.7777777777777778,
             "#fb9f3a"
            ],
            [
             0.8888888888888888,
             "#fdca26"
            ],
            [
             1,
             "#f0f921"
            ]
           ]
          },
          "colorway": [
           "#636efa",
           "#EF553B",
           "#00cc96",
           "#ab63fa",
           "#FFA15A",
           "#19d3f3",
           "#FF6692",
           "#B6E880",
           "#FF97FF",
           "#FECB52"
          ],
          "font": {
           "color": "#2a3f5f"
          },
          "geo": {
           "bgcolor": "white",
           "lakecolor": "white",
           "landcolor": "white",
           "showlakes": true,
           "showland": true,
           "subunitcolor": "#C8D4E3"
          },
          "hoverlabel": {
           "align": "left"
          },
          "hovermode": "closest",
          "mapbox": {
           "style": "light"
          },
          "paper_bgcolor": "white",
          "plot_bgcolor": "white",
          "polar": {
           "angularaxis": {
            "gridcolor": "#EBF0F8",
            "linecolor": "#EBF0F8",
            "ticks": ""
           },
           "bgcolor": "white",
           "radialaxis": {
            "gridcolor": "#EBF0F8",
            "linecolor": "#EBF0F8",
            "ticks": ""
           }
          },
          "scene": {
           "xaxis": {
            "backgroundcolor": "white",
            "gridcolor": "#DFE8F3",
            "gridwidth": 2,
            "linecolor": "#EBF0F8",
            "showbackground": true,
            "ticks": "",
            "zerolinecolor": "#EBF0F8"
           },
           "yaxis": {
            "backgroundcolor": "white",
            "gridcolor": "#DFE8F3",
            "gridwidth": 2,
            "linecolor": "#EBF0F8",
            "showbackground": true,
            "ticks": "",
            "zerolinecolor": "#EBF0F8"
           },
           "zaxis": {
            "backgroundcolor": "white",
            "gridcolor": "#DFE8F3",
            "gridwidth": 2,
            "linecolor": "#EBF0F8",
            "showbackground": true,
            "ticks": "",
            "zerolinecolor": "#EBF0F8"
           }
          },
          "shapedefaults": {
           "line": {
            "color": "#2a3f5f"
           }
          },
          "ternary": {
           "aaxis": {
            "gridcolor": "#DFE8F3",
            "linecolor": "#A2B1C6",
            "ticks": ""
           },
           "baxis": {
            "gridcolor": "#DFE8F3",
            "linecolor": "#A2B1C6",
            "ticks": ""
           },
           "bgcolor": "white",
           "caxis": {
            "gridcolor": "#DFE8F3",
            "linecolor": "#A2B1C6",
            "ticks": ""
           }
          },
          "title": {
           "x": 0.05
          },
          "xaxis": {
           "automargin": true,
           "gridcolor": "#EBF0F8",
           "linecolor": "#EBF0F8",
           "ticks": "",
           "title": {
            "standoff": 15
           },
           "zerolinecolor": "#EBF0F8",
           "zerolinewidth": 2
          },
          "yaxis": {
           "automargin": true,
           "gridcolor": "#EBF0F8",
           "linecolor": "#EBF0F8",
           "ticks": "",
           "title": {
            "standoff": 15
           },
           "zerolinecolor": "#EBF0F8",
           "zerolinewidth": 2
          }
         }
        },
        "title": {
         "text": "Impressions Distribution for Each Hashtag"
        },
        "xaxis": {
         "anchor": "y",
         "domain": [
          0,
          1
         ],
         "title": {
          "text": "Hashtag"
         }
        },
        "yaxis": {
         "anchor": "x",
         "domain": [
          0,
          1
         ],
         "title": {
          "text": "Impressions"
         }
        }
       }
      }
     },
     "metadata": {},
     "output_type": "display_data"
    }
   ],
   "source": [
    "# Now let’s have a look at the distribution of likes and impressions received from the presence of each hashtag on the post:\n",
    "# Create a dictionary to store the likes and impressions for each hashtag\n",
    "hashtag_likes = {}\n",
    "hashtag_impressions = {}\n",
    "\n",
    "# Iterate through each row in the dataset\n",
    "for index, row in data.iterrows():\n",
    "    hashtags = str(row['Hashtags']).split()\n",
    "    for hashtag in hashtags:\n",
    "        hashtag = hashtag.strip()\n",
    "        if hashtag not in hashtag_likes:\n",
    "            hashtag_likes[hashtag] = 0\n",
    "            hashtag_impressions[hashtag] = 0\n",
    "        hashtag_likes[hashtag] += row['Likes']\n",
    "        hashtag_impressions[hashtag] += row['Impressions']\n",
    "\n",
    "# Create a DataFrame for likes distribution\n",
    "likes_distribution = pd.DataFrame(list(hashtag_likes.items()), columns=['Hashtag', 'Likes'])\n",
    "\n",
    "# Create a DataFrame for impressions distribution\n",
    "impressions_distribution = pd.DataFrame(list(hashtag_impressions.items()), columns=['Hashtag', 'Impressions'])\n",
    "\n",
    "fig_likes = px.bar(likes_distribution, x='Hashtag', y='Likes', \n",
    "                   title='Likes Distribution for Each Hashtag')\n",
    "\n",
    "fig_impressions = px.bar(impressions_distribution, x='Hashtag', \n",
    "                         y='Impressions', \n",
    "                         title='Impressions Distribution for Each Hashtag')\n",
    "\n",
    "fig_likes.show()\n",
    "fig_impressions.show()"
   ]
  },
  {
   "cell_type": "markdown",
   "id": "2a7dab76",
   "metadata": {},
   "source": [
    "So this is how you can perform Exploratory Data Analysis using Python. The kind of graphs you should use while exploring your data depends on the kind of data you are dealing with. I hope this article has given you a good idea about how to perform EDA using Python."
   ]
  },
  {
   "cell_type": "markdown",
   "id": "054d6af9",
   "metadata": {},
   "source": [
    "## Summary\n",
    "\n",
    "Exploratory data analysis (EDA) is a Data Science concept where we analyze a dataset to discover patterns, trends, and relationships within the data. It helps us better understand the information contained in the dataset and guides us in making informed decisions and formulating strategies to solve real business problems. I hope you liked this article on Exploratory Data Analysis using Python."
   ]
  }
 ],
 "metadata": {
  "kernelspec": {
   "display_name": ".venv",
   "language": "python",
   "name": "python3"
  },
  "language_info": {
   "codemirror_mode": {
    "name": "ipython",
    "version": 3
   },
   "file_extension": ".py",
   "mimetype": "text/x-python",
   "name": "python",
   "nbconvert_exporter": "python",
   "pygments_lexer": "ipython3",
   "version": "3.11.5"
  }
 },
 "nbformat": 4,
 "nbformat_minor": 5
}
